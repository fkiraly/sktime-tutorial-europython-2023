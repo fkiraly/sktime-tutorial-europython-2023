{
 "cells": [
  {
   "attachments": {},
   "cell_type": "markdown",
   "metadata": {},
   "source": [
    "### Overview of this notebook\n",
    "\n",
    "* motivating example with modular building blocks\n",
    "    * connecting distances, aligners, classifiers\n",
    "* pairwise transformers - the \"type\" of time series distances and kernels\n",
    "* time series alignment and alignment distances, e.g., time warping\n",
    "* composition patterns for distances, kernels, aligners\n",
    "* outlook, roadmap, opportunities"
   ]
  },
  {
   "cell_type": "code",
   "execution_count": 1,
   "metadata": {},
   "outputs": [],
   "source": [
    "import warnings\n",
    "\n",
    "warnings.filterwarnings(\"ignore\")"
   ]
  },
  {
   "attachments": {},
   "cell_type": "markdown",
   "metadata": {},
   "source": [
    "## 3.1 Motivating example"
   ]
  },
  {
   "attachments": {},
   "cell_type": "markdown",
   "metadata": {},
   "source": [
    "Rich component relationships between object types!\n",
    "\n",
    "* many classifiers, regressors, clusterers use distances or kernels\n",
    "* distances and kernels are often composite, e.g., sum-of-distance, independent distance\n",
    "* TS distances are often based on scalar multivariate distances (e.g., Euclidean)\n",
    "* TS distances are often based on alignment, TS aligners are an estimator type!\n",
    "* aligners internally typically use scalar uni/multivariate distances"
   ]
  },
  {
   "attachments": {},
   "cell_type": "markdown",
   "metadata": {},
   "source": [
    "example:\n",
    "\n",
    "* 1-nn using `sklearn` nearest neighbors\n",
    "* with multivariate dynamic time warping distance, from `dtw-python` library \n",
    "* on multivariate `\"mahalanobis\"` distance from `scipy`\n",
    "* in `sktime` compatible interface, constructed from custom components"
   ]
  },
  {
   "attachments": {},
   "cell_type": "markdown",
   "metadata": {},
   "source": [
    "so, conceptually:\n",
    "\n",
    "* we build an sequence alignment algorithm (`dtw-python`) using `scipy` Mahalanobis dist\n",
    "* we get the distance matrix computation from alignment algorithm\n",
    "* we use that distance matrix in `sklearn` knn\n",
    "* together this is a time series classifier!"
   ]
  },
  {
   "cell_type": "code",
   "execution_count": 2,
   "metadata": {},
   "outputs": [],
   "source": [
    "from sktime.alignment.dtw_python import AlignerDTWfromDist\n",
    "from sktime.classification.distance_based import KNeighborsTimeSeriesClassifier\n",
    "from sktime.dists_kernels.compose_from_align import DistFromAligner\n",
    "from sktime.dists_kernels.scipy_dist import ScipyDist\n",
    "\n",
    "# Mahalanobis distance on R^n\n",
    "mahalanobis_dist = ScipyDist(metric=\"mahalanobis\")  # uses scipy distances\n",
    "\n",
    "# pairwise multivariate aligner from dtw-python with Mahalanobis distance\n",
    "mw_aligner = AlignerDTWfromDist(mahalanobis_dist)  # uses dtw-python\n",
    "\n",
    "# turning this into alignment distance on time series\n",
    "dtw_dist = DistFromAligner(mw_aligner)  # interface mutation to distance\n",
    "\n",
    "# and using this distance in a k-nn classifier\n",
    "clf = KNeighborsTimeSeriesClassifier(distance=dtw_dist)  # uses sklearn knn"
   ]
  },
  {
   "cell_type": "code",
   "execution_count": 3,
   "metadata": {},
   "outputs": [
    {
     "data": {
      "text/plain": [
       "{'algorithm': 'brute',\n",
       " 'distance': DistFromAligner(aligner=AlignerDTWfromDist(dist_trafo=ScipyDist(metric='mahalanobis'))),\n",
       " 'distance_mtype': None,\n",
       " 'distance_params': None,\n",
       " 'leaf_size': 30,\n",
       " 'n_jobs': None,\n",
       " 'n_neighbors': 1,\n",
       " 'pass_train_distances': False,\n",
       " 'weights': 'uniform',\n",
       " 'distance__aligner': AlignerDTWfromDist(dist_trafo=ScipyDist(metric='mahalanobis')),\n",
       " 'distance__aligner__dist_trafo': ScipyDist(metric='mahalanobis'),\n",
       " 'distance__aligner__open_begin': False,\n",
       " 'distance__aligner__open_end': False,\n",
       " 'distance__aligner__step_pattern': 'symmetric2',\n",
       " 'distance__aligner__window_type': 'none',\n",
       " 'distance__aligner__dist_trafo__colalign': 'intersect',\n",
       " 'distance__aligner__dist_trafo__metric': 'mahalanobis',\n",
       " 'distance__aligner__dist_trafo__metric_kwargs': None,\n",
       " 'distance__aligner__dist_trafo__p': 2,\n",
       " 'distance__aligner__dist_trafo__var_weights': None}"
      ]
     },
     "execution_count": 3,
     "metadata": {},
     "output_type": "execute_result"
    }
   ],
   "source": [
    "clf.get_params()"
   ]
  },
  {
   "attachments": {},
   "cell_type": "markdown",
   "metadata": {},
   "source": [
    "what are all the objects in this chain?\n",
    "\n",
    "* `ScipyDist` - pairwise distance between *scalars* - `transformer-pairwise` type\n",
    "* `AlignerDtwFromDist` - time series alignment algorithm - `aligner` type\n",
    "* `DistFromAligner`- pairwise distance between *time series* - `transformer-pairwise-panel` type\n",
    "* `KNeighborsTimeSeriesClassifier` - time series classifier"
   ]
  },
  {
   "cell_type": "code",
   "execution_count": 4,
   "metadata": {},
   "outputs": [
    {
     "data": {
      "text/plain": [
       "'aligner'"
      ]
     },
     "execution_count": 4,
     "metadata": {},
     "output_type": "execute_result"
    }
   ],
   "source": [
    "from sktime.registry import scitype\n",
    "\n",
    "scitype(mw_aligner)  # prints the type of estimator (as a string)\n",
    "# same for other components"
   ]
  },
  {
   "attachments": {},
   "cell_type": "markdown",
   "metadata": {},
   "source": [
    "let's go through these - we've already seen classifiers."
   ]
  },
  {
   "attachments": {},
   "cell_type": "markdown",
   "metadata": {},
   "source": [
    "## 3.2 Time series distances and kernels - pairwise panel transformers"
   ]
  },
  {
   "attachments": {},
   "cell_type": "markdown",
   "metadata": {},
   "source": [
    "### 3.2.1 Distances, kernels - general interface"
   ]
  },
  {
   "attachments": {},
   "cell_type": "markdown",
   "metadata": {},
   "source": [
    "pairwise panel transformers produce one distance per pair of series in the panel:"
   ]
  },
  {
   "cell_type": "code",
   "execution_count": 5,
   "metadata": {},
   "outputs": [],
   "source": [
    "from sktime.datasets import load_osuleaf\n",
    "\n",
    "# load an example time series panel in numpy mtype\n",
    "X, _ = load_osuleaf(return_type=\"numpy3D\")\n",
    "\n",
    "X1 = X[:3]\n",
    "X2 = X[5:10]"
   ]
  },
  {
   "cell_type": "code",
   "execution_count": 6,
   "metadata": {},
   "outputs": [],
   "source": [
    "# constructing the transformer\n",
    "from sktime.dists_kernels import FlatDist\n",
    "\n",
    "# paired Euclidean distances, over time points\n",
    "eucl_dist = FlatDist.create_test_instance()"
   ]
  },
  {
   "cell_type": "code",
   "execution_count": 7,
   "metadata": {},
   "outputs": [
    {
     "data": {
      "text/plain": [
       "(3, 1, 24)"
      ]
     },
     "execution_count": 7,
     "metadata": {},
     "output_type": "execute_result"
    }
   ],
   "source": [
    "X1.shape"
   ]
  },
  {
   "cell_type": "code",
   "execution_count": 8,
   "metadata": {},
   "outputs": [
    {
     "data": {
      "text/plain": [
       "(5, 1, 24)"
      ]
     },
     "execution_count": 8,
     "metadata": {},
     "output_type": "execute_result"
    }
   ],
   "source": [
    "X2.shape"
   ]
  },
  {
   "attachments": {},
   "cell_type": "markdown",
   "metadata": {},
   "source": [
    "X1 is panel with 3 series\n",
    "X2 is panel with 5 series\n",
    "\n",
    "so a matrix of pairwise distances from X1 to X2 should have shape (3, 5)"
   ]
  },
  {
   "cell_type": "code",
   "execution_count": 9,
   "metadata": {},
   "outputs": [
    {
     "data": {
      "text/plain": [
       "array([[5.02485732, 3.59735482, 2.19102015, 2.21094109, 3.44785626],\n",
       "       [5.03438946, 3.22205284, 1.32107749, 1.28227835, 2.10767238],\n",
       "       [3.58874836, 6.69034981, 7.73977309, 7.70945353, 7.55532282]])"
      ]
     },
     "execution_count": 9,
     "metadata": {},
     "output_type": "execute_result"
    }
   ],
   "source": [
    "distmat = eucl_dist(X1, X2)\n",
    "\n",
    "# alternatively, via the transform method\n",
    "distmat = eucl_dist.transform(X1, X2)\n",
    "distmat"
   ]
  },
  {
   "cell_type": "code",
   "execution_count": 10,
   "metadata": {},
   "outputs": [
    {
     "data": {
      "text/plain": [
       "(3, 5)"
      ]
     },
     "execution_count": 10,
     "metadata": {},
     "output_type": "execute_result"
    }
   ],
   "source": [
    "distmat.shape"
   ]
  },
  {
   "attachments": {},
   "cell_type": "markdown",
   "metadata": {},
   "source": [
    "call or `transform` with a single arg is the same as passing twice:"
   ]
  },
  {
   "cell_type": "code",
   "execution_count": 11,
   "metadata": {},
   "outputs": [
    {
     "data": {
      "text/plain": [
       "array([[0.        , 2.21059984, 7.22653506],\n",
       "       [2.21059984, 0.        , 7.31863575],\n",
       "       [7.22653506, 7.31863575, 0.        ]])"
      ]
     },
     "execution_count": 11,
     "metadata": {},
     "output_type": "execute_result"
    }
   ],
   "source": [
    "distmat_symm = eucl_dist.transform(X1)\n",
    "distmat_symm"
   ]
  },
  {
   "attachments": {},
   "cell_type": "markdown",
   "metadata": {},
   "source": [
    "pairwise panel transformers are `scikit-learn` / `scikit-base` interface compatible and composable, like everything else in `sktime`:"
   ]
  },
  {
   "cell_type": "code",
   "execution_count": 12,
   "metadata": {},
   "outputs": [
    {
     "data": {
      "text/plain": [
       "{'transformer': ScipyDist(),\n",
       " 'transformer__colalign': 'intersect',\n",
       " 'transformer__metric': 'euclidean',\n",
       " 'transformer__metric_kwargs': None,\n",
       " 'transformer__p': 2,\n",
       " 'transformer__var_weights': None}"
      ]
     },
     "execution_count": 12,
     "metadata": {},
     "output_type": "execute_result"
    }
   ],
   "source": [
    "eucl_dist.get_params()"
   ]
  },
  {
   "attachments": {},
   "cell_type": "markdown",
   "metadata": {},
   "source": [
    "### 3.2.2 Time series distances, kernels - composition"
   ]
  },
  {
   "attachments": {},
   "cell_type": "markdown",
   "metadata": {},
   "source": [
    "pairwise transformers can be composed in a number of ways:\n",
    "\n",
    "* arithmetics, e.g., addition, multiplication - use dunder `+`, `*` etc, or `CombinedDistance`\n",
    "* subset to one or multiple columns - use `my_dist[colnames]` dunder\n",
    "* sum or aggregate over univariate distance in multivariate panel, using `IndepDist` (also known as \"independent distance\")\n",
    "* compose with series-to-series transformers - use `*` dunder or `make_pipeline`"
   ]
  },
  {
   "cell_type": "code",
   "execution_count": 13,
   "metadata": {},
   "outputs": [
    {
     "data": {
      "text/plain": [
       "(3, 6, 100)"
      ]
     },
     "execution_count": 13,
     "metadata": {},
     "output_type": "execute_result"
    }
   ],
   "source": [
    "from sktime.datasets import load_basic_motions\n",
    "\n",
    "# load an example time series panel in numpy mtype\n",
    "X, _ = load_basic_motions(return_type=\"numpy3D\")\n",
    "X = X[:3]\n",
    "X.shape"
   ]
  },
  {
   "cell_type": "code",
   "execution_count": 14,
   "metadata": {},
   "outputs": [
    {
     "data": {
      "text/html": [
       "<style>#sk-9c186695-2af1-42ee-a3f7-ccb7bcd563ec {color: black;background-color: white;}#sk-9c186695-2af1-42ee-a3f7-ccb7bcd563ec pre{padding: 0;}#sk-9c186695-2af1-42ee-a3f7-ccb7bcd563ec div.sk-toggleable {background-color: white;}#sk-9c186695-2af1-42ee-a3f7-ccb7bcd563ec label.sk-toggleable__label {cursor: pointer;display: block;width: 100%;margin-bottom: 0;padding: 0.3em;box-sizing: border-box;text-align: center;}#sk-9c186695-2af1-42ee-a3f7-ccb7bcd563ec label.sk-toggleable__label-arrow:before {content: \"▸\";float: left;margin-right: 0.25em;color: #696969;}#sk-9c186695-2af1-42ee-a3f7-ccb7bcd563ec label.sk-toggleable__label-arrow:hover:before {color: black;}#sk-9c186695-2af1-42ee-a3f7-ccb7bcd563ec div.sk-estimator:hover label.sk-toggleable__label-arrow:before {color: black;}#sk-9c186695-2af1-42ee-a3f7-ccb7bcd563ec div.sk-toggleable__content {max-height: 0;max-width: 0;overflow: hidden;text-align: left;background-color: #f0f8ff;}#sk-9c186695-2af1-42ee-a3f7-ccb7bcd563ec div.sk-toggleable__content pre {margin: 0.2em;color: black;border-radius: 0.25em;background-color: #f0f8ff;}#sk-9c186695-2af1-42ee-a3f7-ccb7bcd563ec input.sk-toggleable__control:checked~div.sk-toggleable__content {max-height: 200px;max-width: 100%;overflow: auto;}#sk-9c186695-2af1-42ee-a3f7-ccb7bcd563ec input.sk-toggleable__control:checked~label.sk-toggleable__label-arrow:before {content: \"▾\";}#sk-9c186695-2af1-42ee-a3f7-ccb7bcd563ec div.sk-estimator input.sk-toggleable__control:checked~label.sk-toggleable__label {background-color: #d4ebff;}#sk-9c186695-2af1-42ee-a3f7-ccb7bcd563ec div.sk-label input.sk-toggleable__control:checked~label.sk-toggleable__label {background-color: #d4ebff;}#sk-9c186695-2af1-42ee-a3f7-ccb7bcd563ec input.sk-hidden--visually {border: 0;clip: rect(1px 1px 1px 1px);clip: rect(1px, 1px, 1px, 1px);height: 1px;margin: -1px;overflow: hidden;padding: 0;position: absolute;width: 1px;}#sk-9c186695-2af1-42ee-a3f7-ccb7bcd563ec div.sk-estimator {font-family: monospace;background-color: #f0f8ff;border: 1px dotted black;border-radius: 0.25em;box-sizing: border-box;margin-bottom: 0.5em;}#sk-9c186695-2af1-42ee-a3f7-ccb7bcd563ec div.sk-estimator:hover {background-color: #d4ebff;}#sk-9c186695-2af1-42ee-a3f7-ccb7bcd563ec div.sk-parallel-item::after {content: \"\";width: 100%;border-bottom: 1px solid gray;flex-grow: 1;}#sk-9c186695-2af1-42ee-a3f7-ccb7bcd563ec div.sk-label:hover label.sk-toggleable__label {background-color: #d4ebff;}#sk-9c186695-2af1-42ee-a3f7-ccb7bcd563ec div.sk-serial::before {content: \"\";position: absolute;border-left: 1px solid gray;box-sizing: border-box;top: 2em;bottom: 0;left: 50%;}#sk-9c186695-2af1-42ee-a3f7-ccb7bcd563ec div.sk-serial {display: flex;flex-direction: column;align-items: center;background-color: white;padding-right: 0.2em;padding-left: 0.2em;}#sk-9c186695-2af1-42ee-a3f7-ccb7bcd563ec div.sk-item {z-index: 1;}#sk-9c186695-2af1-42ee-a3f7-ccb7bcd563ec div.sk-parallel {display: flex;align-items: stretch;justify-content: center;background-color: white;}#sk-9c186695-2af1-42ee-a3f7-ccb7bcd563ec div.sk-parallel::before {content: \"\";position: absolute;border-left: 1px solid gray;box-sizing: border-box;top: 2em;bottom: 0;left: 50%;}#sk-9c186695-2af1-42ee-a3f7-ccb7bcd563ec div.sk-parallel-item {display: flex;flex-direction: column;position: relative;background-color: white;}#sk-9c186695-2af1-42ee-a3f7-ccb7bcd563ec div.sk-parallel-item:first-child::after {align-self: flex-end;width: 50%;}#sk-9c186695-2af1-42ee-a3f7-ccb7bcd563ec div.sk-parallel-item:last-child::after {align-self: flex-start;width: 50%;}#sk-9c186695-2af1-42ee-a3f7-ccb7bcd563ec div.sk-parallel-item:only-child::after {width: 0;}#sk-9c186695-2af1-42ee-a3f7-ccb7bcd563ec div.sk-dashed-wrapped {border: 1px dashed gray;margin: 0 0.4em 0.5em 0.4em;box-sizing: border-box;padding-bottom: 0.4em;background-color: white;position: relative;}#sk-9c186695-2af1-42ee-a3f7-ccb7bcd563ec div.sk-label label {font-family: monospace;font-weight: bold;background-color: white;display: inline-block;line-height: 1.2em;}#sk-9c186695-2af1-42ee-a3f7-ccb7bcd563ec div.sk-label-container {position: relative;z-index: 2;text-align: center;}#sk-9c186695-2af1-42ee-a3f7-ccb7bcd563ec div.sk-container {/* jupyter's `normalize.less` sets `[hidden] { display: none; }` but bootstrap.min.css set `[hidden] { display: none !important; }` so we also need the `!important` here to be able to override the default hidden behavior on the sphinx rendered scikit-learn.org. See: https://github.com/scikit-learn/scikit-learn/issues/21755 */display: inline-block !important;position: relative;}#sk-9c186695-2af1-42ee-a3f7-ccb7bcd563ec div.sk-text-repr-fallback {display: none;}</style><div id='sk-9c186695-2af1-42ee-a3f7-ccb7bcd563ec' class=\"sk-top-container\"><div class=\"sk-text-repr-fallback\"><pre>CombinedDistance(operation=&#x27;*&#x27;,\n",
       "                 pw_trafos=[PwTrafoPanelPipeline(pw_trafo=FlatDist(transformer=ScipyDist()),\n",
       "                                                 transformers=[ColumnSelect(columns=2)]),\n",
       "                            PwTrafoPanelPipeline(pw_trafo=FlatDist(transformer=ScipyDist()),\n",
       "                                                 transformers=[ColumnSelect(columns=5)])])</pre><b>Please rerun this cell to show the HTML repr or trust the notebook.</b></div><div class=\"sk-container\" hidden><div class=\"sk-item sk-dashed-wrapped\"><div class='sk-label-container'><div class=\"sk-label sk-toggleable\"><input class=\"sk-toggleable__control sk-hidden--visually\" id=UUID('20ea12d6-5dcb-4dbf-8c2d-13df1ccd57a2') type=\"checkbox\" ><label for=UUID('20ea12d6-5dcb-4dbf-8c2d-13df1ccd57a2') class='sk-toggleable__label sk-toggleable__label-arrow'>CombinedDistance</label><div class=\"sk-toggleable__content\"><pre>CombinedDistance(operation=&#x27;*&#x27;,\n",
       "                 pw_trafos=[PwTrafoPanelPipeline(pw_trafo=FlatDist(transformer=ScipyDist()),\n",
       "                                                 transformers=[ColumnSelect(columns=2)]),\n",
       "                            PwTrafoPanelPipeline(pw_trafo=FlatDist(transformer=ScipyDist()),\n",
       "                                                 transformers=[ColumnSelect(columns=5)])])</pre></div></div></div><div class=\"sk-parallel\"><div class=\"sk-parallel-item\"><div class=\"sk-item\"><div class=\"sk-serial\"><div class=\"sk-item sk-dashed-wrapped\"><div class=\"sk-parallel\"><div class=\"sk-parallel-item\"><div class=\"sk-item\"><div class=\"sk-serial\"><div class=\"sk-item sk-dashed-wrapped\"><div class=\"sk-parallel\"><div class=\"sk-parallel-item\"><div class=\"sk-item\"><div class=\"sk-serial\"><div class='sk-item'><div class=\"sk-estimator sk-toggleable\"><input class=\"sk-toggleable__control sk-hidden--visually\" id=UUID('a0a19414-5f8f-4f55-85a6-1993e794d9c9') type=\"checkbox\" ><label for=UUID('a0a19414-5f8f-4f55-85a6-1993e794d9c9') class='sk-toggleable__label sk-toggleable__label-arrow'>ScipyDist</label><div class=\"sk-toggleable__content\"><pre>ScipyDist()</pre></div></div></div></div></div></div></div></div></div></div></div><div class=\"sk-parallel-item\"><div class=\"sk-item\"><div class=\"sk-serial\"><div class='sk-item'><div class=\"sk-estimator sk-toggleable\"><input class=\"sk-toggleable__control sk-hidden--visually\" id=UUID('016f58be-5b69-489e-8bbe-85781c6e2310') type=\"checkbox\" ><label for=UUID('016f58be-5b69-489e-8bbe-85781c6e2310') class='sk-toggleable__label sk-toggleable__label-arrow'>ColumnSelect</label><div class=\"sk-toggleable__content\"><pre>ColumnSelect(columns=2)</pre></div></div></div></div></div></div></div></div></div></div></div><div class=\"sk-parallel-item\"><div class=\"sk-item\"><div class=\"sk-serial\"><div class=\"sk-item sk-dashed-wrapped\"><div class=\"sk-parallel\"><div class=\"sk-parallel-item\"><div class=\"sk-item\"><div class=\"sk-serial\"><div class=\"sk-item sk-dashed-wrapped\"><div class=\"sk-parallel\"><div class=\"sk-parallel-item\"><div class=\"sk-item\"><div class=\"sk-serial\"><div class='sk-item'><div class=\"sk-estimator sk-toggleable\"><input class=\"sk-toggleable__control sk-hidden--visually\" id=UUID('7087ec2c-20aa-4f98-879f-3af9b0dc49ba') type=\"checkbox\" ><label for=UUID('7087ec2c-20aa-4f98-879f-3af9b0dc49ba') class='sk-toggleable__label sk-toggleable__label-arrow'>ScipyDist</label><div class=\"sk-toggleable__content\"><pre>ScipyDist()</pre></div></div></div></div></div></div></div></div></div></div></div><div class=\"sk-parallel-item\"><div class=\"sk-item\"><div class=\"sk-serial\"><div class='sk-item'><div class=\"sk-estimator sk-toggleable\"><input class=\"sk-toggleable__control sk-hidden--visually\" id=UUID('930fd772-fb08-45bd-a097-70bdb8adabf2') type=\"checkbox\" ><label for=UUID('930fd772-fb08-45bd-a097-70bdb8adabf2') class='sk-toggleable__label sk-toggleable__label-arrow'>ColumnSelect</label><div class=\"sk-toggleable__content\"><pre>ColumnSelect(columns=5)</pre></div></div></div></div></div></div></div></div></div></div></div></div></div></div></div>"
      ],
      "text/plain": [
       "CombinedDistance(operation='*',\n",
       "                 pw_trafos=[PwTrafoPanelPipeline(pw_trafo=FlatDist(transformer=ScipyDist()),\n",
       "                                                 transformers=[ColumnSelect(columns=2)]),\n",
       "                            PwTrafoPanelPipeline(pw_trafo=FlatDist(transformer=ScipyDist()),\n",
       "                                                 transformers=[ColumnSelect(columns=5)])])"
      ]
     },
     "execution_count": 14,
     "metadata": {},
     "output_type": "execute_result"
    }
   ],
   "source": [
    "# example 1: variable subsetting and arithmetic combinations\n",
    "\n",
    "# first, euclidean distance as before\n",
    "from sktime.dists_kernels import FlatDist\n",
    "\n",
    "eucl_dist = FlatDist.create_test_instance()\n",
    "\n",
    "# product of the distances on variables 2 and 5\n",
    "prod_med_25 = eucl_dist[2] * eucl_dist[5]\n",
    "prod_med_25"
   ]
  },
  {
   "cell_type": "code",
   "execution_count": 15,
   "metadata": {},
   "outputs": [
    {
     "data": {
      "text/plain": [
       "array([[ 0.        , 87.98179201, 32.72165827],\n",
       "       [87.98179201,  0.        , 79.58756636],\n",
       "       [32.72165827, 79.58756636,  0.        ]])"
      ]
     },
     "execution_count": 15,
     "metadata": {},
     "output_type": "execute_result"
    }
   ],
   "source": [
    "prod_med_25(X)"
   ]
  },
  {
   "cell_type": "code",
   "execution_count": 16,
   "metadata": {},
   "outputs": [],
   "source": [
    "# example 2: independent dynamic time warping distance\n",
    "from sktime.alignment.dtw_python import AlignerDTW\n",
    "from sktime.dists_kernels.compose_from_align import DistFromAligner\n",
    "from sktime.dists_kernels.indep import IndepDist\n",
    "\n",
    "# dynamic time warping distance - this is multivariate\n",
    "dtw_dist = DistFromAligner(AlignerDTW())\n",
    "\n",
    "# independent distance - by default IndepDist sums over univariate distances\n",
    "indep_dtw_dist = IndepDist(dtw_dist)"
   ]
  },
  {
   "cell_type": "code",
   "execution_count": 17,
   "metadata": {},
   "outputs": [
    {
     "data": {
      "text/plain": [
       "array([[ 0.        , 31.7765985 , 32.65822   ],\n",
       "       [31.7765985 ,  0.        , 39.78652033],\n",
       "       [32.65822   , 39.78652033,  0.        ]])"
      ]
     },
     "execution_count": 17,
     "metadata": {},
     "output_type": "execute_result"
    }
   ],
   "source": [
    "indep_dtw_dist(X)"
   ]
  },
  {
   "cell_type": "code",
   "execution_count": 18,
   "metadata": {},
   "outputs": [],
   "source": [
    "# example 3: dynamic time warping distance on first differences\n",
    "from sktime.transformations.series.difference import Differencer\n",
    "\n",
    "diff_dtw_distance = Differencer() * dtw_dist"
   ]
  },
  {
   "cell_type": "code",
   "execution_count": 19,
   "metadata": {},
   "outputs": [
    {
     "data": {
      "text/plain": [
       "array([[ 0.      , 20.622806, 27.731956],\n",
       "       [20.622806,  0.      , 30.487498],\n",
       "       [27.731956, 30.487498,  0.      ]])"
      ]
     },
     "execution_count": 19,
     "metadata": {},
     "output_type": "execute_result"
    }
   ],
   "source": [
    "diff_dtw_distance(X)"
   ]
  },
  {
   "attachments": {},
   "cell_type": "markdown",
   "metadata": {},
   "source": [
    "some combinations may be available as efficient `numba` based distances.\n",
    "\n",
    "E.g., difference-then-dtw is available as the \"fixed\" `sktime` native implementation\n",
    "`DtwDist(derivative=True)` in `sktime.dists_kernels.dtw`."
   ]
  },
  {
   "attachments": {},
   "cell_type": "markdown",
   "metadata": {},
   "source": [
    "### 3.3 pairwise tabular transformers"
   ]
  },
  {
   "attachments": {},
   "cell_type": "markdown",
   "metadata": {},
   "source": [
    "### 3.3.1 pairwise tabular transformers - general interface"
   ]
  },
  {
   "attachments": {},
   "cell_type": "markdown",
   "metadata": {},
   "source": [
    "pairwise tabular transformers transform pairs of ordinary tabular data, e.g., plain `pd.DataFrame`\n",
    "\n",
    "produce one distance per pair of rows"
   ]
  },
  {
   "cell_type": "code",
   "execution_count": 20,
   "metadata": {},
   "outputs": [],
   "source": [
    "from sktime.datatypes import get_examples\n",
    "\n",
    "# we retrieve some DataFrame examples\n",
    "X_tabular = get_examples(\"pd.DataFrame\", \"Series\")[1]\n",
    "X2_tabular = get_examples(\"pd.DataFrame\", \"Series\")[1][0:3]"
   ]
  },
  {
   "cell_type": "code",
   "execution_count": 21,
   "metadata": {},
   "outputs": [
    {
     "data": {
      "text/html": [
       "<div>\n",
       "<style scoped>\n",
       "    .dataframe tbody tr th:only-of-type {\n",
       "        vertical-align: middle;\n",
       "    }\n",
       "\n",
       "    .dataframe tbody tr th {\n",
       "        vertical-align: top;\n",
       "    }\n",
       "\n",
       "    .dataframe thead th {\n",
       "        text-align: right;\n",
       "    }\n",
       "</style>\n",
       "<table border=\"1\" class=\"dataframe\">\n",
       "  <thead>\n",
       "    <tr style=\"text-align: right;\">\n",
       "      <th></th>\n",
       "      <th>a</th>\n",
       "      <th>b</th>\n",
       "    </tr>\n",
       "  </thead>\n",
       "  <tbody>\n",
       "    <tr>\n",
       "      <th>0</th>\n",
       "      <td>1.0</td>\n",
       "      <td>3.000000</td>\n",
       "    </tr>\n",
       "    <tr>\n",
       "      <th>1</th>\n",
       "      <td>4.0</td>\n",
       "      <td>7.000000</td>\n",
       "    </tr>\n",
       "    <tr>\n",
       "      <th>2</th>\n",
       "      <td>0.5</td>\n",
       "      <td>2.000000</td>\n",
       "    </tr>\n",
       "    <tr>\n",
       "      <th>3</th>\n",
       "      <td>-3.0</td>\n",
       "      <td>-0.428571</td>\n",
       "    </tr>\n",
       "  </tbody>\n",
       "</table>\n",
       "</div>"
      ],
      "text/plain": [
       "     a         b\n",
       "0  1.0  3.000000\n",
       "1  4.0  7.000000\n",
       "2  0.5  2.000000\n",
       "3 -3.0 -0.428571"
      ]
     },
     "execution_count": 21,
     "metadata": {},
     "output_type": "execute_result"
    }
   ],
   "source": [
    "# just an ordinary DataFrame, no time series\n",
    "X_tabular"
   ]
  },
  {
   "cell_type": "code",
   "execution_count": 22,
   "metadata": {},
   "outputs": [
    {
     "data": {
      "text/html": [
       "<div>\n",
       "<style scoped>\n",
       "    .dataframe tbody tr th:only-of-type {\n",
       "        vertical-align: middle;\n",
       "    }\n",
       "\n",
       "    .dataframe tbody tr th {\n",
       "        vertical-align: top;\n",
       "    }\n",
       "\n",
       "    .dataframe thead th {\n",
       "        text-align: right;\n",
       "    }\n",
       "</style>\n",
       "<table border=\"1\" class=\"dataframe\">\n",
       "  <thead>\n",
       "    <tr style=\"text-align: right;\">\n",
       "      <th></th>\n",
       "      <th>a</th>\n",
       "      <th>b</th>\n",
       "    </tr>\n",
       "  </thead>\n",
       "  <tbody>\n",
       "    <tr>\n",
       "      <th>0</th>\n",
       "      <td>1.0</td>\n",
       "      <td>3.0</td>\n",
       "    </tr>\n",
       "    <tr>\n",
       "      <th>1</th>\n",
       "      <td>4.0</td>\n",
       "      <td>7.0</td>\n",
       "    </tr>\n",
       "    <tr>\n",
       "      <th>2</th>\n",
       "      <td>0.5</td>\n",
       "      <td>2.0</td>\n",
       "    </tr>\n",
       "  </tbody>\n",
       "</table>\n",
       "</div>"
      ],
      "text/plain": [
       "     a    b\n",
       "0  1.0  3.0\n",
       "1  4.0  7.0\n",
       "2  0.5  2.0"
      ]
     },
     "execution_count": 22,
     "metadata": {},
     "output_type": "execute_result"
    }
   ],
   "source": [
    "X2_tabular"
   ]
  },
  {
   "attachments": {},
   "cell_type": "markdown",
   "metadata": {},
   "source": [
    "example: pairwise Euclidean distance between rows"
   ]
  },
  {
   "cell_type": "code",
   "execution_count": 23,
   "metadata": {},
   "outputs": [],
   "source": [
    "# constructing the transformer\n",
    "from sktime.dists_kernels import ScipyDist\n",
    "\n",
    "# mean of paired Euclidean distances\n",
    "my_tabular_dist = ScipyDist(metric=\"euclidean\")"
   ]
  },
  {
   "cell_type": "code",
   "execution_count": 24,
   "metadata": {},
   "outputs": [
    {
     "data": {
      "text/plain": [
       "array([[ 0.        ,  5.        ,  1.11803399],\n",
       "       [ 5.        ,  0.        ,  6.10327781],\n",
       "       [ 1.11803399,  6.10327781,  0.        ],\n",
       "       [ 5.26831112, 10.20704039,  4.26004216]])"
      ]
     },
     "execution_count": 24,
     "metadata": {},
     "output_type": "execute_result"
    }
   ],
   "source": [
    "# obtain matrix of distances between each pair of rows in X_tabular, X2_tabular\n",
    "my_tabular_dist(X_tabular, X2_tabular)"
   ]
  },
  {
   "cell_type": "code",
   "execution_count": 25,
   "metadata": {},
   "outputs": [
    {
     "data": {
      "text/plain": [
       "array([[ 0.        ,  5.        ,  1.11803399],\n",
       "       [ 5.        ,  0.        ,  6.10327781],\n",
       "       [ 1.11803399,  6.10327781,  0.        ],\n",
       "       [ 5.26831112, 10.20704039,  4.26004216]])"
      ]
     },
     "execution_count": 25,
     "metadata": {},
     "output_type": "execute_result"
    }
   ],
   "source": [
    "# alternative call with transform:\n",
    "my_tabular_dist.transform(X_tabular, X2_tabular)"
   ]
  },
  {
   "cell_type": "code",
   "execution_count": 26,
   "metadata": {},
   "outputs": [
    {
     "data": {
      "text/plain": [
       "array([[ 0.        ,  5.        ,  1.11803399,  5.26831112],\n",
       "       [ 5.        ,  0.        ,  6.10327781, 10.20704039],\n",
       "       [ 1.11803399,  6.10327781,  0.        ,  4.26004216],\n",
       "       [ 5.26831112, 10.20704039,  4.26004216,  0.        ]])"
      ]
     },
     "execution_count": 26,
     "metadata": {},
     "output_type": "execute_result"
    }
   ],
   "source": [
    "# as with pairwise panel transformers, one arg means second is the same\n",
    "my_tabular_dist(X_tabular)"
   ]
  },
  {
   "attachments": {},
   "cell_type": "markdown",
   "metadata": {},
   "source": [
    "### 3.3.2 constructing pairwise time series transformers from tabular ones"
   ]
  },
  {
   "attachments": {},
   "cell_type": "markdown",
   "metadata": {},
   "source": [
    "\"simple\" time series distances can be obtained directly from tabular transformers:\n",
    "\n",
    "* flattening the time series to tabular, and then computing the distance - `FlatDist`\n",
    "* aggregating the tabular distance matrix, from two individual time series - `AggrDist`\n",
    "\n",
    "these are important \"baseline\" distances!\n",
    "\n",
    "Both can be used on `sktime` pairwise transformers and `sklearn` pairwise transformers.\n",
    "\n",
    "the classes are called \"dist\" but all apply to kernels."
   ]
  },
  {
   "cell_type": "code",
   "execution_count": 27,
   "metadata": {},
   "outputs": [
    {
     "data": {
      "text/plain": [
       "(3, 6, 100)"
      ]
     },
     "execution_count": 27,
     "metadata": {},
     "output_type": "execute_result"
    }
   ],
   "source": [
    "from sktime.datasets import load_basic_motions\n",
    "\n",
    "# load an example time series panel in numpy mtype\n",
    "X, _ = load_basic_motions(return_type=\"numpy3D\")\n",
    "X = X[:3]\n",
    "X.shape"
   ]
  },
  {
   "cell_type": "code",
   "execution_count": 28,
   "metadata": {},
   "outputs": [
    {
     "data": {
      "text/plain": [
       "{'transformer': RBF(length_scale=10),\n",
       " 'transformer__length_scale': 10,\n",
       " 'transformer__length_scale_bounds': (1e-05, 100000.0)}"
      ]
     },
     "execution_count": 28,
     "metadata": {},
     "output_type": "execute_result"
    }
   ],
   "source": [
    "# example 1: flat Gaussian RBF kernel between time series\n",
    "from sklearn.gaussian_process.kernels import RBF\n",
    "from sktime.dists_kernels import FlatDist\n",
    "\n",
    "flat_gaussian_tskernel = FlatDist(RBF(length_scale=10))\n",
    "flat_gaussian_tskernel.get_params()"
   ]
  },
  {
   "cell_type": "code",
   "execution_count": 29,
   "metadata": {},
   "outputs": [
    {
     "data": {
      "text/plain": [
       "array([[1.        , 0.02267939, 0.28034066],\n",
       "       [0.02267939, 1.        , 0.05447445],\n",
       "       [0.28034066, 0.05447445, 1.        ]])"
      ]
     },
     "execution_count": 29,
     "metadata": {},
     "output_type": "execute_result"
    }
   ],
   "source": [
    "flat_gaussian_tskernel(X)"
   ]
  },
  {
   "cell_type": "code",
   "execution_count": 30,
   "metadata": {},
   "outputs": [
    {
     "data": {
      "text/plain": [
       "{'transformer': ScipyDist(metric='cosine'),\n",
       " 'transformer__colalign': 'intersect',\n",
       " 'transformer__metric': 'cosine',\n",
       " 'transformer__metric_kwargs': None,\n",
       " 'transformer__p': 2,\n",
       " 'transformer__var_weights': None}"
      ]
     },
     "execution_count": 30,
     "metadata": {},
     "output_type": "execute_result"
    }
   ],
   "source": [
    "# example 2: pairwise cosine distance - we've already seen FlatDist a couple times\n",
    "from sktime.dists_kernels import FlatDist, ScipyDist\n",
    "\n",
    "mean_cos_tsdist = FlatDist(ScipyDist(metric=\"cosine\"))\n",
    "mean_cos_tsdist.get_params()"
   ]
  },
  {
   "cell_type": "code",
   "execution_count": 31,
   "metadata": {},
   "outputs": [
    {
     "data": {
      "text/plain": [
       "array([[1.11022302e-16, 1.36699314e+00, 6.99338545e-01],\n",
       "       [1.36699314e+00, 0.00000000e+00, 1.10061843e+00],\n",
       "       [6.99338545e-01, 1.10061843e+00, 0.00000000e+00]])"
      ]
     },
     "execution_count": 31,
     "metadata": {},
     "output_type": "execute_result"
    }
   ],
   "source": [
    "mean_cos_tsdist(X)"
   ]
  },
  {
   "attachments": {},
   "cell_type": "markdown",
   "metadata": {},
   "source": [
    "## 3.4 alignment algorithms, aka aligners"
   ]
  },
  {
   "attachments": {},
   "cell_type": "markdown",
   "metadata": {},
   "source": [
    "* \"aligners\" find a new index set for 2 or more time series so they become \"similar\"\n",
    "* new index set being a non-linear reparameterization of the old index sets\n",
    "* often, aligners also produce an overall distance between the two series"
   ]
  },
  {
   "attachments": {},
   "cell_type": "markdown",
   "metadata": {},
   "source": [
    "### 3.4.1 aligners - general interface"
   ]
  },
  {
   "attachments": {},
   "cell_type": "markdown",
   "metadata": {},
   "source": [
    "aligner methods:\n",
    "\n",
    "* `fit` - computes alignment\n",
    "* `get_alignment` - returns reparametrized indices, also called \"alignment path\"\n",
    "* `get_aligned` returns reparametrized series\n",
    "* `get_distance` returns distance between the two aligned series - only available if `\"capability:get_distance\"`"
   ]
  },
  {
   "attachments": {},
   "cell_type": "markdown",
   "metadata": {},
   "source": [
    "let's try to align two leaves from osuleaf!"
   ]
  },
  {
   "cell_type": "code",
   "execution_count": 32,
   "metadata": {},
   "outputs": [],
   "source": [
    "from sktime.datasets import load_osuleaf\n",
    "\n",
    "# load an example time series panel in numpy mtype\n",
    "X, _ = load_osuleaf(return_type=\"pd-multiindex\")\n",
    "\n",
    "X1 = X.loc[0]  # leaf 0\n",
    "X2 = X.loc[1]  # leaf 1"
   ]
  },
  {
   "cell_type": "code",
   "execution_count": 33,
   "metadata": {},
   "outputs": [
    {
     "data": {
      "text/plain": [
       "(<Figure size 1600x400 with 1 Axes>, <Axes: >)"
      ]
     },
     "execution_count": 33,
     "metadata": {},
     "output_type": "execute_result"
    },
    {
     "data": {
      "image/png": "[encoded data removed]",
      "text/plain": [
       "<Figure size 1600x400 with 1 Axes>"
      ]
     },
     "metadata": {},
     "output_type": "display_data"
    }
   ],
   "source": [
    "from sktime.utils.plotting import plot_series\n",
    "\n",
    "plot_series(X1, X2, labels=[\"leaf_1\", \"leaf_2\"])"
   ]
  },
  {
   "cell_type": "code",
   "execution_count": 34,
   "metadata": {},
   "outputs": [],
   "source": [
    "from sktime.alignment.dtw_python import AlignerDTW\n",
    "\n",
    "# use dtw-python package for aligning\n",
    "# simple univariate alignment algorithm with default params\n",
    "aligner = AlignerDTW()"
   ]
  },
  {
   "cell_type": "code",
   "execution_count": 35,
   "metadata": {},
   "outputs": [
    {
     "data": {
      "text/html": [
       "<style>#sk-06c4b5e0-913e-4ebf-8803-28811ff7b699 {color: black;background-color: white;}#sk-06c4b5e0-913e-4ebf-8803-28811ff7b699 pre{padding: 0;}#sk-06c4b5e0-913e-4ebf-8803-28811ff7b699 div.sk-toggleable {background-color: white;}#sk-06c4b5e0-913e-4ebf-8803-28811ff7b699 label.sk-toggleable__label {cursor: pointer;display: block;width: 100%;margin-bottom: 0;padding: 0.3em;box-sizing: border-box;text-align: center;}#sk-06c4b5e0-913e-4ebf-8803-28811ff7b699 label.sk-toggleable__label-arrow:before {content: \"▸\";float: left;margin-right: 0.25em;color: #696969;}#sk-06c4b5e0-913e-4ebf-8803-28811ff7b699 label.sk-toggleable__label-arrow:hover:before {color: black;}#sk-06c4b5e0-913e-4ebf-8803-28811ff7b699 div.sk-estimator:hover label.sk-toggleable__label-arrow:before {color: black;}#sk-06c4b5e0-913e-4ebf-8803-28811ff7b699 div.sk-toggleable__content {max-height: 0;max-width: 0;overflow: hidden;text-align: left;background-color: #f0f8ff;}#sk-06c4b5e0-913e-4ebf-8803-28811ff7b699 div.sk-toggleable__content pre {margin: 0.2em;color: black;border-radius: 0.25em;background-color: #f0f8ff;}#sk-06c4b5e0-913e-4ebf-8803-28811ff7b699 input.sk-toggleable__control:checked~div.sk-toggleable__content {max-height: 200px;max-width: 100%;overflow: auto;}#sk-06c4b5e0-913e-4ebf-8803-28811ff7b699 input.sk-toggleable__control:checked~label.sk-toggleable__label-arrow:before {content: \"▾\";}#sk-06c4b5e0-913e-4ebf-8803-28811ff7b699 div.sk-estimator input.sk-toggleable__control:checked~label.sk-toggleable__label {background-color: #d4ebff;}#sk-06c4b5e0-913e-4ebf-8803-28811ff7b699 div.sk-label input.sk-toggleable__control:checked~label.sk-toggleable__label {background-color: #d4ebff;}#sk-06c4b5e0-913e-4ebf-8803-28811ff7b699 input.sk-hidden--visually {border: 0;clip: rect(1px 1px 1px 1px);clip: rect(1px, 1px, 1px, 1px);height: 1px;margin: -1px;overflow: hidden;padding: 0;position: absolute;width: 1px;}#sk-06c4b5e0-913e-4ebf-8803-28811ff7b699 div.sk-estimator {font-family: monospace;background-color: #f0f8ff;border: 1px dotted black;border-radius: 0.25em;box-sizing: border-box;margin-bottom: 0.5em;}#sk-06c4b5e0-913e-4ebf-8803-28811ff7b699 div.sk-estimator:hover {background-color: #d4ebff;}#sk-06c4b5e0-913e-4ebf-8803-28811ff7b699 div.sk-parallel-item::after {content: \"\";width: 100%;border-bottom: 1px solid gray;flex-grow: 1;}#sk-06c4b5e0-913e-4ebf-8803-28811ff7b699 div.sk-label:hover label.sk-toggleable__label {background-color: #d4ebff;}#sk-06c4b5e0-913e-4ebf-8803-28811ff7b699 div.sk-serial::before {content: \"\";position: absolute;border-left: 1px solid gray;box-sizing: border-box;top: 2em;bottom: 0;left: 50%;}#sk-06c4b5e0-913e-4ebf-8803-28811ff7b699 div.sk-serial {display: flex;flex-direction: column;align-items: center;background-color: white;padding-right: 0.2em;padding-left: 0.2em;}#sk-06c4b5e0-913e-4ebf-8803-28811ff7b699 div.sk-item {z-index: 1;}#sk-06c4b5e0-913e-4ebf-8803-28811ff7b699 div.sk-parallel {display: flex;align-items: stretch;justify-content: center;background-color: white;}#sk-06c4b5e0-913e-4ebf-8803-28811ff7b699 div.sk-parallel::before {content: \"\";position: absolute;border-left: 1px solid gray;box-sizing: border-box;top: 2em;bottom: 0;left: 50%;}#sk-06c4b5e0-913e-4ebf-8803-28811ff7b699 div.sk-parallel-item {display: flex;flex-direction: column;position: relative;background-color: white;}#sk-06c4b5e0-913e-4ebf-8803-28811ff7b699 div.sk-parallel-item:first-child::after {align-self: flex-end;width: 50%;}#sk-06c4b5e0-913e-4ebf-8803-28811ff7b699 div.sk-parallel-item:last-child::after {align-self: flex-start;width: 50%;}#sk-06c4b5e0-913e-4ebf-8803-28811ff7b699 div.sk-parallel-item:only-child::after {width: 0;}#sk-06c4b5e0-913e-4ebf-8803-28811ff7b699 div.sk-dashed-wrapped {border: 1px dashed gray;margin: 0 0.4em 0.5em 0.4em;box-sizing: border-box;padding-bottom: 0.4em;background-color: white;position: relative;}#sk-06c4b5e0-913e-4ebf-8803-28811ff7b699 div.sk-label label {font-family: monospace;font-weight: bold;background-color: white;display: inline-block;line-height: 1.2em;}#sk-06c4b5e0-913e-4ebf-8803-28811ff7b699 div.sk-label-container {position: relative;z-index: 2;text-align: center;}#sk-06c4b5e0-913e-4ebf-8803-28811ff7b699 div.sk-container {/* jupyter's `normalize.less` sets `[hidden] { display: none; }` but bootstrap.min.css set `[hidden] { display: none !important; }` so we also need the `!important` here to be able to override the default hidden behavior on the sphinx rendered scikit-learn.org. See: https://github.com/scikit-learn/scikit-learn/issues/21755 */display: inline-block !important;position: relative;}#sk-06c4b5e0-913e-4ebf-8803-28811ff7b699 div.sk-text-repr-fallback {display: none;}</style><div id='sk-06c4b5e0-913e-4ebf-8803-28811ff7b699' class=\"sk-top-container\"><div class=\"sk-text-repr-fallback\"><pre>AlignerDTW()</pre><b>Please rerun this cell to show the HTML repr or trust the notebook.</b></div><div class=\"sk-container\" hidden><div class='sk-item'><div class=\"sk-estimator sk-toggleable\"><input class=\"sk-toggleable__control sk-hidden--visually\" id=UUID('4b5bdc87-ecc0-46e8-9adf-ad6b9e33860a') type=\"checkbox\" checked><label for=UUID('4b5bdc87-ecc0-46e8-9adf-ad6b9e33860a') class='sk-toggleable__label sk-toggleable__label-arrow'>AlignerDTW</label><div class=\"sk-toggleable__content\"><pre>AlignerDTW()</pre></div></div></div></div></div>"
      ],
      "text/plain": [
       "AlignerDTW()"
      ]
     },
     "execution_count": 35,
     "metadata": {},
     "output_type": "execute_result"
    }
   ],
   "source": [
    "aligner.fit([X1, X2])  # series to align need to be passed as list"
   ]
  },
  {
   "cell_type": "code",
   "execution_count": 36,
   "metadata": {},
   "outputs": [
    {
     "data": {
      "text/html": [
       "<div>\n",
       "<style scoped>\n",
       "    .dataframe tbody tr th:only-of-type {\n",
       "        vertical-align: middle;\n",
       "    }\n",
       "\n",
       "    .dataframe tbody tr th {\n",
       "        vertical-align: top;\n",
       "    }\n",
       "\n",
       "    .dataframe thead th {\n",
       "        text-align: right;\n",
       "    }\n",
       "</style>\n",
       "<table border=\"1\" class=\"dataframe\">\n",
       "  <thead>\n",
       "    <tr style=\"text-align: right;\">\n",
       "      <th></th>\n",
       "      <th>ind0</th>\n",
       "      <th>ind1</th>\n",
       "    </tr>\n",
       "  </thead>\n",
       "  <tbody>\n",
       "    <tr>\n",
       "      <th>0</th>\n",
       "      <td>0</td>\n",
       "      <td>0</td>\n",
       "    </tr>\n",
       "    <tr>\n",
       "      <th>1</th>\n",
       "      <td>1</td>\n",
       "      <td>0</td>\n",
       "    </tr>\n",
       "    <tr>\n",
       "      <th>2</th>\n",
       "      <td>2</td>\n",
       "      <td>1</td>\n",
       "    </tr>\n",
       "    <tr>\n",
       "      <th>3</th>\n",
       "      <td>3</td>\n",
       "      <td>2</td>\n",
       "    </tr>\n",
       "    <tr>\n",
       "      <th>4</th>\n",
       "      <td>3</td>\n",
       "      <td>3</td>\n",
       "    </tr>\n",
       "    <tr>\n",
       "      <th>5</th>\n",
       "      <td>3</td>\n",
       "      <td>4</td>\n",
       "    </tr>\n",
       "    <tr>\n",
       "      <th>6</th>\n",
       "      <td>4</td>\n",
       "      <td>4</td>\n",
       "    </tr>\n",
       "    <tr>\n",
       "      <th>7</th>\n",
       "      <td>5</td>\n",
       "      <td>5</td>\n",
       "    </tr>\n",
       "    <tr>\n",
       "      <th>8</th>\n",
       "      <td>6</td>\n",
       "      <td>6</td>\n",
       "    </tr>\n",
       "    <tr>\n",
       "      <th>9</th>\n",
       "      <td>7</td>\n",
       "      <td>7</td>\n",
       "    </tr>\n",
       "    <tr>\n",
       "      <th>10</th>\n",
       "      <td>8</td>\n",
       "      <td>8</td>\n",
       "    </tr>\n",
       "    <tr>\n",
       "      <th>11</th>\n",
       "      <td>9</td>\n",
       "      <td>9</td>\n",
       "    </tr>\n",
       "    <tr>\n",
       "      <th>12</th>\n",
       "      <td>9</td>\n",
       "      <td>10</td>\n",
       "    </tr>\n",
       "    <tr>\n",
       "      <th>13</th>\n",
       "      <td>10</td>\n",
       "      <td>10</td>\n",
       "    </tr>\n",
       "    <tr>\n",
       "      <th>14</th>\n",
       "      <td>11</td>\n",
       "      <td>11</td>\n",
       "    </tr>\n",
       "    <tr>\n",
       "      <th>15</th>\n",
       "      <td>11</td>\n",
       "      <td>12</td>\n",
       "    </tr>\n",
       "    <tr>\n",
       "      <th>16</th>\n",
       "      <td>12</td>\n",
       "      <td>13</td>\n",
       "    </tr>\n",
       "    <tr>\n",
       "      <th>17</th>\n",
       "      <td>12</td>\n",
       "      <td>14</td>\n",
       "    </tr>\n",
       "    <tr>\n",
       "      <th>18</th>\n",
       "      <td>12</td>\n",
       "      <td>15</td>\n",
       "    </tr>\n",
       "    <tr>\n",
       "      <th>19</th>\n",
       "      <td>12</td>\n",
       "      <td>16</td>\n",
       "    </tr>\n",
       "    <tr>\n",
       "      <th>20</th>\n",
       "      <td>12</td>\n",
       "      <td>17</td>\n",
       "    </tr>\n",
       "    <tr>\n",
       "      <th>21</th>\n",
       "      <td>13</td>\n",
       "      <td>18</td>\n",
       "    </tr>\n",
       "    <tr>\n",
       "      <th>22</th>\n",
       "      <td>14</td>\n",
       "      <td>18</td>\n",
       "    </tr>\n",
       "    <tr>\n",
       "      <th>23</th>\n",
       "      <td>15</td>\n",
       "      <td>18</td>\n",
       "    </tr>\n",
       "    <tr>\n",
       "      <th>24</th>\n",
       "      <td>16</td>\n",
       "      <td>18</td>\n",
       "    </tr>\n",
       "    <tr>\n",
       "      <th>25</th>\n",
       "      <td>17</td>\n",
       "      <td>18</td>\n",
       "    </tr>\n",
       "    <tr>\n",
       "      <th>26</th>\n",
       "      <td>18</td>\n",
       "      <td>19</td>\n",
       "    </tr>\n",
       "    <tr>\n",
       "      <th>27</th>\n",
       "      <td>19</td>\n",
       "      <td>19</td>\n",
       "    </tr>\n",
       "    <tr>\n",
       "      <th>28</th>\n",
       "      <td>20</td>\n",
       "      <td>20</td>\n",
       "    </tr>\n",
       "    <tr>\n",
       "      <th>29</th>\n",
       "      <td>21</td>\n",
       "      <td>21</td>\n",
       "    </tr>\n",
       "    <tr>\n",
       "      <th>30</th>\n",
       "      <td>22</td>\n",
       "      <td>22</td>\n",
       "    </tr>\n",
       "    <tr>\n",
       "      <th>31</th>\n",
       "      <td>23</td>\n",
       "      <td>23</td>\n",
       "    </tr>\n",
       "  </tbody>\n",
       "</table>\n",
       "</div>"
      ],
      "text/plain": [
       "    ind0  ind1\n",
       "0      0     0\n",
       "1      1     0\n",
       "2      2     1\n",
       "3      3     2\n",
       "4      3     3\n",
       "5      3     4\n",
       "6      4     4\n",
       "7      5     5\n",
       "8      6     6\n",
       "9      7     7\n",
       "10     8     8\n",
       "11     9     9\n",
       "12     9    10\n",
       "13    10    10\n",
       "14    11    11\n",
       "15    11    12\n",
       "16    12    13\n",
       "17    12    14\n",
       "18    12    15\n",
       "19    12    16\n",
       "20    12    17\n",
       "21    13    18\n",
       "22    14    18\n",
       "23    15    18\n",
       "24    16    18\n",
       "25    17    18\n",
       "26    18    19\n",
       "27    19    19\n",
       "28    20    20\n",
       "29    21    21\n",
       "30    22    22\n",
       "31    23    23"
      ]
     },
     "execution_count": 36,
     "metadata": {},
     "output_type": "execute_result"
    }
   ],
   "source": [
    "# alignment path\n",
    "aligner.get_alignment()\n",
    "\n",
    "# this aligns, e.g.:\n",
    "# from row \"2\": aligns index 0 in X1 with index 2 of X2\n",
    "# from row \"664\": aligns index 424 in X1 with index 423 of X2"
   ]
  },
  {
   "cell_type": "code",
   "execution_count": 37,
   "metadata": {},
   "outputs": [],
   "source": [
    "# obtain the aligned versions of the two series\n",
    "X1_al, X2_al = aligner.get_aligned()"
   ]
  },
  {
   "cell_type": "code",
   "execution_count": 38,
   "metadata": {},
   "outputs": [
    {
     "data": {
      "text/plain": [
       "(<Figure size 1600x400 with 1 Axes>, <Axes: >)"
      ]
     },
     "execution_count": 38,
     "metadata": {},
     "output_type": "execute_result"
    },
    {
     "data": {
      "image/png": "[encoded data removed]",
      "text/plain": [
       "<Figure size 1600x400 with 1 Axes>"
      ]
     },
     "metadata": {},
     "output_type": "display_data"
    }
   ],
   "source": [
    "from sktime.utils.plotting import plot_series\n",
    "\n",
    "plot_series(X1_al.reset_index(drop=True), X2_al.reset_index(drop=True), labels=[\"leaf_1\", \"leaf_2\"])"
   ]
  },
  {
   "attachments": {},
   "cell_type": "markdown",
   "metadata": {},
   "source": [
    "the DTW aligner has a \"distance\" implemented\n",
    "\n",
    "intuitively, it is a distance that sums distance after aligning, and the amount of stretch:"
   ]
  },
  {
   "cell_type": "code",
   "execution_count": 39,
   "metadata": {},
   "outputs": [
    {
     "data": {
      "text/plain": [
       "{'python_dependencies_alias': {'dtw-python': 'dtw'},\n",
       " 'capability:multiple-alignment': False,\n",
       " 'capability:distance': True,\n",
       " 'capability:distance-matrix': True,\n",
       " 'python_dependencies': 'dtw-python'}"
      ]
     },
     "execution_count": 39,
     "metadata": {},
     "output_type": "execute_result"
    }
   ],
   "source": [
    "# the AlignerDTW class (based on dtw-python) doesn't just align, it also produces a distance\n",
    "aligner.get_tags()"
   ]
  },
  {
   "cell_type": "code",
   "execution_count": 40,
   "metadata": {},
   "outputs": [
    {
     "data": {
      "text/plain": [
       "8.282734981999997"
      ]
     },
     "execution_count": 40,
     "metadata": {},
     "output_type": "execute_result"
    }
   ],
   "source": [
    "# this is the distance between the two time series we aligned\n",
    "aligner.get_distance()"
   ]
  },
  {
   "attachments": {},
   "cell_type": "markdown",
   "metadata": {},
   "source": [
    "### 3.4.2 alignment based time series distances"
   ]
  },
  {
   "attachments": {},
   "cell_type": "markdown",
   "metadata": {},
   "source": [
    "the `DistFromAligner` wrapper simply computes distance per pair of aligned series.\n",
    "\n",
    "This turns any aligner into a time series distance:"
   ]
  },
  {
   "cell_type": "code",
   "execution_count": 41,
   "metadata": {},
   "outputs": [],
   "source": [
    "from sktime.alignment.dtw_python import AlignerDTW\n",
    "from sktime.dists_kernels.compose_from_align import DistFromAligner\n",
    "\n",
    "# dynamic time warping distance - this is multivariate\n",
    "dtw_dist = DistFromAligner(AlignerDTW())"
   ]
  },
  {
   "cell_type": "code",
   "execution_count": 42,
   "metadata": {},
   "outputs": [],
   "source": [
    "from sktime.datasets import load_osuleaf\n",
    "\n",
    "# load an example time series panel in numpy mtype\n",
    "X, _ = load_osuleaf(return_type=\"numpy3D\")\n",
    "\n",
    "X1 = X[:3]\n",
    "X2 = X[5:10]"
   ]
  },
  {
   "cell_type": "code",
   "execution_count": 43,
   "metadata": {},
   "outputs": [
    {
     "data": {
      "text/plain": [
       "array([[16.20666729, 11.08114716,  8.01728107,  7.76310399,  9.50661536],\n",
       "       [20.07092178, 12.38841529,  4.9980687 ,  5.38099438,  6.58028528],\n",
       "       [ 9.69803841, 22.01021323, 27.38894568, 29.73167835, 27.20667031]])"
      ]
     },
     "execution_count": 43,
     "metadata": {},
     "output_type": "execute_result"
    }
   ],
   "source": [
    "dtw_distmat = dtw_dist(X1, X2)\n",
    "dtw_distmat"
   ]
  },
  {
   "cell_type": "code",
   "execution_count": 44,
   "metadata": {},
   "outputs": [
    {
     "data": {
      "text/plain": [
       "(3, 5)"
      ]
     },
     "execution_count": 44,
     "metadata": {},
     "output_type": "execute_result"
    }
   ],
   "source": [
    "dtw_distmat.shape"
   ]
  },
  {
   "attachments": {},
   "cell_type": "markdown",
   "metadata": {},
   "source": [
    "## 3.5 revisiting the initial example"
   ]
  },
  {
   "cell_type": "code",
   "execution_count": 45,
   "metadata": {},
   "outputs": [],
   "source": [
    "from sktime.alignment.dtw_python import AlignerDTWfromDist\n",
    "from sktime.classification.distance_based import KNeighborsTimeSeriesClassifier\n",
    "from sktime.dists_kernels.compose_from_align import DistFromAligner\n",
    "from sktime.dists_kernels.scipy_dist import ScipyDist\n",
    "\n",
    "# Mahalanobis distance on R^n\n",
    "mahalanobis_dist = ScipyDist(metric=\"mahalanobis\")  # uses scipy distances\n",
    "\n",
    "# pairwise multivariate aligner from dtw-python with Mahalanobis distance\n",
    "mw_aligner = AlignerDTWfromDist(mahalanobis_dist)  # uses dtw-python\n",
    "\n",
    "# turning this into alignment distance on time series\n",
    "dtw_dist = DistFromAligner(mw_aligner)  # interface mutation to distance\n",
    "\n",
    "# and using this distance in a k-nn classifier\n",
    "clf = KNeighborsTimeSeriesClassifier(distance=dtw_dist)  # uses sklearn knn"
   ]
  },
  {
   "cell_type": "code",
   "execution_count": 46,
   "metadata": {},
   "outputs": [
    {
     "data": {
      "text/html": [
       "<style>#sk-23a2013a-37d7-47b9-8903-78d9bbefdbb3 {color: black;background-color: white;}#sk-23a2013a-37d7-47b9-8903-78d9bbefdbb3 pre{padding: 0;}#sk-23a2013a-37d7-47b9-8903-78d9bbefdbb3 div.sk-toggleable {background-color: white;}#sk-23a2013a-37d7-47b9-8903-78d9bbefdbb3 label.sk-toggleable__label {cursor: pointer;display: block;width: 100%;margin-bottom: 0;padding: 0.3em;box-sizing: border-box;text-align: center;}#sk-23a2013a-37d7-47b9-8903-78d9bbefdbb3 label.sk-toggleable__label-arrow:before {content: \"▸\";float: left;margin-right: 0.25em;color: #696969;}#sk-23a2013a-37d7-47b9-8903-78d9bbefdbb3 label.sk-toggleable__label-arrow:hover:before {color: black;}#sk-23a2013a-37d7-47b9-8903-78d9bbefdbb3 div.sk-estimator:hover label.sk-toggleable__label-arrow:before {color: black;}#sk-23a2013a-37d7-47b9-8903-78d9bbefdbb3 div.sk-toggleable__content {max-height: 0;max-width: 0;overflow: hidden;text-align: left;background-color: #f0f8ff;}#sk-23a2013a-37d7-47b9-8903-78d9bbefdbb3 div.sk-toggleable__content pre {margin: 0.2em;color: black;border-radius: 0.25em;background-color: #f0f8ff;}#sk-23a2013a-37d7-47b9-8903-78d9bbefdbb3 input.sk-toggleable__control:checked~div.sk-toggleable__content {max-height: 200px;max-width: 100%;overflow: auto;}#sk-23a2013a-37d7-47b9-8903-78d9bbefdbb3 input.sk-toggleable__control:checked~label.sk-toggleable__label-arrow:before {content: \"▾\";}#sk-23a2013a-37d7-47b9-8903-78d9bbefdbb3 div.sk-estimator input.sk-toggleable__control:checked~label.sk-toggleable__label {background-color: #d4ebff;}#sk-23a2013a-37d7-47b9-8903-78d9bbefdbb3 div.sk-label input.sk-toggleable__control:checked~label.sk-toggleable__label {background-color: #d4ebff;}#sk-23a2013a-37d7-47b9-8903-78d9bbefdbb3 input.sk-hidden--visually {border: 0;clip: rect(1px 1px 1px 1px);clip: rect(1px, 1px, 1px, 1px);height: 1px;margin: -1px;overflow: hidden;padding: 0;position: absolute;width: 1px;}#sk-23a2013a-37d7-47b9-8903-78d9bbefdbb3 div.sk-estimator {font-family: monospace;background-color: #f0f8ff;border: 1px dotted black;border-radius: 0.25em;box-sizing: border-box;margin-bottom: 0.5em;}#sk-23a2013a-37d7-47b9-8903-78d9bbefdbb3 div.sk-estimator:hover {background-color: #d4ebff;}#sk-23a2013a-37d7-47b9-8903-78d9bbefdbb3 div.sk-parallel-item::after {content: \"\";width: 100%;border-bottom: 1px solid gray;flex-grow: 1;}#sk-23a2013a-37d7-47b9-8903-78d9bbefdbb3 div.sk-label:hover label.sk-toggleable__label {background-color: #d4ebff;}#sk-23a2013a-37d7-47b9-8903-78d9bbefdbb3 div.sk-serial::before {content: \"\";position: absolute;border-left: 1px solid gray;box-sizing: border-box;top: 2em;bottom: 0;left: 50%;}#sk-23a2013a-37d7-47b9-8903-78d9bbefdbb3 div.sk-serial {display: flex;flex-direction: column;align-items: center;background-color: white;padding-right: 0.2em;padding-left: 0.2em;}#sk-23a2013a-37d7-47b9-8903-78d9bbefdbb3 div.sk-item {z-index: 1;}#sk-23a2013a-37d7-47b9-8903-78d9bbefdbb3 div.sk-parallel {display: flex;align-items: stretch;justify-content: center;background-color: white;}#sk-23a2013a-37d7-47b9-8903-78d9bbefdbb3 div.sk-parallel::before {content: \"\";position: absolute;border-left: 1px solid gray;box-sizing: border-box;top: 2em;bottom: 0;left: 50%;}#sk-23a2013a-37d7-47b9-8903-78d9bbefdbb3 div.sk-parallel-item {display: flex;flex-direction: column;position: relative;background-color: white;}#sk-23a2013a-37d7-47b9-8903-78d9bbefdbb3 div.sk-parallel-item:first-child::after {align-self: flex-end;width: 50%;}#sk-23a2013a-37d7-47b9-8903-78d9bbefdbb3 div.sk-parallel-item:last-child::after {align-self: flex-start;width: 50%;}#sk-23a2013a-37d7-47b9-8903-78d9bbefdbb3 div.sk-parallel-item:only-child::after {width: 0;}#sk-23a2013a-37d7-47b9-8903-78d9bbefdbb3 div.sk-dashed-wrapped {border: 1px dashed gray;margin: 0 0.4em 0.5em 0.4em;box-sizing: border-box;padding-bottom: 0.4em;background-color: white;position: relative;}#sk-23a2013a-37d7-47b9-8903-78d9bbefdbb3 div.sk-label label {font-family: monospace;font-weight: bold;background-color: white;display: inline-block;line-height: 1.2em;}#sk-23a2013a-37d7-47b9-8903-78d9bbefdbb3 div.sk-label-container {position: relative;z-index: 2;text-align: center;}#sk-23a2013a-37d7-47b9-8903-78d9bbefdbb3 div.sk-container {/* jupyter's `normalize.less` sets `[hidden] { display: none; }` but bootstrap.min.css set `[hidden] { display: none !important; }` so we also need the `!important` here to be able to override the default hidden behavior on the sphinx rendered scikit-learn.org. See: https://github.com/scikit-learn/scikit-learn/issues/21755 */display: inline-block !important;position: relative;}#sk-23a2013a-37d7-47b9-8903-78d9bbefdbb3 div.sk-text-repr-fallback {display: none;}</style><div id='sk-23a2013a-37d7-47b9-8903-78d9bbefdbb3' class=\"sk-top-container\"><div class=\"sk-text-repr-fallback\"><pre>KNeighborsTimeSeriesClassifier(distance=DistFromAligner(aligner=AlignerDTWfromDist(dist_trafo=ScipyDist(metric=&#x27;mahalanobis&#x27;))))</pre><b>Please rerun this cell to show the HTML repr or trust the notebook.</b></div><div class=\"sk-container\" hidden><div class=\"sk-item sk-dashed-wrapped\"><div class='sk-label-container'><div class=\"sk-label sk-toggleable\"><input class=\"sk-toggleable__control sk-hidden--visually\" id=UUID('d13357e0-c4c0-4880-8287-6c8c004c2acd') type=\"checkbox\" ><label for=UUID('d13357e0-c4c0-4880-8287-6c8c004c2acd') class='sk-toggleable__label sk-toggleable__label-arrow'>KNeighborsTimeSeriesClassifier</label><div class=\"sk-toggleable__content\"><pre>KNeighborsTimeSeriesClassifier(distance=DistFromAligner(aligner=AlignerDTWfromDist(dist_trafo=ScipyDist(metric=&#x27;mahalanobis&#x27;))))</pre></div></div></div><div class=\"sk-parallel\"><div class=\"sk-parallel-item\"><div class=\"sk-item\"><div class=\"sk-serial\"><div class=\"sk-item sk-dashed-wrapped\"><div class=\"sk-parallel\"><div class=\"sk-parallel-item\"><div class=\"sk-item\"><div class=\"sk-serial\"><div class=\"sk-item sk-dashed-wrapped\"><div class=\"sk-parallel\"><div class=\"sk-parallel-item\"><div class=\"sk-item\"><div class=\"sk-serial\"><div class='sk-item'><div class=\"sk-estimator sk-toggleable\"><input class=\"sk-toggleable__control sk-hidden--visually\" id=UUID('5b3d5a22-c54c-4140-9c14-0ba7b32d94bb') type=\"checkbox\" ><label for=UUID('5b3d5a22-c54c-4140-9c14-0ba7b32d94bb') class='sk-toggleable__label sk-toggleable__label-arrow'>ScipyDist</label><div class=\"sk-toggleable__content\"><pre>ScipyDist(metric=&#x27;mahalanobis&#x27;)</pre></div></div></div></div></div></div></div></div></div></div></div></div></div></div></div></div></div></div></div></div>"
      ],
      "text/plain": [
       "KNeighborsTimeSeriesClassifier(distance=DistFromAligner(aligner=AlignerDTWfromDist(dist_trafo=ScipyDist(metric='mahalanobis'))))"
      ]
     },
     "execution_count": 46,
     "metadata": {},
     "output_type": "execute_result"
    }
   ],
   "source": [
    "clf"
   ]
  },
  {
   "attachments": {},
   "cell_type": "markdown",
   "metadata": {},
   "source": [
    "* we build an sequence alignment algorithm (`dtw-python`) using `scipy` Mahalanobis dist\n",
    "* we get the distance matrix computation from alignment algorithm\n",
    "* we use that distance matrix in `sklearn` knn\n",
    "* together this is a time series classifier!"
   ]
  },
  {
   "attachments": {},
   "cell_type": "markdown",
   "metadata": {},
   "source": [
    "## 3.6 Searching for distances, kernels, transformers"
   ]
  },
  {
   "attachments": {},
   "cell_type": "markdown",
   "metadata": {},
   "source": [
    "As with all `sktime` objects, we can use the `registry.all_estimators` utility to display all transformers in `sktime`.\n",
    "\n",
    "The relevant scitypes are:\n",
    "\n",
    "* `\"transformer-pairwise\"` for all pairwise transformers on tabular data\n",
    "* `\"transformer-panel\"` for all pairwise transformers on panel data\n",
    "* `\"aligner\"` for all time series aligners\n",
    "* `\"transformer\"` for all transformers, these can be composed with all the aboev"
   ]
  },
  {
   "cell_type": "code",
   "execution_count": 47,
   "metadata": {},
   "outputs": [],
   "source": [
    "from sktime.registry import all_estimators"
   ]
  },
  {
   "cell_type": "code",
   "execution_count": 48,
   "metadata": {},
   "outputs": [
    {
     "data": {
      "text/html": [
       "<div>\n",
       "<style scoped>\n",
       "    .dataframe tbody tr th:only-of-type {\n",
       "        vertical-align: middle;\n",
       "    }\n",
       "\n",
       "    .dataframe tbody tr th {\n",
       "        vertical-align: top;\n",
       "    }\n",
       "\n",
       "    .dataframe thead th {\n",
       "        text-align: right;\n",
       "    }\n",
       "</style>\n",
       "<table border=\"1\" class=\"dataframe\">\n",
       "  <thead>\n",
       "    <tr style=\"text-align: right;\">\n",
       "      <th></th>\n",
       "      <th>name</th>\n",
       "      <th>object</th>\n",
       "    </tr>\n",
       "  </thead>\n",
       "  <tbody>\n",
       "    <tr>\n",
       "      <th>0</th>\n",
       "      <td>AggrDist</td>\n",
       "      <td>&lt;class 'sktime.dists_kernels.compose_tab_to_pa...</td>\n",
       "    </tr>\n",
       "    <tr>\n",
       "      <th>1</th>\n",
       "      <td>CombinedDistance</td>\n",
       "      <td>&lt;class 'sktime.dists_kernels.algebra.CombinedD...</td>\n",
       "    </tr>\n",
       "    <tr>\n",
       "      <th>2</th>\n",
       "      <td>ConstantPwTrafoPanel</td>\n",
       "      <td>&lt;class 'sktime.dists_kernels.dummy.ConstantPwT...</td>\n",
       "    </tr>\n",
       "    <tr>\n",
       "      <th>3</th>\n",
       "      <td>DistFromAligner</td>\n",
       "      <td>&lt;class 'sktime.dists_kernels.compose_from_alig...</td>\n",
       "    </tr>\n",
       "    <tr>\n",
       "      <th>4</th>\n",
       "      <td>DistFromKernel</td>\n",
       "      <td>&lt;class 'sktime.dists_kernels.dist_to_kern.Dist...</td>\n",
       "    </tr>\n",
       "    <tr>\n",
       "      <th>5</th>\n",
       "      <td>DtwDist</td>\n",
       "      <td>&lt;class 'sktime.dists_kernels.dtw.DtwDist'&gt;</td>\n",
       "    </tr>\n",
       "    <tr>\n",
       "      <th>6</th>\n",
       "      <td>EditDist</td>\n",
       "      <td>&lt;class 'sktime.dists_kernels.edit_dist.EditDist'&gt;</td>\n",
       "    </tr>\n",
       "    <tr>\n",
       "      <th>7</th>\n",
       "      <td>FlatDist</td>\n",
       "      <td>&lt;class 'sktime.dists_kernels.compose_tab_to_pa...</td>\n",
       "    </tr>\n",
       "    <tr>\n",
       "      <th>8</th>\n",
       "      <td>IndepDist</td>\n",
       "      <td>&lt;class 'sktime.dists_kernels.indep.IndepDist'&gt;</td>\n",
       "    </tr>\n",
       "    <tr>\n",
       "      <th>9</th>\n",
       "      <td>KernelFromDist</td>\n",
       "      <td>&lt;class 'sktime.dists_kernels.dist_to_kern.Kern...</td>\n",
       "    </tr>\n",
       "    <tr>\n",
       "      <th>10</th>\n",
       "      <td>PwTrafoPanelPipeline</td>\n",
       "      <td>&lt;class 'sktime.dists_kernels.compose.PwTrafoPa...</td>\n",
       "    </tr>\n",
       "    <tr>\n",
       "      <th>11</th>\n",
       "      <td>SignatureKernel</td>\n",
       "      <td>&lt;class 'sktime.dists_kernels.signature_kernel....</td>\n",
       "    </tr>\n",
       "  </tbody>\n",
       "</table>\n",
       "</div>"
      ],
      "text/plain": [
       "                    name                                             object\n",
       "0               AggrDist  <class 'sktime.dists_kernels.compose_tab_to_pa...\n",
       "1       CombinedDistance  <class 'sktime.dists_kernels.algebra.CombinedD...\n",
       "2   ConstantPwTrafoPanel  <class 'sktime.dists_kernels.dummy.ConstantPwT...\n",
       "3        DistFromAligner  <class 'sktime.dists_kernels.compose_from_alig...\n",
       "4         DistFromKernel  <class 'sktime.dists_kernels.dist_to_kern.Dist...\n",
       "5                DtwDist         <class 'sktime.dists_kernels.dtw.DtwDist'>\n",
       "6               EditDist  <class 'sktime.dists_kernels.edit_dist.EditDist'>\n",
       "7               FlatDist  <class 'sktime.dists_kernels.compose_tab_to_pa...\n",
       "8              IndepDist     <class 'sktime.dists_kernels.indep.IndepDist'>\n",
       "9         KernelFromDist  <class 'sktime.dists_kernels.dist_to_kern.Kern...\n",
       "10  PwTrafoPanelPipeline  <class 'sktime.dists_kernels.compose.PwTrafoPa...\n",
       "11       SignatureKernel  <class 'sktime.dists_kernels.signature_kernel...."
      ]
     },
     "execution_count": 48,
     "metadata": {},
     "output_type": "execute_result"
    }
   ],
   "source": [
    "# listing all pairwise panel transformers - distances, kernels on time series\n",
    "all_estimators(\"transformer-pairwise-panel\", as_dataframe=True)"
   ]
  },
  {
   "cell_type": "code",
   "execution_count": 49,
   "metadata": {},
   "outputs": [
    {
     "data": {
      "text/html": [
       "<div>\n",
       "<style scoped>\n",
       "    .dataframe tbody tr th:only-of-type {\n",
       "        vertical-align: middle;\n",
       "    }\n",
       "\n",
       "    .dataframe tbody tr th {\n",
       "        vertical-align: top;\n",
       "    }\n",
       "\n",
       "    .dataframe thead th {\n",
       "        text-align: right;\n",
       "    }\n",
       "</style>\n",
       "<table border=\"1\" class=\"dataframe\">\n",
       "  <thead>\n",
       "    <tr style=\"text-align: right;\">\n",
       "      <th></th>\n",
       "      <th>name</th>\n",
       "      <th>object</th>\n",
       "    </tr>\n",
       "  </thead>\n",
       "  <tbody>\n",
       "    <tr>\n",
       "      <th>0</th>\n",
       "      <td>ScipyDist</td>\n",
       "      <td>&lt;class 'sktime.dists_kernels.scipy_dist.ScipyD...</td>\n",
       "    </tr>\n",
       "  </tbody>\n",
       "</table>\n",
       "</div>"
      ],
      "text/plain": [
       "        name                                             object\n",
       "0  ScipyDist  <class 'sktime.dists_kernels.scipy_dist.ScipyD..."
      ]
     },
     "execution_count": 49,
     "metadata": {},
     "output_type": "execute_result"
    }
   ],
   "source": [
    "# listing all pairwise (tabular) transformers - distances, kernels on vectors/df-rows\n",
    "all_estimators(\"transformer-pairwise\", as_dataframe=True)"
   ]
  },
  {
   "cell_type": "code",
   "execution_count": 50,
   "metadata": {},
   "outputs": [
    {
     "data": {
      "text/html": [
       "<div>\n",
       "<style scoped>\n",
       "    .dataframe tbody tr th:only-of-type {\n",
       "        vertical-align: middle;\n",
       "    }\n",
       "\n",
       "    .dataframe tbody tr th {\n",
       "        vertical-align: top;\n",
       "    }\n",
       "\n",
       "    .dataframe thead th {\n",
       "        text-align: right;\n",
       "    }\n",
       "</style>\n",
       "<table border=\"1\" class=\"dataframe\">\n",
       "  <thead>\n",
       "    <tr style=\"text-align: right;\">\n",
       "      <th></th>\n",
       "      <th>name</th>\n",
       "      <th>object</th>\n",
       "    </tr>\n",
       "  </thead>\n",
       "  <tbody>\n",
       "    <tr>\n",
       "      <th>0</th>\n",
       "      <td>AlignerDTW</td>\n",
       "      <td>&lt;class 'sktime.alignment.dtw_python.AlignerDTW'&gt;</td>\n",
       "    </tr>\n",
       "    <tr>\n",
       "      <th>1</th>\n",
       "      <td>AlignerDTWfromDist</td>\n",
       "      <td>&lt;class 'sktime.alignment.dtw_python.AlignerDTW...</td>\n",
       "    </tr>\n",
       "    <tr>\n",
       "      <th>2</th>\n",
       "      <td>AlignerDtwNumba</td>\n",
       "      <td>&lt;class 'sktime.alignment.dtw_numba.AlignerDtwN...</td>\n",
       "    </tr>\n",
       "  </tbody>\n",
       "</table>\n",
       "</div>"
      ],
      "text/plain": [
       "                 name                                             object\n",
       "0          AlignerDTW   <class 'sktime.alignment.dtw_python.AlignerDTW'>\n",
       "1  AlignerDTWfromDist  <class 'sktime.alignment.dtw_python.AlignerDTW...\n",
       "2     AlignerDtwNumba  <class 'sktime.alignment.dtw_numba.AlignerDtwN..."
      ]
     },
     "execution_count": 50,
     "metadata": {},
     "output_type": "execute_result"
    }
   ],
   "source": [
    "# listing all alignment algorithms that can produce distances\n",
    "all_estimators(\"aligner\", as_dataframe=True, filter_tags={\"capability:distance\": True})"
   ]
  },
  {
   "attachments": {},
   "cell_type": "markdown",
   "metadata": {},
   "source": [
    "## 3.7 Outlook, roadmap\n",
    "\n",
    "* implementing estimators - distances, classifiers, etc\n",
    "* backend optimizations - `numba`, distributed/parallel\n",
    "* sequence-to-sequence regression, classification\n",
    "* further maturing the time series alignment module\n",
    "\n",
    "join and contribute!"
   ]
  },
  {
   "attachments": {},
   "cell_type": "markdown",
   "metadata": {},
   "source": [
    "## 3.8 Summary"
   ]
  },
  {
   "attachments": {},
   "cell_type": "markdown",
   "metadata": {},
   "source": [
    "* `sktime` - modular framework for learning with time series\n",
    "* panel data = collections of time series - tasks classification, regression, clustering\n",
    "* build flexible pipelines with transformers, tune via grid search etc\n",
    "* panel estimators typically rely on time series distances, kernels, aligners\n",
    "* TS distances, kernels, aligners can also be constructed in modular, flexible way\n",
    "* all objects above are first-class citiziens with `sklearn`-like interface!"
   ]
  },
  {
   "attachments": {},
   "cell_type": "markdown",
   "metadata": {},
   "source": []
  }
 ],
 "metadata": {
  "hide_input": false,
  "kernelspec": {
   "display_name": "Python 3",
   "language": "python",
   "name": "python3"
  },
  "language_info": {
   "codemirror_mode": {
    "name": "ipython",
    "version": 3
   },
   "file_extension": ".py",
   "mimetype": "text/x-python",
   "name": "python",
   "nbconvert_exporter": "python",
   "pygments_lexer": "ipython3",
   "version": "3.11.3"
  },
  "latex_envs": {
   "LaTeX_envs_menu_present": true,
   "autoclose": false,
   "autocomplete": true,
   "bibliofile": "biblio.bib",
   "cite_by": "apalike",
   "current_citInitial": 1,
   "eqLabelWithNumbers": true,
   "eqNumInitial": 1,
   "hotkeys": {
    "equation": "Ctrl-E",
    "itemize": "Ctrl-I"
   },
   "labels_anchors": false,
   "latex_user_defs": false,
   "report_style_numbering": false,
   "user_envs_cfg": false
  },
  "toc": {
   "base_numbering": 1,
   "nav_menu": {},
   "number_sections": true,
   "sideBar": true,
   "skip_h1_title": false,
   "title_cell": "Table of Contents",
   "title_sidebar": "Contents",
   "toc_cell": false,
   "toc_position": {},
   "toc_section_display": true,
   "toc_window_display": false
  },
  "varInspector": {
   "cols": {
    "lenName": 16,
    "lenType": 16,
    "lenVar": 40
   },
   "kernels_config": {
    "python": {
     "delete_cmd_postfix": "",
     "delete_cmd_prefix": "del ",
     "library": "var_list.py",
     "varRefreshCmd": "print(var_dic_list())"
    },
    "r": {
     "delete_cmd_postfix": ") ",
     "delete_cmd_prefix": "rm(",
     "library": "var_list.r",
     "varRefreshCmd": "cat(var_dic_list()) "
    }
   },
   "types_to_exclude": [
    "module",
    "function",
    "builtin_function_or_method",
    "instance",
    "_Feature"
   ],
   "window_display": false
  },
  "vscode": {
   "interpreter": {
    "hash": "e61b44dca3bf47c8973c8cd627825697e2dad493e19dd6592afda0a0a3c312a0"
   }
  }
 },
 "nbformat": 4,
 "nbformat_minor": 4
}
