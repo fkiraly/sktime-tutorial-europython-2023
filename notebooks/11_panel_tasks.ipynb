{
 "cells": [
  {
   "attachments": {},
   "cell_type": "markdown",
   "metadata": {},
   "source": [
    "### Overview of this notebook\n",
    "\n",
    "* Introduction to time series classification, regression, clustering\n",
    "* `sktime` data format fo \"time series panels\" = collections of time series\n",
    "* Basic vignettes for TSC, TSR, TSCl\n",
    "* Advanced vignettes - pipelines, ensembles, tuning"
   ]
  },
  {
   "cell_type": "markdown",
   "id": "02a28a23",
   "metadata": {},
   "source": [
    "<!--TABLE OF CONTENTS-->\n",
    "## Table of Contents\n",
    "- [2. Learning tasks - Classification, Regression, Clustering & more <a name=\"top-2\"></a>](#2.-Learning-tasks---Classification,-Regression,-Clustering-&-more-<a-name=\"top-2\"></a>)\n",
    "  - [2.1 Panel data - `sktime` data formats <a name=\"panel\"></a>](#2.1-Panel-data---`sktime`-data-formats-<a-name=\"panel\"></a>)\n",
    "    - [2.1.1 preferred format 1 - `pd-multiindex` specification](#2.1.1-preferred-format-1---`pd-multiindex`-specification)\n",
    "    - [2.1.2 preferred format 2 - `numpy3D` specification](#2.1.2-preferred-format-2---`numpy3D`-specification)\n",
    "  - [2.2 Time Series Classification, Regression, Clustering - Basic Vignettes](#2.2-Time-Series-Classification,-Regression,-Clustering---Basic-Vignettes)\n",
    "    - [2.2.3 Time Series Classification - deployment vignette](#2.2.3-Time-Series-Classification---deployment-vignette)\n",
    "    - [2.2.4 Time Series Classification - simple evaluation vignette](#2.2.4-Time-Series-Classification---simple-evaluation-vignette)\n",
    "    - [2.2.5 Time Series Regression - basic vignettes](#2.2.5-Time-Series-Regression---basic-vignettes)\n",
    "    - [2.2.6 Time Series Clustering - basic vignettes](#2.2.6-Time-Series-Clustering---basic-vignettes)\n",
    "  - [2.3 Searching for estimators, estimator tags](#2.3-Searching-for-estimators,-estimator-tags)\n",
    "  - [2.4 Pipelines, Feature Extraction, Tuning, Composition](#2.4-Pipelines,-Feature-Extraction,-Tuning,-Composition)\n",
    "    - [2.4.1 Primer on `sktime` transformers for feature extraction](#2.4.1-Primer-on-`sktime`-transformers-for-feature-extraction)\n",
    "    - [2.4.2 Pipelines for time series panel tasks](#2.4.2-Pipelines-for-time-series-panel-tasks)\n",
    "    - [2.4.3 Using transformers to deal with unequal length or missing values](#2.4.3-Using-transformers-to-deal-with-unequal-length-or-missing-values)\n",
    "    - [2.4.4 Tuning and model selection](#2.4.4-Tuning-and-model-selection)\n",
    "    - [2.4.5 Advanced Composition cheat sheet - AutoML, bagging, ensembles](#2.4.5-Advanced-Composition-cheat-sheet---AutoML,-bagging,-ensembles)\n",
    "  - [2.5 Appendix - Extension guide](#2.5-Appendix---Extension-guide)\n",
    "    - [Credits: notebook 11 - time series panel tasks - classification, regression, clustering](#Credits:-notebook-11---time-series-panel-tasks---classification,-regression,-clustering)"
   ]
  },
  {
   "attachments": {},
   "cell_type": "markdown",
   "metadata": {},
   "source": [
    "# 2. Learning tasks - Classification, Regression, Clustering & more <a name=\"top-2\"></a>\n",
    "\n",
    "deal with *collections of time series* = \"panel data\"\n",
    "\n",
    "Classification = try to assign one *category* per time series, after training on time series/category examples\n",
    "\n",
    "Example: osuleaf - circumference point distance of leaves. Predict type of tree\n",
    "\n",
    "Regression = try to assign one *category* per time series, after training on time series/category examples\n",
    "\n",
    "Example: temperature/pressure/time profile of chemical reactor. Predict total purity (fraction of 1)\n",
    "\n",
    "Clustering = put different time series in a small number of similarity buckets"
   ]
  },
  {
   "cell_type": "code",
   "execution_count": 1,
   "metadata": {},
   "outputs": [],
   "source": [
    "import pandas as pd\n",
    "\n",
    "# Increase display width\n",
    "pd.set_option('display.width', 1000)"
   ]
  },
  {
   "attachments": {},
   "cell_type": "markdown",
   "metadata": {},
   "source": [
    "## 2.1 Panel data - `sktime` data formats <a name=\"panel\"></a>\n",
    "\n",
    "`Panel` abstract data type = values observed for:\n",
    "\n",
    "* `instance`, e.g., patient\n",
    "* `variable`, e.g., blood pressure, body temperatire\n",
    "* `time`/`index`, e.g., January 12, 2023 (usually but not necessarily a time index!)\n",
    "\n",
    "One value X is: \"patient A had blood pressure X on January 12, 2023\"\n",
    "\n",
    "time series classification, regression, clustering: slices `Panel` data by instance"
   ]
  },
  {
   "cell_type": "markdown",
   "metadata": {},
   "source": [
    "\n",
    "Preferred format 1: `pd.DataFrame` with 2-level `MultiIndex`, (instance, time), cols= variables\n",
    "\n",
    "Preferred format 2: 3D `np.ndarray` with index (instance, variable, time)\n",
    "\n",
    "* `sktime` supports and recognizes multiple data formats for convenience and internal use, e.g., `dask`, `xarray`\n",
    "* abstract data type = \"scitype\"; in-memory specification = \"mtype\"\n",
    "* More information in tutorial on [in-memory data representations and data loading](https://www.sktime.net/en/latest/examples/AA_datatypes_and_datasets.html#In-memory-data-representations-and-data-loading)"
   ]
  },
  {
   "attachments": {},
   "cell_type": "markdown",
   "metadata": {},
   "source": [
    "### 2.1.1 preferred format 1 - `pd-multiindex` specification"
   ]
  },
  {
   "attachments": {},
   "cell_type": "markdown",
   "metadata": {},
   "source": [
    "`pd-multiindex` = `pd.DataFrame` with 2-level `MultiIndex`, (instance, time), cols= variables"
   ]
  },
  {
   "cell_type": "code",
   "execution_count": 2,
   "metadata": {},
   "outputs": [],
   "source": [
    "from sktime.datasets import load_italy_power_demand\n",
    "\n",
    "# load an example time series panel in pd-multiindex mtype\n",
    "X, _ = load_italy_power_demand(return_type=\"pd-multiindex\")\n",
    "\n",
    "# renaming columns for illustrative purposes\n",
    "X.columns = [\"total_power_demand\"]\n",
    "X.index.names = [\"day_ID\", \"hour_of_day\"]"
   ]
  },
  {
   "attachments": {},
   "cell_type": "markdown",
   "metadata": {},
   "source": [
    "The Italy power demand dataset has:\n",
    "\n",
    "* 1096 individual time series instances = single days of total power demand (mean subtracted)\n",
    "* one single variable per time series instances, `dim_0`\n",
    "    * total power demand on that day, in that hourly period\n",
    "    * hence a univariate dataset\n",
    "* individual time series are observed at 24 time (period) points (the same number for all instances)\n",
    "\n",
    "In the dataset, days are jumbled and of different scope (independent sampling).\n",
    "* considered independent\n",
    "* for task, e.g., \"identify season or weekday/week-end from pattern\""
   ]
  },
  {
   "cell_type": "code",
   "execution_count": 3,
   "metadata": {},
   "outputs": [
    {
     "data": {
      "text/html": [
       "<div>\n",
       "<style scoped>\n",
       "    .dataframe tbody tr th:only-of-type {\n",
       "        vertical-align: middle;\n",
       "    }\n",
       "\n",
       "    .dataframe tbody tr th {\n",
       "        vertical-align: top;\n",
       "    }\n",
       "\n",
       "    .dataframe thead th {\n",
       "        text-align: right;\n",
       "    }\n",
       "</style>\n",
       "<table border=\"1\" class=\"dataframe\">\n",
       "  <thead>\n",
       "    <tr style=\"text-align: right;\">\n",
       "      <th></th>\n",
       "      <th></th>\n",
       "      <th>total_power_demand</th>\n",
       "    </tr>\n",
       "    <tr>\n",
       "      <th>day_ID</th>\n",
       "      <th>hour_of_day</th>\n",
       "      <th></th>\n",
       "    </tr>\n",
       "  </thead>\n",
       "  <tbody>\n",
       "    <tr>\n",
       "      <th rowspan=\"5\" valign=\"top\">0</th>\n",
       "      <th>0</th>\n",
       "      <td>-0.710518</td>\n",
       "    </tr>\n",
       "    <tr>\n",
       "      <th>1</th>\n",
       "      <td>-1.183320</td>\n",
       "    </tr>\n",
       "    <tr>\n",
       "      <th>2</th>\n",
       "      <td>-1.372442</td>\n",
       "    </tr>\n",
       "    <tr>\n",
       "      <th>3</th>\n",
       "      <td>-1.593083</td>\n",
       "    </tr>\n",
       "    <tr>\n",
       "      <th>4</th>\n",
       "      <td>-1.467002</td>\n",
       "    </tr>\n",
       "    <tr>\n",
       "      <th>...</th>\n",
       "      <th>...</th>\n",
       "      <td>...</td>\n",
       "    </tr>\n",
       "    <tr>\n",
       "      <th rowspan=\"5\" valign=\"top\">1095</th>\n",
       "      <th>19</th>\n",
       "      <td>0.180490</td>\n",
       "    </tr>\n",
       "    <tr>\n",
       "      <th>20</th>\n",
       "      <td>-0.094058</td>\n",
       "    </tr>\n",
       "    <tr>\n",
       "      <th>21</th>\n",
       "      <td>0.729587</td>\n",
       "    </tr>\n",
       "    <tr>\n",
       "      <th>22</th>\n",
       "      <td>0.210995</td>\n",
       "    </tr>\n",
       "    <tr>\n",
       "      <th>23</th>\n",
       "      <td>-0.002542</td>\n",
       "    </tr>\n",
       "  </tbody>\n",
       "</table>\n",
       "<p>26304 rows × 1 columns</p>\n",
       "</div>"
      ],
      "text/plain": [
       "                    total_power_demand\n",
       "day_ID hour_of_day                    \n",
       "0      0                     -0.710518\n",
       "       1                     -1.183320\n",
       "       2                     -1.372442\n",
       "       3                     -1.593083\n",
       "       4                     -1.467002\n",
       "...                                ...\n",
       "1095   19                     0.180490\n",
       "       20                    -0.094058\n",
       "       21                     0.729587\n",
       "       22                     0.210995\n",
       "       23                    -0.002542\n",
       "\n",
       "[26304 rows x 1 columns]"
      ]
     },
     "execution_count": 3,
     "metadata": {},
     "output_type": "execute_result"
    }
   ],
   "source": [
    "X"
   ]
  },
  {
   "cell_type": "code",
   "execution_count": 4,
   "metadata": {},
   "outputs": [],
   "source": [
    "from sktime.datasets import load_basic_motions\n",
    "\n",
    "# load an example time series panel in pd-multiindex mtype\n",
    "X, _ = load_basic_motions(return_type=\"pd-multiindex\")\n",
    "\n",
    "# renaming columns for illustrative purposes\n",
    "X.columns = [\"accel_1\", \"accel_2\", \"accel_3\", \"gyro_1\", \"gyro_2\", \"gyro_3\"]\n",
    "X.index.names = [\"trial_no\", \"timepoint\"]"
   ]
  },
  {
   "attachments": {},
   "cell_type": "markdown",
   "metadata": {},
   "source": [
    "The basic motions dataset has:\n",
    "\n",
    "* 80 individual time series instances = trials = person engaging in activity (running, badminton, etc)\n",
    "* six variables per time series instance, `dim_0` to `dim_5`\n",
    "    * 3 accelerometer and 3 gyrometer measurements\n",
    "    * hence a multivariate dataset\n",
    "* individual time series are observed at 100 time points (the same number for all instances)"
   ]
  },
  {
   "cell_type": "code",
   "execution_count": 5,
   "metadata": {},
   "outputs": [
    {
     "data": {
      "text/html": [
       "<div>\n",
       "<style scoped>\n",
       "    .dataframe tbody tr th:only-of-type {\n",
       "        vertical-align: middle;\n",
       "    }\n",
       "\n",
       "    .dataframe tbody tr th {\n",
       "        vertical-align: top;\n",
       "    }\n",
       "\n",
       "    .dataframe thead th {\n",
       "        text-align: right;\n",
       "    }\n",
       "</style>\n",
       "<table border=\"1\" class=\"dataframe\">\n",
       "  <thead>\n",
       "    <tr style=\"text-align: right;\">\n",
       "      <th></th>\n",
       "      <th></th>\n",
       "      <th>accel_1</th>\n",
       "      <th>accel_2</th>\n",
       "      <th>accel_3</th>\n",
       "      <th>gyro_1</th>\n",
       "      <th>gyro_2</th>\n",
       "      <th>gyro_3</th>\n",
       "    </tr>\n",
       "    <tr>\n",
       "      <th>trial_no</th>\n",
       "      <th>timepoint</th>\n",
       "      <th></th>\n",
       "      <th></th>\n",
       "      <th></th>\n",
       "      <th></th>\n",
       "      <th></th>\n",
       "      <th></th>\n",
       "    </tr>\n",
       "  </thead>\n",
       "  <tbody>\n",
       "    <tr>\n",
       "      <th rowspan=\"5\" valign=\"top\">0</th>\n",
       "      <th>0</th>\n",
       "      <td>0.079106</td>\n",
       "      <td>0.394032</td>\n",
       "      <td>0.551444</td>\n",
       "      <td>0.351565</td>\n",
       "      <td>0.023970</td>\n",
       "      <td>0.633883</td>\n",
       "    </tr>\n",
       "    <tr>\n",
       "      <th>1</th>\n",
       "      <td>0.079106</td>\n",
       "      <td>0.394032</td>\n",
       "      <td>0.551444</td>\n",
       "      <td>0.351565</td>\n",
       "      <td>0.023970</td>\n",
       "      <td>0.633883</td>\n",
       "    </tr>\n",
       "    <tr>\n",
       "      <th>2</th>\n",
       "      <td>-0.903497</td>\n",
       "      <td>-3.666397</td>\n",
       "      <td>-0.282844</td>\n",
       "      <td>-0.095881</td>\n",
       "      <td>-0.319605</td>\n",
       "      <td>0.972131</td>\n",
       "    </tr>\n",
       "    <tr>\n",
       "      <th>3</th>\n",
       "      <td>1.116125</td>\n",
       "      <td>-0.656101</td>\n",
       "      <td>0.333118</td>\n",
       "      <td>1.624657</td>\n",
       "      <td>-0.569962</td>\n",
       "      <td>1.209171</td>\n",
       "    </tr>\n",
       "    <tr>\n",
       "      <th>4</th>\n",
       "      <td>1.638200</td>\n",
       "      <td>1.405135</td>\n",
       "      <td>0.393875</td>\n",
       "      <td>1.187864</td>\n",
       "      <td>-0.271664</td>\n",
       "      <td>1.739182</td>\n",
       "    </tr>\n",
       "    <tr>\n",
       "      <th>...</th>\n",
       "      <th>...</th>\n",
       "      <td>...</td>\n",
       "      <td>...</td>\n",
       "      <td>...</td>\n",
       "      <td>...</td>\n",
       "      <td>...</td>\n",
       "      <td>...</td>\n",
       "    </tr>\n",
       "    <tr>\n",
       "      <th rowspan=\"5\" valign=\"top\">79</th>\n",
       "      <th>95</th>\n",
       "      <td>28.459024</td>\n",
       "      <td>-16.633770</td>\n",
       "      <td>3.631869</td>\n",
       "      <td>8.978229</td>\n",
       "      <td>-3.611533</td>\n",
       "      <td>-1.491489</td>\n",
       "    </tr>\n",
       "    <tr>\n",
       "      <th>96</th>\n",
       "      <td>10.260094</td>\n",
       "      <td>0.102775</td>\n",
       "      <td>1.269261</td>\n",
       "      <td>-1.645964</td>\n",
       "      <td>-3.377157</td>\n",
       "      <td>1.283746</td>\n",
       "    </tr>\n",
       "    <tr>\n",
       "      <th>97</th>\n",
       "      <td>4.316471</td>\n",
       "      <td>-3.574319</td>\n",
       "      <td>2.063831</td>\n",
       "      <td>-1.717875</td>\n",
       "      <td>-1.843054</td>\n",
       "      <td>0.484734</td>\n",
       "    </tr>\n",
       "    <tr>\n",
       "      <th>98</th>\n",
       "      <td>0.704446</td>\n",
       "      <td>-4.920444</td>\n",
       "      <td>2.851857</td>\n",
       "      <td>-2.982977</td>\n",
       "      <td>-0.809665</td>\n",
       "      <td>-0.721774</td>\n",
       "    </tr>\n",
       "    <tr>\n",
       "      <th>99</th>\n",
       "      <td>-2.074749</td>\n",
       "      <td>-6.892377</td>\n",
       "      <td>4.848379</td>\n",
       "      <td>-1.350330</td>\n",
       "      <td>-1.203844</td>\n",
       "      <td>-1.776470</td>\n",
       "    </tr>\n",
       "  </tbody>\n",
       "</table>\n",
       "<p>8000 rows × 6 columns</p>\n",
       "</div>"
      ],
      "text/plain": [
       "                      accel_1    accel_2   accel_3    gyro_1    gyro_2    gyro_3\n",
       "trial_no timepoint                                                              \n",
       "0        0           0.079106   0.394032  0.551444  0.351565  0.023970  0.633883\n",
       "         1           0.079106   0.394032  0.551444  0.351565  0.023970  0.633883\n",
       "         2          -0.903497  -3.666397 -0.282844 -0.095881 -0.319605  0.972131\n",
       "         3           1.116125  -0.656101  0.333118  1.624657 -0.569962  1.209171\n",
       "         4           1.638200   1.405135  0.393875  1.187864 -0.271664  1.739182\n",
       "...                       ...        ...       ...       ...       ...       ...\n",
       "79       95         28.459024 -16.633770  3.631869  8.978229 -3.611533 -1.491489\n",
       "         96         10.260094   0.102775  1.269261 -1.645964 -3.377157  1.283746\n",
       "         97          4.316471  -3.574319  2.063831 -1.717875 -1.843054  0.484734\n",
       "         98          0.704446  -4.920444  2.851857 -2.982977 -0.809665 -0.721774\n",
       "         99         -2.074749  -6.892377  4.848379 -1.350330 -1.203844 -1.776470\n",
       "\n",
       "[8000 rows x 6 columns]"
      ]
     },
     "execution_count": 5,
     "metadata": {},
     "output_type": "execute_result"
    }
   ],
   "source": [
    "# The outermost index represents the instance number\n",
    "# whereas the inner index represents the index of the particular index\n",
    "# within that instance.\n",
    "X"
   ]
  },
  {
   "attachments": {},
   "cell_type": "markdown",
   "metadata": {},
   "source": [
    "pandas provides a simple way to access a range of value in the multi-indexed dataframe:"
   ]
  },
  {
   "cell_type": "code",
   "execution_count": 6,
   "metadata": {},
   "outputs": [
    {
     "data": {
      "text/plain": [
       "timepoint\n",
       "0     0.351565\n",
       "1     0.351565\n",
       "2    -0.095881\n",
       "3     1.624657\n",
       "4     1.187864\n",
       "        ...   \n",
       "95    0.039951\n",
       "96   -0.029297\n",
       "97    0.000000\n",
       "98    0.000000\n",
       "99   -0.007990\n",
       "Name: gyro_1, Length: 100, dtype: float64"
      ]
     },
     "execution_count": 6,
     "metadata": {},
     "output_type": "execute_result"
    }
   ],
   "source": [
    "# Select:\n",
    "# * the fourth variable (gyroscope 1)\n",
    "# * of the first instance (trial 1 = 0 in python)\n",
    "# * values at all 100 timestamps\n",
    "#\n",
    "X.loc[0, \"gyro_1\"]"
   ]
  },
  {
   "attachments": {},
   "cell_type": "markdown",
   "metadata": {},
   "source": [
    "Or if you want to access the individual values:"
   ]
  },
  {
   "cell_type": "code",
   "execution_count": 7,
   "metadata": {},
   "outputs": [
    {
     "data": {
      "text/plain": [
       "-1.27952"
      ]
     },
     "execution_count": 7,
     "metadata": {},
     "output_type": "execute_result"
    }
   ],
   "source": [
    "# Select:\n",
    "# * the fifth time time point (5 = 4 in python)\n",
    "# * the third variable (accelerometer 3)\n",
    "# * of the fourty-third instance (trial 43 = 42 in python)\n",
    "\n",
    "X.loc[(42, 4), \"accel_3\"]"
   ]
  },
  {
   "attachments": {},
   "cell_type": "markdown",
   "metadata": {},
   "source": [
    "### 2.1.2 preferred format 2 - `numpy3D` specification"
   ]
  },
  {
   "attachments": {},
   "cell_type": "markdown",
   "metadata": {},
   "source": [
    "`numpy3D` = 3D `np.ndarray` with index (instance, variable, time)\n",
    "\n",
    "instance/time index is interpreted as integer\n",
    "\n",
    "IMPORTANT: unlike `pd-multiindex`, this assumes:\n",
    "\n",
    "* all individual series have the same length\n",
    "* all individual series have the same index"
   ]
  },
  {
   "cell_type": "code",
   "execution_count": 8,
   "metadata": {},
   "outputs": [],
   "source": [
    "from sktime.datasets import load_osuleaf\n",
    "\n",
    "# load an example time series panel in numpy mtype\n",
    "X, _ = load_osuleaf(return_type=\"numpy3D\")"
   ]
  },
  {
   "attachments": {},
   "cell_type": "markdown",
   "metadata": {},
   "source": [
    "The osuleaf dataset has:\n",
    "\n",
    "* 442 individual time series instances (200 train size and 242 test size)\n",
    "* one single variable per time series instances\n",
    "* individual time series are observed at 427 time points (the same number for all instances)"
   ]
  },
  {
   "cell_type": "code",
   "execution_count": 9,
   "metadata": {},
   "outputs": [
    {
     "data": {
      "text/plain": [
       "(442, 1, 427)"
      ]
     },
     "execution_count": 9,
     "metadata": {},
     "output_type": "execute_result"
    }
   ],
   "source": [
    "# (num_instances, num_variables, length)\n",
    "X.shape"
   ]
  },
  {
   "cell_type": "code",
   "execution_count": 10,
   "metadata": {},
   "outputs": [],
   "source": [
    "from sktime.datasets import load_basic_motions\n",
    "\n",
    "# load an example time series panel in numpy mtype\n",
    "X, _ = load_basic_motions(return_type=\"numpy3D\")"
   ]
  },
  {
   "attachments": {},
   "cell_type": "markdown",
   "metadata": {},
   "source": [
    "The basic motions dataset has:\n",
    "\n",
    "* 80 individual time series instances\n",
    "* six variables per time series instance\n",
    "* individual time series are observed at 100 time points (the same number for all instances)"
   ]
  },
  {
   "cell_type": "code",
   "execution_count": 11,
   "metadata": {},
   "outputs": [
    {
     "data": {
      "text/plain": [
       "(80, 6, 100)"
      ]
     },
     "execution_count": 11,
     "metadata": {},
     "output_type": "execute_result"
    }
   ],
   "source": [
    "X.shape"
   ]
  },
  {
   "attachments": {},
   "cell_type": "markdown",
   "metadata": {},
   "source": [
    "## 2.2 Time Series Classification, Regression, Clustering - Basic Vignettes\n",
    "\n",
    "Above tasks are very similar to \"tabular\" classification, regression, clustering, as in `sklearn`\n",
    "\n",
    "Main distinction:\n",
    "* in \"tabular\" classification etc, one (feature) instance row vector of features\n",
    "* in TSC, one (feature) instance is a full time series, possibly unequal length, distinct index set"
   ]
  },
  {
   "attachments": {},
   "cell_type": "markdown",
   "metadata": {},
   "source": [
    "![](./img/tasks-tsc.png)"
   ]
  },
  {
   "attachments": {},
   "cell_type": "markdown",
   "metadata": {},
   "source": [
    "\n",
    "More formally:\n",
    "\n",
    "* \"tabular\" classification:\n",
    "    * training pairs $(x_1, y_1), \\dots, (x_n, y_n)$\n",
    "        * where $x_i$ are rows of a `pd.DataFrame` (same col types)\n",
    "        * and $y_i \\in \\mathcal{C}$ for a finite set $\\mathcal{C}$\n",
    "    * used to train a classifier that\n",
    "        * for a new `pd.DataFrame` row $x_*$\n",
    "        * predicts $y_* \\in \\mathcal{C}$"
   ]
  },
  {
   "cell_type": "markdown",
   "metadata": {},
   "source": [
    "\n",
    "* time series classification:\n",
    "    * training pairs $(x_1, y_1), \\dots, (x_n, y_n)$\n",
    "        * where $x_i$ are time series instaces, from a certain domain\n",
    "        * and $y_i \\in \\mathcal{C}$ for a finite set $\\mathcal{C}$\n",
    "    * used to train a classifier that\n",
    "        * for a new time series instance $x_*$\n",
    "        * predicts $y_* \\in \\mathcal{C}$"
   ]
  },
  {
   "attachments": {},
   "cell_type": "markdown",
   "metadata": {},
   "source": [
    "very similar for time series regression, clustering - exercise left to reader :-)"
   ]
  },
  {
   "attachments": {},
   "cell_type": "markdown",
   "metadata": {},
   "source": [
    "`sktime` design implications:\n",
    "\n",
    "* need representation of collections of time series (panels), see Section 2.1\n",
    "    * same as in \"adjacent\" learning tasks, e.g., panel forecasting\n",
    "    * same as for transformation estimators\n",
    "* algorithms that use sequentiality, can deal with unequal length, missing values etc \n",
    "* algorithms usually based on distances or kernels between time series - need to cover that in framework\n",
    "* but we can use familiar `fit` / `predict` and `scikit-learn` / `scikit-base` interface!"
   ]
  },
  {
   "attachments": {},
   "cell_type": "markdown",
   "metadata": {},
   "source": [
    "### 2.2.3 Time Series Classification - deployment vignette"
   ]
  },
  {
   "attachments": {},
   "cell_type": "markdown",
   "metadata": {},
   "source": [
    "Basic deployment vignette for TSC:\n",
    "\n",
    "1. load/setup training data, `X` in a `Panel` (more specifically `numpy3D`) format, `y` as 1D `np.ndarray`\n",
    "2. load/setup new data for prediction (can be done after 2 too)\n",
    "3. specify the classifier using `sklearn`-like syntax\n",
    "4. fit classifier to training data, `fit(X, y)`\n",
    "5. predict labels on new data, `predict(X_new)`"
   ]
  },
  {
   "cell_type": "code",
   "execution_count": 12,
   "metadata": {},
   "outputs": [],
   "source": [
    "# steps 1, 2 - prepare osuleaf dataset (train and new)\n",
    "from sktime.datasets import load_osuleaf\n",
    "\n",
    "X_train, y_train = load_osuleaf(split=\"train\", return_type=\"numpy3D\")\n",
    "X_new, _ = load_osuleaf(split=\"test\", return_type=\"numpy3D\")\n",
    "X_new = X_new[:2]  # smaller dataset for faster notebook runtime"
   ]
  },
  {
   "cell_type": "code",
   "execution_count": 13,
   "metadata": {},
   "outputs": [
    {
     "data": {
      "text/plain": [
       "(200, 1, 427)"
      ]
     },
     "execution_count": 13,
     "metadata": {},
     "output_type": "execute_result"
    }
   ],
   "source": [
    "# this is in numpy3D format, but could also be pd-multiindex or other\n",
    "X_train.shape"
   ]
  },
  {
   "cell_type": "code",
   "execution_count": 14,
   "metadata": {},
   "outputs": [
    {
     "data": {
      "text/plain": [
       "(200,)"
      ]
     },
     "execution_count": 14,
     "metadata": {},
     "output_type": "execute_result"
    }
   ],
   "source": [
    "# y is a 1D np.ndarray of labels - same length as number of instances in X_train\n",
    "y_train.shape"
   ]
  },
  {
   "cell_type": "code",
   "execution_count": 15,
   "metadata": {},
   "outputs": [],
   "source": [
    "# step 3 - specify the classifier\n",
    "from sktime.classification.distance_based import KNeighborsTimeSeriesClassifier\n",
    "\n",
    "# example 1 - 3-NN with simple dynamic time warping distance (requires numba)\n",
    "clf = KNeighborsTimeSeriesClassifier(n_neighbors=3)\n",
    "\n",
    "# example 2:\n",
    "# 3-nearest neighbour classifier with mean (over time points) pairwise Euclidean distance\n",
    "# (requires scipy)\n",
    "from sktime.classification.distance_based import KNeighborsTimeSeriesClassifier\n",
    "from sktime.dists_kernels.compose_tab_to_panel import FlatDist\n",
    "from sktime.dists_kernels import ScipyDist\n",
    "\n",
    "mean_eucl_dist = FlatDist(ScipyDist())\n",
    "clf = KNeighborsTimeSeriesClassifier(n_neighbors=3, distance=mean_eucl_dist)"
   ]
  },
  {
   "attachments": {},
   "cell_type": "markdown",
   "metadata": {},
   "source": [
    "we could specify any `sktime` classifier here - the rest remains the same!"
   ]
  },
  {
   "cell_type": "code",
   "execution_count": 16,
   "metadata": {},
   "outputs": [
    {
     "data": {
      "text/plain": [
       "{'algorithm': 'brute',\n",
       " 'distance': FlatDist(transformer=ScipyDist()),\n",
       " 'distance_mtype': None,\n",
       " 'distance_params': None,\n",
       " 'leaf_size': 30,\n",
       " 'n_jobs': None,\n",
       " 'n_neighbors': 3,\n",
       " 'pass_train_distances': False,\n",
       " 'weights': 'uniform',\n",
       " 'distance__transformer': ScipyDist(),\n",
       " 'distance__transformer__colalign': 'intersect',\n",
       " 'distance__transformer__metric': 'euclidean',\n",
       " 'distance__transformer__metric_kwargs': None,\n",
       " 'distance__transformer__p': 2,\n",
       " 'distance__transformer__var_weights': None}"
      ]
     },
     "execution_count": 16,
     "metadata": {},
     "output_type": "execute_result"
    }
   ],
   "source": [
    "# all classifiers is scikit-learn / scikit-base compatible!\n",
    "# nested parameter interface via get_params, set_params\n",
    "clf.get_params()"
   ]
  },
  {
   "cell_type": "code",
   "execution_count": 17,
   "metadata": {},
   "outputs": [
    {
     "data": {
      "text/html": [
       "<style>#sk-9fa3c343-7c3a-429e-9899-5af82f7a84f9 {color: black;background-color: white;}#sk-9fa3c343-7c3a-429e-9899-5af82f7a84f9 pre{padding: 0;}#sk-9fa3c343-7c3a-429e-9899-5af82f7a84f9 div.sk-toggleable {background-color: white;}#sk-9fa3c343-7c3a-429e-9899-5af82f7a84f9 label.sk-toggleable__label {cursor: pointer;display: block;width: 100%;margin-bottom: 0;padding: 0.3em;box-sizing: border-box;text-align: center;}#sk-9fa3c343-7c3a-429e-9899-5af82f7a84f9 label.sk-toggleable__label-arrow:before {content: \"▸\";float: left;margin-right: 0.25em;color: #696969;}#sk-9fa3c343-7c3a-429e-9899-5af82f7a84f9 label.sk-toggleable__label-arrow:hover:before {color: black;}#sk-9fa3c343-7c3a-429e-9899-5af82f7a84f9 div.sk-estimator:hover label.sk-toggleable__label-arrow:before {color: black;}#sk-9fa3c343-7c3a-429e-9899-5af82f7a84f9 div.sk-toggleable__content {max-height: 0;max-width: 0;overflow: hidden;text-align: left;background-color: #f0f8ff;}#sk-9fa3c343-7c3a-429e-9899-5af82f7a84f9 div.sk-toggleable__content pre {margin: 0.2em;color: black;border-radius: 0.25em;background-color: #f0f8ff;}#sk-9fa3c343-7c3a-429e-9899-5af82f7a84f9 input.sk-toggleable__control:checked~div.sk-toggleable__content {max-height: 200px;max-width: 100%;overflow: auto;}#sk-9fa3c343-7c3a-429e-9899-5af82f7a84f9 input.sk-toggleable__control:checked~label.sk-toggleable__label-arrow:before {content: \"▾\";}#sk-9fa3c343-7c3a-429e-9899-5af82f7a84f9 div.sk-estimator input.sk-toggleable__control:checked~label.sk-toggleable__label {background-color: #d4ebff;}#sk-9fa3c343-7c3a-429e-9899-5af82f7a84f9 div.sk-label input.sk-toggleable__control:checked~label.sk-toggleable__label {background-color: #d4ebff;}#sk-9fa3c343-7c3a-429e-9899-5af82f7a84f9 input.sk-hidden--visually {border: 0;clip: rect(1px 1px 1px 1px);clip: rect(1px, 1px, 1px, 1px);height: 1px;margin: -1px;overflow: hidden;padding: 0;position: absolute;width: 1px;}#sk-9fa3c343-7c3a-429e-9899-5af82f7a84f9 div.sk-estimator {font-family: monospace;background-color: #f0f8ff;border: 1px dotted black;border-radius: 0.25em;box-sizing: border-box;margin-bottom: 0.5em;}#sk-9fa3c343-7c3a-429e-9899-5af82f7a84f9 div.sk-estimator:hover {background-color: #d4ebff;}#sk-9fa3c343-7c3a-429e-9899-5af82f7a84f9 div.sk-parallel-item::after {content: \"\";width: 100%;border-bottom: 1px solid gray;flex-grow: 1;}#sk-9fa3c343-7c3a-429e-9899-5af82f7a84f9 div.sk-label:hover label.sk-toggleable__label {background-color: #d4ebff;}#sk-9fa3c343-7c3a-429e-9899-5af82f7a84f9 div.sk-serial::before {content: \"\";position: absolute;border-left: 1px solid gray;box-sizing: border-box;top: 2em;bottom: 0;left: 50%;}#sk-9fa3c343-7c3a-429e-9899-5af82f7a84f9 div.sk-serial {display: flex;flex-direction: column;align-items: center;background-color: white;padding-right: 0.2em;padding-left: 0.2em;}#sk-9fa3c343-7c3a-429e-9899-5af82f7a84f9 div.sk-item {z-index: 1;}#sk-9fa3c343-7c3a-429e-9899-5af82f7a84f9 div.sk-parallel {display: flex;align-items: stretch;justify-content: center;background-color: white;}#sk-9fa3c343-7c3a-429e-9899-5af82f7a84f9 div.sk-parallel::before {content: \"\";position: absolute;border-left: 1px solid gray;box-sizing: border-box;top: 2em;bottom: 0;left: 50%;}#sk-9fa3c343-7c3a-429e-9899-5af82f7a84f9 div.sk-parallel-item {display: flex;flex-direction: column;position: relative;background-color: white;}#sk-9fa3c343-7c3a-429e-9899-5af82f7a84f9 div.sk-parallel-item:first-child::after {align-self: flex-end;width: 50%;}#sk-9fa3c343-7c3a-429e-9899-5af82f7a84f9 div.sk-parallel-item:last-child::after {align-self: flex-start;width: 50%;}#sk-9fa3c343-7c3a-429e-9899-5af82f7a84f9 div.sk-parallel-item:only-child::after {width: 0;}#sk-9fa3c343-7c3a-429e-9899-5af82f7a84f9 div.sk-dashed-wrapped {border: 1px dashed gray;margin: 0 0.4em 0.5em 0.4em;box-sizing: border-box;padding-bottom: 0.4em;background-color: white;position: relative;}#sk-9fa3c343-7c3a-429e-9899-5af82f7a84f9 div.sk-label label {font-family: monospace;font-weight: bold;background-color: white;display: inline-block;line-height: 1.2em;}#sk-9fa3c343-7c3a-429e-9899-5af82f7a84f9 div.sk-label-container {position: relative;z-index: 2;text-align: center;}#sk-9fa3c343-7c3a-429e-9899-5af82f7a84f9 div.sk-container {/* jupyter's `normalize.less` sets `[hidden] { display: none; }` but bootstrap.min.css set `[hidden] { display: none !important; }` so we also need the `!important` here to be able to override the default hidden behavior on the sphinx rendered scikit-learn.org. See: https://github.com/scikit-learn/scikit-learn/issues/21755 */display: inline-block !important;position: relative;}#sk-9fa3c343-7c3a-429e-9899-5af82f7a84f9 div.sk-text-repr-fallback {display: none;}</style><div id='sk-9fa3c343-7c3a-429e-9899-5af82f7a84f9' class=\"sk-top-container\"><div class=\"sk-text-repr-fallback\"><pre>KNeighborsTimeSeriesClassifier(distance=FlatDist(transformer=ScipyDist()),\n",
       "                               n_neighbors=3)</pre><b>Please rerun this cell to show the HTML repr or trust the notebook.</b></div><div class=\"sk-container\" hidden><div class=\"sk-item sk-dashed-wrapped\"><div class='sk-label-container'><div class=\"sk-label sk-toggleable\"><input class=\"sk-toggleable__control sk-hidden--visually\" id=UUID('67499f7d-dac1-4380-a63d-b7932739d811') type=\"checkbox\" ><label for=UUID('67499f7d-dac1-4380-a63d-b7932739d811') class='sk-toggleable__label sk-toggleable__label-arrow'>KNeighborsTimeSeriesClassifier</label><div class=\"sk-toggleable__content\"><pre>KNeighborsTimeSeriesClassifier(distance=FlatDist(transformer=ScipyDist()),\n",
       "                               n_neighbors=3)</pre></div></div></div><div class=\"sk-parallel\"><div class=\"sk-parallel-item\"><div class=\"sk-item\"><div class=\"sk-serial\"><div class=\"sk-item sk-dashed-wrapped\"><div class=\"sk-parallel\"><div class=\"sk-parallel-item\"><div class=\"sk-item\"><div class=\"sk-serial\"><div class='sk-item'><div class=\"sk-estimator sk-toggleable\"><input class=\"sk-toggleable__control sk-hidden--visually\" id=UUID('44ecca82-c78d-406c-b06b-da84c9f00f74') type=\"checkbox\" ><label for=UUID('44ecca82-c78d-406c-b06b-da84c9f00f74') class='sk-toggleable__label sk-toggleable__label-arrow'>ScipyDist</label><div class=\"sk-toggleable__content\"><pre>ScipyDist()</pre></div></div></div></div></div></div></div></div></div></div></div></div></div></div></div>"
      ],
      "text/plain": [
       "KNeighborsTimeSeriesClassifier(distance=FlatDist(transformer=ScipyDist()),\n",
       "                               n_neighbors=3)"
      ]
     },
     "execution_count": 17,
     "metadata": {},
     "output_type": "execute_result"
    }
   ],
   "source": [
    "# step 4 - fit/train the classifier\n",
    "clf.fit(X_train, y_train)"
   ]
  },
  {
   "cell_type": "code",
   "execution_count": 18,
   "metadata": {},
   "outputs": [
    {
     "data": {
      "text/plain": [
       "True"
      ]
     },
     "execution_count": 18,
     "metadata": {},
     "output_type": "execute_result"
    }
   ],
   "source": [
    "# the classifier is now fitted\n",
    "clf.is_fitted"
   ]
  },
  {
   "cell_type": "code",
   "execution_count": 19,
   "metadata": {},
   "outputs": [
    {
     "data": {
      "text/plain": [
       "{'classes': array(['1', '2', '3', '4', '5', '6'], dtype='<U1'),\n",
       " 'fit_time': 2,\n",
       " 'knn_estimator': KNeighborsClassifier(algorithm='brute', metric='precomputed', n_neighbors=3),\n",
       " 'n_classes': 6,\n",
       " 'knn_estimator__classes': array(['1', '2', '3', '4', '5', '6'], dtype='<U1'),\n",
       " 'knn_estimator__effective_metric': 'precomputed',\n",
       " 'knn_estimator__effective_metric_params': {},\n",
       " 'knn_estimator__n_features_in': 200,\n",
       " 'knn_estimator__n_samples_fit': 200,\n",
       " 'knn_estimator__outputs_2d': False}"
      ]
     },
     "execution_count": 19,
     "metadata": {},
     "output_type": "execute_result"
    }
   ],
   "source": [
    "# and we can inspect fitted parameters if we like\n",
    "clf.get_fitted_params()"
   ]
  },
  {
   "cell_type": "code",
   "execution_count": 20,
   "metadata": {},
   "outputs": [],
   "source": [
    "# step 5 - predict labels on new data\n",
    "y_pred = clf.predict(X_new)"
   ]
  },
  {
   "cell_type": "code",
   "execution_count": 21,
   "metadata": {},
   "outputs": [
    {
     "data": {
      "text/plain": [
       "array(['3', '4'], dtype='<U1')"
      ]
     },
     "execution_count": 21,
     "metadata": {},
     "output_type": "execute_result"
    }
   ],
   "source": [
    "# y_pred is an 1D np.ndarray, similar to sklearn classification output\n",
    "y_pred"
   ]
  },
  {
   "attachments": {},
   "cell_type": "markdown",
   "metadata": {},
   "source": [
    "all together in one cell:"
   ]
  },
  {
   "cell_type": "code",
   "execution_count": 22,
   "metadata": {},
   "outputs": [],
   "source": [
    "# steps 1, 2 - prepare osuleaf dataset (train and new)\n",
    "from sktime.datasets import load_osuleaf\n",
    "\n",
    "X_train, y_train = load_osuleaf(split=\"train\", return_type=\"numpy3D\")\n",
    "X_new, _ = load_osuleaf(split=\"test\", return_type=\"numpy3D\")\n",
    "X_new = X_new[:2]  # smaller dataset for faster notebook runtime\n",
    "\n",
    "# step 3 - specify the classifier\n",
    "from sktime.classification.distance_based import KNeighborsTimeSeriesClassifier\n",
    "from sktime.dists_kernels.compose_tab_to_panel import FlatDist\n",
    "from sktime.dists_kernels import ScipyDist\n",
    "\n",
    "mean_eucl_dist = FlatDist(ScipyDist())\n",
    "clf = KNeighborsTimeSeriesClassifier(n_neighbors=3, distance=mean_eucl_dist)\n",
    "\n",
    "# step 4 - fit/train the classifier\n",
    "clf.fit(X_train, y_train)\n",
    "\n",
    "# step 5 - predict labels on new data\n",
    "y_pred = clf.predict(X_new)"
   ]
  },
  {
   "attachments": {},
   "cell_type": "markdown",
   "metadata": {},
   "source": [
    "### 2.2.4 Time Series Classification - simple evaluation vignette"
   ]
  },
  {
   "attachments": {},
   "cell_type": "markdown",
   "metadata": {},
   "source": [
    "Evaluation is simila to `sklearn` classifiers - we split a dataset and evaluate performance on the test set.\n",
    "\n",
    "This includes as additional steps:\n",
    "\n",
    "* splitting the initial, historical data, e.g., using `train_test_split`\n",
    "* comparing predictions with a held out data set"
   ]
  },
  {
   "cell_type": "code",
   "execution_count": 23,
   "metadata": {},
   "outputs": [
    {
     "data": {
      "text/plain": [
       "0.0"
      ]
     },
     "execution_count": 23,
     "metadata": {},
     "output_type": "execute_result"
    }
   ],
   "source": [
    "from sktime.classification.distance_based import KNeighborsTimeSeriesClassifier\n",
    "from sktime.datasets import load_osuleaf\n",
    "\n",
    "# data should be split into train/test\n",
    "X_train, y_train = load_osuleaf(split=\"train\", return_type=\"numpy3D\")\n",
    "X_test, y_test = load_osuleaf(split=\"test\", return_type=\"numpy3D\")\n",
    "X_test = X_test[:2]\n",
    "y_test = y_test[:2]\n",
    "\n",
    "# step 3-5 are the same\n",
    "from sktime.classification.distance_based import KNeighborsTimeSeriesClassifier\n",
    "from sktime.dists_kernels.compose_tab_to_panel import FlatDist\n",
    "from sktime.dists_kernels import ScipyDist\n",
    "\n",
    "mean_eucl_dist = FlatDist(ScipyDist())\n",
    "clf = KNeighborsTimeSeriesClassifier(n_neighbors=3, distance=mean_eucl_dist)\n",
    "\n",
    "clf.fit(X_train, y_train)\n",
    "y_pred = clf.predict(X_test)\n",
    "\n",
    "# for simplest evaluation, compare ground truth to predictions\n",
    "from sklearn.metrics import accuracy_score\n",
    "\n",
    "accuracy_score(y_test, y_pred)"
   ]
  },
  {
   "attachments": {},
   "cell_type": "markdown",
   "metadata": {},
   "source": [
    "### 2.2.5 Time Series Regression - basic vignettes"
   ]
  },
  {
   "attachments": {},
   "cell_type": "markdown",
   "metadata": {},
   "source": [
    "TSR vignettes are exactly the same as TSC, except that:\n",
    "\n",
    "* `y` in `fit` input and `predict` output should be float 1D `np.ndarray`, not categorical\n",
    "* other algorithms are commonly used and/or performant"
   ]
  },
  {
   "cell_type": "code",
   "execution_count": 24,
   "metadata": {},
   "outputs": [],
   "source": [
    "# steps 1, 2 - prepare dataset (train and new)\n",
    "from sktime.datasets import load_covid_3month\n",
    "\n",
    "X_train, y_train = load_covid_3month(split=\"train\")\n",
    "y_train = y_train.astype(\"float\")\n",
    "X_new, _ = load_covid_3month(split=\"test\")\n",
    "X_new = X_new.loc[:2]  # smaller dataset for faster notebook runtime\n",
    "\n",
    "# step 3 - specify the regressor\n",
    "from sktime.regression.distance_based import KNeighborsTimeSeriesRegressor\n",
    "\n",
    "clf = KNeighborsTimeSeriesRegressor(n_neighbors=3, distance=mean_eucl_dist)\n",
    "\n",
    "# step 4 - fit/train the regressor\n",
    "clf.fit(X_train, y_train)\n",
    "\n",
    "# step 5 - predict labels on new data\n",
    "y_pred = clf.predict(X_new)"
   ]
  },
  {
   "cell_type": "code",
   "execution_count": 25,
   "metadata": {},
   "outputs": [
    {
     "data": {
      "text/plain": [
       "array([0.02957762, 0.0065062 , 0.00183655])"
      ]
     },
     "execution_count": 25,
     "metadata": {},
     "output_type": "execute_result"
    }
   ],
   "source": [
    "y_pred  # not too interesting but float"
   ]
  },
  {
   "attachments": {},
   "cell_type": "markdown",
   "metadata": {},
   "source": [
    "### 2.2.6 Time Series Clustering - basic vignettes"
   ]
  },
  {
   "attachments": {},
   "cell_type": "markdown",
   "metadata": {},
   "source": [
    "TS clustering is similar - 1st step is also `fit`, but unsupervised\n",
    "\n",
    "i.e., no labels `y`, and next step is inspecting clusters"
   ]
  },
  {
   "cell_type": "code",
   "execution_count": 26,
   "metadata": {},
   "outputs": [
    {
     "data": {
      "text/plain": [
       "{'core_sample_indices': array([], dtype=int64),\n",
       " 'dbscan': DBSCAN(metric='precomputed'),\n",
       " 'fit_time': 4,\n",
       " 'labels': array([-1, -1, -1, -1, -1, -1, -1, -1, -1, -1], dtype=int64),\n",
       " 'dbscan__components': array([], shape=(0, 10), dtype=float64),\n",
       " 'dbscan__core_sample_indices': array([], dtype=int64),\n",
       " 'dbscan__labels': array([-1, -1, -1, -1, -1, -1, -1, -1, -1, -1], dtype=int64),\n",
       " 'dbscan__n_features_in': 10}"
      ]
     },
     "execution_count": 26,
     "metadata": {},
     "output_type": "execute_result"
    }
   ],
   "source": [
    "from sktime.clustering.dbscan import TimeSeriesDBSCAN\n",
    "\n",
    "# step 1 - prepare dataset (train and new)\n",
    "X, _ = load_osuleaf(split=\"train\", return_type=\"numpy3D\")\n",
    "X = X[:10]\n",
    "\n",
    "# step 2 - specify the clusterer\n",
    "from sktime.classification.distance_based import KNeighborsTimeSeriesClassifier\n",
    "from sktime.dists_kernels.compose_tab_to_panel import FlatDist\n",
    "from sktime.dists_kernels import ScipyDist\n",
    "\n",
    "mean_eucl_dist = FlatDist(ScipyDist())\n",
    "clst = TimeSeriesDBSCAN(distance=mean_eucl_dist)\n",
    "\n",
    "# step 3 - fit the clusterer to the data\n",
    "clst.fit(X)\n",
    "\n",
    "# step 4 - inspect the clustering\n",
    "clst.get_fitted_params()"
   ]
  },
  {
   "attachments": {},
   "cell_type": "markdown",
   "metadata": {},
   "source": [
    "## 2.3 Searching for estimators, estimator tags"
   ]
  },
  {
   "attachments": {},
   "cell_type": "markdown",
   "metadata": {},
   "source": [
    "Estimators in `sktime` are tagged.\n",
    "\n",
    "Tags starting with \"capability\" indicate things the estimator can or cannot do, e.g.,\n",
    "\n",
    "* `\"capability:missing_values\"` - dealing with missing values\n",
    "* `\"capability:multivariate\"` - daling with multivariate input\n",
    "* `\"capability:unequal_length\"` - deaing with time series panels where the individual time series have unequal length and/or unequal index"
   ]
  },
  {
   "attachments": {},
   "cell_type": "markdown",
   "metadata": {},
   "source": [
    "all tags for an estimator scitype (e.g., classifier, regressor) can be inspected by `sktime.registry.all_tags`:"
   ]
  },
  {
   "cell_type": "code",
   "execution_count": 27,
   "metadata": {},
   "outputs": [
    {
     "data": {
      "text/html": [
       "<div>\n",
       "<style scoped>\n",
       "    .dataframe tbody tr th:only-of-type {\n",
       "        vertical-align: middle;\n",
       "    }\n",
       "\n",
       "    .dataframe tbody tr th {\n",
       "        vertical-align: top;\n",
       "    }\n",
       "\n",
       "    .dataframe thead th {\n",
       "        text-align: right;\n",
       "    }\n",
       "</style>\n",
       "<table border=\"1\" class=\"dataframe\">\n",
       "  <thead>\n",
       "    <tr style=\"text-align: right;\">\n",
       "      <th></th>\n",
       "      <th>name</th>\n",
       "      <th>scitype</th>\n",
       "      <th>type</th>\n",
       "      <th>description</th>\n",
       "    </tr>\n",
       "  </thead>\n",
       "  <tbody>\n",
       "    <tr>\n",
       "      <th>0</th>\n",
       "      <td>capability:contractable</td>\n",
       "      <td>classifier</td>\n",
       "      <td>bool</td>\n",
       "      <td>contract time setting, does the estimator supp...</td>\n",
       "    </tr>\n",
       "    <tr>\n",
       "      <th>1</th>\n",
       "      <td>capability:missing_values</td>\n",
       "      <td>[classifier, early_classifier, param_est, regr...</td>\n",
       "      <td>bool</td>\n",
       "      <td>can the classifier handle missing data (NA, np...</td>\n",
       "    </tr>\n",
       "    <tr>\n",
       "      <th>2</th>\n",
       "      <td>capability:multithreading</td>\n",
       "      <td>[classifier, early_classifier]</td>\n",
       "      <td>bool</td>\n",
       "      <td>can the classifier set n_jobs to use multiple ...</td>\n",
       "    </tr>\n",
       "    <tr>\n",
       "      <th>3</th>\n",
       "      <td>capability:multivariate</td>\n",
       "      <td>[classifier, early_classifier, param_est, regr...</td>\n",
       "      <td>bool</td>\n",
       "      <td>can the classifier classify time series with 2...</td>\n",
       "    </tr>\n",
       "    <tr>\n",
       "      <th>4</th>\n",
       "      <td>capability:predict_proba</td>\n",
       "      <td>classifier</td>\n",
       "      <td>bool</td>\n",
       "      <td>does the classifier implement a non-default pr...</td>\n",
       "    </tr>\n",
       "    <tr>\n",
       "      <th>5</th>\n",
       "      <td>capability:train_estimate</td>\n",
       "      <td>classifier</td>\n",
       "      <td>bool</td>\n",
       "      <td>can the classifier estimate its performance on...</td>\n",
       "    </tr>\n",
       "    <tr>\n",
       "      <th>6</th>\n",
       "      <td>capability:unequal_length</td>\n",
       "      <td>[classifier, early_classifier, regressor, tran...</td>\n",
       "      <td>bool</td>\n",
       "      <td>can the estimator handle unequal length time s...</td>\n",
       "    </tr>\n",
       "    <tr>\n",
       "      <th>7</th>\n",
       "      <td>classifier_type</td>\n",
       "      <td>classifier</td>\n",
       "      <td>(list, [dictionary, distance, feature, hybrid,...</td>\n",
       "      <td>which type the classifier falls under in the t...</td>\n",
       "    </tr>\n",
       "  </tbody>\n",
       "</table>\n",
       "</div>"
      ],
      "text/plain": [
       "                        name                                            scitype                                               type                                        description\n",
       "0    capability:contractable                                         classifier                                               bool  contract time setting, does the estimator supp...\n",
       "1  capability:missing_values  [classifier, early_classifier, param_est, regr...                                               bool  can the classifier handle missing data (NA, np...\n",
       "2  capability:multithreading                     [classifier, early_classifier]                                               bool  can the classifier set n_jobs to use multiple ...\n",
       "3    capability:multivariate  [classifier, early_classifier, param_est, regr...                                               bool  can the classifier classify time series with 2...\n",
       "4   capability:predict_proba                                         classifier                                               bool  does the classifier implement a non-default pr...\n",
       "5  capability:train_estimate                                         classifier                                               bool  can the classifier estimate its performance on...\n",
       "6  capability:unequal_length  [classifier, early_classifier, regressor, tran...                                               bool  can the estimator handle unequal length time s...\n",
       "7            classifier_type                                         classifier  (list, [dictionary, distance, feature, hybrid,...  which type the classifier falls under in the t..."
      ]
     },
     "execution_count": 27,
     "metadata": {},
     "output_type": "execute_result"
    }
   ],
   "source": [
    "from sktime.registry import all_tags\n",
    "\n",
    "all_tags(\"classifier\", as_dataframe=True)"
   ]
  },
  {
   "attachments": {},
   "cell_type": "markdown",
   "metadata": {},
   "source": [
    "valid estimator types are listed in the `all_tags` docstring, or `sktime.registry.BASE_CLASS_REGISTER`"
   ]
  },
  {
   "cell_type": "code",
   "execution_count": 28,
   "metadata": {},
   "outputs": [
    {
     "data": {
      "text/plain": [
       "('object',\n",
       " 'estimator',\n",
       " 'aligner',\n",
       " 'classifier',\n",
       " 'clusterer',\n",
       " 'early_classifier',\n",
       " 'forecaster',\n",
       " 'metric',\n",
       " 'network',\n",
       " 'param_est',\n",
       " 'regressor',\n",
       " 'series-annotator',\n",
       " 'splitter',\n",
       " 'transformer',\n",
       " 'transformer-pairwise',\n",
       " 'transformer-pairwise-panel',\n",
       " 'distribution')"
      ]
     },
     "execution_count": 28,
     "metadata": {},
     "output_type": "execute_result"
    }
   ],
   "source": [
    "from sktime.registry import BASE_CLASS_REGISTER\n",
    "\n",
    "# get only fist table column, the list of types\n",
    "list(zip(*BASE_CLASS_REGISTER))[0]"
   ]
  },
  {
   "attachments": {},
   "cell_type": "markdown",
   "metadata": {},
   "source": [
    "to find all estimators of a certain type, use `sktime.registry.all_estimators`"
   ]
  },
  {
   "cell_type": "code",
   "execution_count": 29,
   "metadata": {},
   "outputs": [
    {
     "data": {
      "text/html": [
       "<div>\n",
       "<style scoped>\n",
       "    .dataframe tbody tr th:only-of-type {\n",
       "        vertical-align: middle;\n",
       "    }\n",
       "\n",
       "    .dataframe tbody tr th {\n",
       "        vertical-align: top;\n",
       "    }\n",
       "\n",
       "    .dataframe thead th {\n",
       "        text-align: right;\n",
       "    }\n",
       "</style>\n",
       "<table border=\"1\" class=\"dataframe\">\n",
       "  <thead>\n",
       "    <tr style=\"text-align: right;\">\n",
       "      <th></th>\n",
       "      <th>name</th>\n",
       "      <th>object</th>\n",
       "    </tr>\n",
       "  </thead>\n",
       "  <tbody>\n",
       "    <tr>\n",
       "      <th>0</th>\n",
       "      <td>Arsenal</td>\n",
       "      <td>&lt;class 'sktime.classification.kernel_based._ar...</td>\n",
       "    </tr>\n",
       "    <tr>\n",
       "      <th>1</th>\n",
       "      <td>BOSSEnsemble</td>\n",
       "      <td>&lt;class 'sktime.classification.dictionary_based...</td>\n",
       "    </tr>\n",
       "    <tr>\n",
       "      <th>2</th>\n",
       "      <td>BaggingClassifier</td>\n",
       "      <td>&lt;class 'sktime.classification.ensemble._baggin...</td>\n",
       "    </tr>\n",
       "    <tr>\n",
       "      <th>3</th>\n",
       "      <td>CNNClassifier</td>\n",
       "      <td>&lt;class 'sktime.classification.deep_learning.cn...</td>\n",
       "    </tr>\n",
       "    <tr>\n",
       "      <th>4</th>\n",
       "      <td>CanonicalIntervalForest</td>\n",
       "      <td>&lt;class 'sktime.classification.interval_based._...</td>\n",
       "    </tr>\n",
       "    <tr>\n",
       "      <th>5</th>\n",
       "      <td>Catch22Classifier</td>\n",
       "      <td>&lt;class 'sktime.classification.feature_based._c...</td>\n",
       "    </tr>\n",
       "    <tr>\n",
       "      <th>6</th>\n",
       "      <td>ClassifierPipeline</td>\n",
       "      <td>&lt;class 'sktime.classification.compose._pipelin...</td>\n",
       "    </tr>\n",
       "    <tr>\n",
       "      <th>7</th>\n",
       "      <td>ColumnEnsembleClassifier</td>\n",
       "      <td>&lt;class 'sktime.classification.compose._column_...</td>\n",
       "    </tr>\n",
       "    <tr>\n",
       "      <th>8</th>\n",
       "      <td>ComposableTimeSeriesForestClassifier</td>\n",
       "      <td>&lt;class 'sktime.classification.ensemble._ctsf.C...</td>\n",
       "    </tr>\n",
       "    <tr>\n",
       "      <th>9</th>\n",
       "      <td>ContractableBOSS</td>\n",
       "      <td>&lt;class 'sktime.classification.dictionary_based...</td>\n",
       "    </tr>\n",
       "    <tr>\n",
       "      <th>10</th>\n",
       "      <td>DrCIF</td>\n",
       "      <td>&lt;class 'sktime.classification.interval_based._...</td>\n",
       "    </tr>\n",
       "    <tr>\n",
       "      <th>11</th>\n",
       "      <td>DummyClassifier</td>\n",
       "      <td>&lt;class 'sktime.classification.dummy._dummy.Dum...</td>\n",
       "    </tr>\n",
       "    <tr>\n",
       "      <th>12</th>\n",
       "      <td>ElasticEnsemble</td>\n",
       "      <td>&lt;class 'sktime.classification.distance_based._...</td>\n",
       "    </tr>\n",
       "    <tr>\n",
       "      <th>13</th>\n",
       "      <td>FCNClassifier</td>\n",
       "      <td>&lt;class 'sktime.classification.deep_learning.fc...</td>\n",
       "    </tr>\n",
       "    <tr>\n",
       "      <th>14</th>\n",
       "      <td>FreshPRINCE</td>\n",
       "      <td>&lt;class 'sktime.classification.feature_based._f...</td>\n",
       "    </tr>\n",
       "    <tr>\n",
       "      <th>15</th>\n",
       "      <td>HIVECOTEV1</td>\n",
       "      <td>&lt;class 'sktime.classification.hybrid._hivecote...</td>\n",
       "    </tr>\n",
       "    <tr>\n",
       "      <th>16</th>\n",
       "      <td>HIVECOTEV2</td>\n",
       "      <td>&lt;class 'sktime.classification.hybrid._hivecote...</td>\n",
       "    </tr>\n",
       "    <tr>\n",
       "      <th>17</th>\n",
       "      <td>InceptionTimeClassifier</td>\n",
       "      <td>&lt;class 'sktime.classification.deep_learning.in...</td>\n",
       "    </tr>\n",
       "    <tr>\n",
       "      <th>18</th>\n",
       "      <td>IndividualBOSS</td>\n",
       "      <td>&lt;class 'sktime.classification.dictionary_based...</td>\n",
       "    </tr>\n",
       "    <tr>\n",
       "      <th>19</th>\n",
       "      <td>IndividualTDE</td>\n",
       "      <td>&lt;class 'sktime.classification.dictionary_based...</td>\n",
       "    </tr>\n",
       "    <tr>\n",
       "      <th>20</th>\n",
       "      <td>KNeighborsTimeSeriesClassifier</td>\n",
       "      <td>&lt;class 'sktime.classification.distance_based._...</td>\n",
       "    </tr>\n",
       "    <tr>\n",
       "      <th>21</th>\n",
       "      <td>LSTMFCNClassifier</td>\n",
       "      <td>&lt;class 'sktime.classification.deep_learning.ls...</td>\n",
       "    </tr>\n",
       "    <tr>\n",
       "      <th>22</th>\n",
       "      <td>MACNNClassifier</td>\n",
       "      <td>&lt;class 'sktime.classification.deep_learning.ma...</td>\n",
       "    </tr>\n",
       "    <tr>\n",
       "      <th>23</th>\n",
       "      <td>MCDCNNClassifier</td>\n",
       "      <td>&lt;class 'sktime.classification.deep_learning.mc...</td>\n",
       "    </tr>\n",
       "    <tr>\n",
       "      <th>24</th>\n",
       "      <td>MLPClassifier</td>\n",
       "      <td>&lt;class 'sktime.classification.deep_learning.ml...</td>\n",
       "    </tr>\n",
       "    <tr>\n",
       "      <th>25</th>\n",
       "      <td>MUSE</td>\n",
       "      <td>&lt;class 'sktime.classification.dictionary_based...</td>\n",
       "    </tr>\n",
       "    <tr>\n",
       "      <th>26</th>\n",
       "      <td>MatrixProfileClassifier</td>\n",
       "      <td>&lt;class 'sktime.classification.feature_based._m...</td>\n",
       "    </tr>\n",
       "    <tr>\n",
       "      <th>27</th>\n",
       "      <td>MrSQM</td>\n",
       "      <td>&lt;class 'sktime.classification.shapelet_based._...</td>\n",
       "    </tr>\n",
       "    <tr>\n",
       "      <th>28</th>\n",
       "      <td>ProbabilityThresholdEarlyClassifier</td>\n",
       "      <td>&lt;class 'sktime.classification.early_classifica...</td>\n",
       "    </tr>\n",
       "    <tr>\n",
       "      <th>29</th>\n",
       "      <td>ProximityForest</td>\n",
       "      <td>&lt;class 'sktime.classification.distance_based._...</td>\n",
       "    </tr>\n",
       "    <tr>\n",
       "      <th>30</th>\n",
       "      <td>ProximityStump</td>\n",
       "      <td>&lt;class 'sktime.classification.distance_based._...</td>\n",
       "    </tr>\n",
       "    <tr>\n",
       "      <th>31</th>\n",
       "      <td>ProximityTree</td>\n",
       "      <td>&lt;class 'sktime.classification.distance_based._...</td>\n",
       "    </tr>\n",
       "    <tr>\n",
       "      <th>32</th>\n",
       "      <td>RandomIntervalClassifier</td>\n",
       "      <td>&lt;class 'sktime.classification.feature_based._r...</td>\n",
       "    </tr>\n",
       "    <tr>\n",
       "      <th>33</th>\n",
       "      <td>RandomIntervalSpectralEnsemble</td>\n",
       "      <td>&lt;class 'sktime.classification.interval_based._...</td>\n",
       "    </tr>\n",
       "    <tr>\n",
       "      <th>34</th>\n",
       "      <td>ResNetClassifier</td>\n",
       "      <td>&lt;class 'sktime.classification.deep_learning.re...</td>\n",
       "    </tr>\n",
       "    <tr>\n",
       "      <th>35</th>\n",
       "      <td>RocketClassifier</td>\n",
       "      <td>&lt;class 'sktime.classification.kernel_based._ro...</td>\n",
       "    </tr>\n",
       "    <tr>\n",
       "      <th>36</th>\n",
       "      <td>ShapeDTW</td>\n",
       "      <td>&lt;class 'sktime.classification.distance_based._...</td>\n",
       "    </tr>\n",
       "    <tr>\n",
       "      <th>37</th>\n",
       "      <td>ShapeletTransformClassifier</td>\n",
       "      <td>&lt;class 'sktime.classification.shapelet_based._...</td>\n",
       "    </tr>\n",
       "    <tr>\n",
       "      <th>38</th>\n",
       "      <td>SignatureClassifier</td>\n",
       "      <td>&lt;class 'sktime.classification.feature_based._s...</td>\n",
       "    </tr>\n",
       "    <tr>\n",
       "      <th>39</th>\n",
       "      <td>SimpleRNNClassifier</td>\n",
       "      <td>&lt;class 'sktime.classification.deep_learning.rn...</td>\n",
       "    </tr>\n",
       "    <tr>\n",
       "      <th>40</th>\n",
       "      <td>SklearnClassifierPipeline</td>\n",
       "      <td>&lt;class 'sktime.classification.compose._pipelin...</td>\n",
       "    </tr>\n",
       "    <tr>\n",
       "      <th>41</th>\n",
       "      <td>SummaryClassifier</td>\n",
       "      <td>&lt;class 'sktime.classification.feature_based._s...</td>\n",
       "    </tr>\n",
       "    <tr>\n",
       "      <th>42</th>\n",
       "      <td>SupervisedTimeSeriesForest</td>\n",
       "      <td>&lt;class 'sktime.classification.interval_based._...</td>\n",
       "    </tr>\n",
       "    <tr>\n",
       "      <th>43</th>\n",
       "      <td>TSFreshClassifier</td>\n",
       "      <td>&lt;class 'sktime.classification.feature_based._t...</td>\n",
       "    </tr>\n",
       "    <tr>\n",
       "      <th>44</th>\n",
       "      <td>TapNetClassifier</td>\n",
       "      <td>&lt;class 'sktime.classification.deep_learning.ta...</td>\n",
       "    </tr>\n",
       "    <tr>\n",
       "      <th>45</th>\n",
       "      <td>TemporalDictionaryEnsemble</td>\n",
       "      <td>&lt;class 'sktime.classification.dictionary_based...</td>\n",
       "    </tr>\n",
       "    <tr>\n",
       "      <th>46</th>\n",
       "      <td>TimeSeriesForestClassifier</td>\n",
       "      <td>&lt;class 'sktime.classification.interval_based._...</td>\n",
       "    </tr>\n",
       "    <tr>\n",
       "      <th>47</th>\n",
       "      <td>TimeSeriesSVC</td>\n",
       "      <td>&lt;class 'sktime.classification.kernel_based._sv...</td>\n",
       "    </tr>\n",
       "    <tr>\n",
       "      <th>48</th>\n",
       "      <td>WEASEL</td>\n",
       "      <td>&lt;class 'sktime.classification.dictionary_based...</td>\n",
       "    </tr>\n",
       "    <tr>\n",
       "      <th>49</th>\n",
       "      <td>WeightedEnsembleClassifier</td>\n",
       "      <td>&lt;class 'sktime.classification.ensemble._weight...</td>\n",
       "    </tr>\n",
       "  </tbody>\n",
       "</table>\n",
       "</div>"
      ],
      "text/plain": [
       "                                    name                                             object\n",
       "0                                Arsenal  <class 'sktime.classification.kernel_based._ar...\n",
       "1                           BOSSEnsemble  <class 'sktime.classification.dictionary_based...\n",
       "2                      BaggingClassifier  <class 'sktime.classification.ensemble._baggin...\n",
       "3                          CNNClassifier  <class 'sktime.classification.deep_learning.cn...\n",
       "4                CanonicalIntervalForest  <class 'sktime.classification.interval_based._...\n",
       "5                      Catch22Classifier  <class 'sktime.classification.feature_based._c...\n",
       "6                     ClassifierPipeline  <class 'sktime.classification.compose._pipelin...\n",
       "7               ColumnEnsembleClassifier  <class 'sktime.classification.compose._column_...\n",
       "8   ComposableTimeSeriesForestClassifier  <class 'sktime.classification.ensemble._ctsf.C...\n",
       "9                       ContractableBOSS  <class 'sktime.classification.dictionary_based...\n",
       "10                                 DrCIF  <class 'sktime.classification.interval_based._...\n",
       "11                       DummyClassifier  <class 'sktime.classification.dummy._dummy.Dum...\n",
       "12                       ElasticEnsemble  <class 'sktime.classification.distance_based._...\n",
       "13                         FCNClassifier  <class 'sktime.classification.deep_learning.fc...\n",
       "14                           FreshPRINCE  <class 'sktime.classification.feature_based._f...\n",
       "15                            HIVECOTEV1  <class 'sktime.classification.hybrid._hivecote...\n",
       "16                            HIVECOTEV2  <class 'sktime.classification.hybrid._hivecote...\n",
       "17               InceptionTimeClassifier  <class 'sktime.classification.deep_learning.in...\n",
       "18                        IndividualBOSS  <class 'sktime.classification.dictionary_based...\n",
       "19                         IndividualTDE  <class 'sktime.classification.dictionary_based...\n",
       "20        KNeighborsTimeSeriesClassifier  <class 'sktime.classification.distance_based._...\n",
       "21                     LSTMFCNClassifier  <class 'sktime.classification.deep_learning.ls...\n",
       "22                       MACNNClassifier  <class 'sktime.classification.deep_learning.ma...\n",
       "23                      MCDCNNClassifier  <class 'sktime.classification.deep_learning.mc...\n",
       "24                         MLPClassifier  <class 'sktime.classification.deep_learning.ml...\n",
       "25                                  MUSE  <class 'sktime.classification.dictionary_based...\n",
       "26               MatrixProfileClassifier  <class 'sktime.classification.feature_based._m...\n",
       "27                                 MrSQM  <class 'sktime.classification.shapelet_based._...\n",
       "28   ProbabilityThresholdEarlyClassifier  <class 'sktime.classification.early_classifica...\n",
       "29                       ProximityForest  <class 'sktime.classification.distance_based._...\n",
       "30                        ProximityStump  <class 'sktime.classification.distance_based._...\n",
       "31                         ProximityTree  <class 'sktime.classification.distance_based._...\n",
       "32              RandomIntervalClassifier  <class 'sktime.classification.feature_based._r...\n",
       "33        RandomIntervalSpectralEnsemble  <class 'sktime.classification.interval_based._...\n",
       "34                      ResNetClassifier  <class 'sktime.classification.deep_learning.re...\n",
       "35                      RocketClassifier  <class 'sktime.classification.kernel_based._ro...\n",
       "36                              ShapeDTW  <class 'sktime.classification.distance_based._...\n",
       "37           ShapeletTransformClassifier  <class 'sktime.classification.shapelet_based._...\n",
       "38                   SignatureClassifier  <class 'sktime.classification.feature_based._s...\n",
       "39                   SimpleRNNClassifier  <class 'sktime.classification.deep_learning.rn...\n",
       "40             SklearnClassifierPipeline  <class 'sktime.classification.compose._pipelin...\n",
       "41                     SummaryClassifier  <class 'sktime.classification.feature_based._s...\n",
       "42            SupervisedTimeSeriesForest  <class 'sktime.classification.interval_based._...\n",
       "43                     TSFreshClassifier  <class 'sktime.classification.feature_based._t...\n",
       "44                      TapNetClassifier  <class 'sktime.classification.deep_learning.ta...\n",
       "45            TemporalDictionaryEnsemble  <class 'sktime.classification.dictionary_based...\n",
       "46            TimeSeriesForestClassifier  <class 'sktime.classification.interval_based._...\n",
       "47                         TimeSeriesSVC  <class 'sktime.classification.kernel_based._sv...\n",
       "48                                WEASEL  <class 'sktime.classification.dictionary_based...\n",
       "49            WeightedEnsembleClassifier  <class 'sktime.classification.ensemble._weight..."
      ]
     },
     "execution_count": 29,
     "metadata": {},
     "output_type": "execute_result"
    }
   ],
   "source": [
    "# list all classifiers in sktime\n",
    "from sktime.registry import all_estimators\n",
    "\n",
    "all_estimators(\"classifier\", as_dataframe=True)"
   ]
  },
  {
   "attachments": {},
   "cell_type": "markdown",
   "metadata": {},
   "source": [
    "for listing all estimators of a certain type with a certain capability,\n",
    "use the `filter_tags` argument of `all_estimators`:"
   ]
  },
  {
   "cell_type": "code",
   "execution_count": 30,
   "metadata": {},
   "outputs": [
    {
     "data": {
      "text/html": [
       "<div>\n",
       "<style scoped>\n",
       "    .dataframe tbody tr th:only-of-type {\n",
       "        vertical-align: middle;\n",
       "    }\n",
       "\n",
       "    .dataframe tbody tr th {\n",
       "        vertical-align: top;\n",
       "    }\n",
       "\n",
       "    .dataframe thead th {\n",
       "        text-align: right;\n",
       "    }\n",
       "</style>\n",
       "<table border=\"1\" class=\"dataframe\">\n",
       "  <thead>\n",
       "    <tr style=\"text-align: right;\">\n",
       "      <th></th>\n",
       "      <th>name</th>\n",
       "      <th>object</th>\n",
       "    </tr>\n",
       "  </thead>\n",
       "  <tbody>\n",
       "    <tr>\n",
       "      <th>0</th>\n",
       "      <td>BaggingClassifier</td>\n",
       "      <td>&lt;class 'sktime.classification.ensemble._baggin...</td>\n",
       "    </tr>\n",
       "    <tr>\n",
       "      <th>1</th>\n",
       "      <td>DummyClassifier</td>\n",
       "      <td>&lt;class 'sktime.classification.dummy._dummy.Dum...</td>\n",
       "    </tr>\n",
       "    <tr>\n",
       "      <th>2</th>\n",
       "      <td>KNeighborsTimeSeriesClassifier</td>\n",
       "      <td>&lt;class 'sktime.classification.distance_based._...</td>\n",
       "    </tr>\n",
       "    <tr>\n",
       "      <th>3</th>\n",
       "      <td>SklearnClassifierPipeline</td>\n",
       "      <td>&lt;class 'sktime.classification.compose._pipelin...</td>\n",
       "    </tr>\n",
       "    <tr>\n",
       "      <th>4</th>\n",
       "      <td>TimeSeriesSVC</td>\n",
       "      <td>&lt;class 'sktime.classification.kernel_based._sv...</td>\n",
       "    </tr>\n",
       "    <tr>\n",
       "      <th>5</th>\n",
       "      <td>WeightedEnsembleClassifier</td>\n",
       "      <td>&lt;class 'sktime.classification.ensemble._weight...</td>\n",
       "    </tr>\n",
       "  </tbody>\n",
       "</table>\n",
       "</div>"
      ],
      "text/plain": [
       "                             name                                             object\n",
       "0               BaggingClassifier  <class 'sktime.classification.ensemble._baggin...\n",
       "1                 DummyClassifier  <class 'sktime.classification.dummy._dummy.Dum...\n",
       "2  KNeighborsTimeSeriesClassifier  <class 'sktime.classification.distance_based._...\n",
       "3       SklearnClassifierPipeline  <class 'sktime.classification.compose._pipelin...\n",
       "4                   TimeSeriesSVC  <class 'sktime.classification.kernel_based._sv...\n",
       "5      WeightedEnsembleClassifier  <class 'sktime.classification.ensemble._weight..."
      ]
     },
     "execution_count": 30,
     "metadata": {},
     "output_type": "execute_result"
    }
   ],
   "source": [
    "# list all classifiers in sktime\n",
    "# that can classify panels of time series containing missing data\n",
    "from sktime.registry import all_estimators\n",
    "\n",
    "all_estimators(\"classifier\", as_dataframe=True, filter_tags={\"capability:missing_values\": True})"
   ]
  },
  {
   "attachments": {},
   "cell_type": "markdown",
   "metadata": {},
   "source": [
    "side note:\n",
    "\n",
    "don't worry about how short the list is - when in doubt, it is always possible to pipeline with `Imputer`\n",
    "\n",
    "as in the next section :-)"
   ]
  },
  {
   "attachments": {},
   "cell_type": "markdown",
   "metadata": {},
   "source": [
    "## 2.4 Pipelines, Feature Extraction, Tuning, Composition\n"
   ]
  },
  {
   "attachments": {},
   "cell_type": "markdown",
   "metadata": {},
   "source": [
    "similar to `sklearn` for \"tabular\" classification, regression, etc,\n",
    "\n",
    "`sktime` has a rich set of tools for:\n",
    "\n",
    "* feature extraction via transformers\n",
    "* pipeline transformers with any estimator\n",
    "* tuning individual estimators or pipelines via grid search and similar\n",
    "* building ensembles out of individual estimators, or other composites\n",
    "\n",
    "`sktime` is also fully interoperable with `sklearn` interface if `numpy` based data mtypes are used\n",
    "\n",
    "(although this loses support for unequal length time series)"
   ]
  },
  {
   "attachments": {},
   "cell_type": "markdown",
   "metadata": {},
   "source": [
    "### 2.4.1 Primer on `sktime` transformers for feature extraction"
   ]
  },
  {
   "attachments": {},
   "cell_type": "markdown",
   "metadata": {},
   "source": [
    "all `sktime` transformers work natively with panel data:"
   ]
  },
  {
   "cell_type": "code",
   "execution_count": 31,
   "metadata": {},
   "outputs": [
    {
     "data": {
      "text/html": [
       "<div>\n",
       "<style scoped>\n",
       "    .dataframe tbody tr th:only-of-type {\n",
       "        vertical-align: middle;\n",
       "    }\n",
       "\n",
       "    .dataframe tbody tr th {\n",
       "        vertical-align: top;\n",
       "    }\n",
       "\n",
       "    .dataframe thead th {\n",
       "        text-align: right;\n",
       "    }\n",
       "</style>\n",
       "<table border=\"1\" class=\"dataframe\">\n",
       "  <thead>\n",
       "    <tr style=\"text-align: right;\">\n",
       "      <th></th>\n",
       "      <th></th>\n",
       "      <th>dim_0</th>\n",
       "    </tr>\n",
       "    <tr>\n",
       "      <th></th>\n",
       "      <th>timepoints</th>\n",
       "      <th></th>\n",
       "    </tr>\n",
       "  </thead>\n",
       "  <tbody>\n",
       "    <tr>\n",
       "      <th rowspan=\"5\" valign=\"top\">0</th>\n",
       "      <th>0</th>\n",
       "      <td>1.275524</td>\n",
       "    </tr>\n",
       "    <tr>\n",
       "      <th>1</th>\n",
       "      <td>1.186165</td>\n",
       "    </tr>\n",
       "    <tr>\n",
       "      <th>2</th>\n",
       "      <td>1.093307</td>\n",
       "    </tr>\n",
       "    <tr>\n",
       "      <th>3</th>\n",
       "      <td>1.007703</td>\n",
       "    </tr>\n",
       "    <tr>\n",
       "      <th>4</th>\n",
       "      <td>0.917668</td>\n",
       "    </tr>\n",
       "  </tbody>\n",
       "</table>\n",
       "</div>"
      ],
      "text/plain": [
       "                 dim_0\n",
       "  timepoints          \n",
       "0 0           1.275524\n",
       "  1           1.186165\n",
       "  2           1.093307\n",
       "  3           1.007703\n",
       "  4           0.917668"
      ]
     },
     "execution_count": 31,
     "metadata": {},
     "output_type": "execute_result"
    }
   ],
   "source": [
    "from sktime.datasets import load_osuleaf\n",
    "from sktime.transformations.series.detrend import Detrender\n",
    "\n",
    "# load some panel data\n",
    "X, _ = load_osuleaf(return_type=\"pd-multiindex\")\n",
    "\n",
    "# specify a linear detrender\n",
    "detrender = Detrender()\n",
    "\n",
    "# detrend X by removing linear trend from each instance\n",
    "X_detrended = detrender.fit_transform(X)\n",
    "X_detrended.head()"
   ]
  },
  {
   "attachments": {},
   "cell_type": "markdown",
   "metadata": {},
   "source": [
    "for panel tasks such as TSC, TSR, clustering, there are two distinctions to be aware of:\n",
    "\n",
    "* series-to-series transformers transform individual series to series, panels to panels. E.g., instance-wise detrender above\n",
    "* series-to-primitive transformers transform individual series to a set of tabular features. E>g., summary feature extractor\n",
    "\n",
    "either type of transform can be instance-wise:\n",
    "\n",
    "* instance-wise transforms use only the i-th series to transform the i-th series. E.g., instance-wise detrender\n",
    "* non-instance-wise transforms train on all series to transform the i-th series. E.g., PCA, overall mean detrender"
   ]
  },
  {
   "cell_type": "code",
   "execution_count": 32,
   "metadata": {},
   "outputs": [
    {
     "data": {
      "text/html": [
       "<div>\n",
       "<style scoped>\n",
       "    .dataframe tbody tr th:only-of-type {\n",
       "        vertical-align: middle;\n",
       "    }\n",
       "\n",
       "    .dataframe tbody tr th {\n",
       "        vertical-align: top;\n",
       "    }\n",
       "\n",
       "    .dataframe thead th {\n",
       "        text-align: right;\n",
       "    }\n",
       "</style>\n",
       "<table border=\"1\" class=\"dataframe\">\n",
       "  <thead>\n",
       "    <tr style=\"text-align: right;\">\n",
       "      <th></th>\n",
       "      <th>mean</th>\n",
       "      <th>std</th>\n",
       "      <th>min</th>\n",
       "      <th>max</th>\n",
       "      <th>0.1</th>\n",
       "      <th>0.25</th>\n",
       "      <th>0.5</th>\n",
       "      <th>0.75</th>\n",
       "      <th>0.9</th>\n",
       "    </tr>\n",
       "  </thead>\n",
       "  <tbody>\n",
       "    <tr>\n",
       "      <th>0</th>\n",
       "      <td>5.620609e-12</td>\n",
       "      <td>1.0</td>\n",
       "      <td>-2.448026</td>\n",
       "      <td>2.164713</td>\n",
       "      <td>-1.372028</td>\n",
       "      <td>-0.653303</td>\n",
       "      <td>0.019166</td>\n",
       "      <td>0.759680</td>\n",
       "      <td>1.307684</td>\n",
       "    </tr>\n",
       "    <tr>\n",
       "      <th>1</th>\n",
       "      <td>-1.667213e-10</td>\n",
       "      <td>1.0</td>\n",
       "      <td>-2.039291</td>\n",
       "      <td>2.343680</td>\n",
       "      <td>-1.320366</td>\n",
       "      <td>-0.732177</td>\n",
       "      <td>0.012950</td>\n",
       "      <td>0.667696</td>\n",
       "      <td>1.546717</td>\n",
       "    </tr>\n",
       "    <tr>\n",
       "      <th>2</th>\n",
       "      <td>1.287588e-09</td>\n",
       "      <td>1.0</td>\n",
       "      <td>-1.745517</td>\n",
       "      <td>2.461347</td>\n",
       "      <td>-1.132094</td>\n",
       "      <td>-0.841825</td>\n",
       "      <td>-0.139335</td>\n",
       "      <td>0.822082</td>\n",
       "      <td>1.317306</td>\n",
       "    </tr>\n",
       "    <tr>\n",
       "      <th>3</th>\n",
       "      <td>5.105389e-11</td>\n",
       "      <td>1.0</td>\n",
       "      <td>-2.444381</td>\n",
       "      <td>2.478120</td>\n",
       "      <td>-1.256323</td>\n",
       "      <td>-0.662851</td>\n",
       "      <td>-0.100135</td>\n",
       "      <td>0.692753</td>\n",
       "      <td>1.336678</td>\n",
       "    </tr>\n",
       "    <tr>\n",
       "      <th>4</th>\n",
       "      <td>6.920375e-10</td>\n",
       "      <td>1.0</td>\n",
       "      <td>-1.622146</td>\n",
       "      <td>3.179546</td>\n",
       "      <td>-1.027063</td>\n",
       "      <td>-0.706940</td>\n",
       "      <td>-0.201367</td>\n",
       "      <td>0.472113</td>\n",
       "      <td>1.472487</td>\n",
       "    </tr>\n",
       "    <tr>\n",
       "      <th>...</th>\n",
       "      <td>...</td>\n",
       "      <td>...</td>\n",
       "      <td>...</td>\n",
       "      <td>...</td>\n",
       "      <td>...</td>\n",
       "      <td>...</td>\n",
       "      <td>...</td>\n",
       "      <td>...</td>\n",
       "      <td>...</td>\n",
       "    </tr>\n",
       "    <tr>\n",
       "      <th>437</th>\n",
       "      <td>-6.483747e-10</td>\n",
       "      <td>1.0</td>\n",
       "      <td>-2.526089</td>\n",
       "      <td>2.527529</td>\n",
       "      <td>-1.321163</td>\n",
       "      <td>-0.509245</td>\n",
       "      <td>0.007864</td>\n",
       "      <td>0.392470</td>\n",
       "      <td>1.356985</td>\n",
       "    </tr>\n",
       "    <tr>\n",
       "      <th>438</th>\n",
       "      <td>5.377752e-10</td>\n",
       "      <td>1.0</td>\n",
       "      <td>-2.158140</td>\n",
       "      <td>1.781019</td>\n",
       "      <td>-1.398347</td>\n",
       "      <td>-0.725591</td>\n",
       "      <td>0.120500</td>\n",
       "      <td>0.816865</td>\n",
       "      <td>1.279366</td>\n",
       "    </tr>\n",
       "    <tr>\n",
       "      <th>439</th>\n",
       "      <td>-8.843326e-10</td>\n",
       "      <td>1.0</td>\n",
       "      <td>-1.800577</td>\n",
       "      <td>2.510015</td>\n",
       "      <td>-1.098513</td>\n",
       "      <td>-0.776098</td>\n",
       "      <td>-0.192350</td>\n",
       "      <td>0.671332</td>\n",
       "      <td>1.495224</td>\n",
       "    </tr>\n",
       "    <tr>\n",
       "      <th>440</th>\n",
       "      <td>3.763466e-10</td>\n",
       "      <td>1.0</td>\n",
       "      <td>-2.054170</td>\n",
       "      <td>2.256243</td>\n",
       "      <td>-1.293714</td>\n",
       "      <td>-0.789295</td>\n",
       "      <td>0.130258</td>\n",
       "      <td>0.521019</td>\n",
       "      <td>1.338492</td>\n",
       "    </tr>\n",
       "    <tr>\n",
       "      <th>441</th>\n",
       "      <td>-1.426464e-09</td>\n",
       "      <td>1.0</td>\n",
       "      <td>-2.064585</td>\n",
       "      <td>2.101704</td>\n",
       "      <td>-1.417956</td>\n",
       "      <td>-0.740283</td>\n",
       "      <td>0.005634</td>\n",
       "      <td>0.851554</td>\n",
       "      <td>1.297536</td>\n",
       "    </tr>\n",
       "  </tbody>\n",
       "</table>\n",
       "<p>442 rows × 9 columns</p>\n",
       "</div>"
      ],
      "text/plain": [
       "             mean  std       min       max       0.1      0.25       0.5      0.75       0.9\n",
       "0    5.620609e-12  1.0 -2.448026  2.164713 -1.372028 -0.653303  0.019166  0.759680  1.307684\n",
       "1   -1.667213e-10  1.0 -2.039291  2.343680 -1.320366 -0.732177  0.012950  0.667696  1.546717\n",
       "2    1.287588e-09  1.0 -1.745517  2.461347 -1.132094 -0.841825 -0.139335  0.822082  1.317306\n",
       "3    5.105389e-11  1.0 -2.444381  2.478120 -1.256323 -0.662851 -0.100135  0.692753  1.336678\n",
       "4    6.920375e-10  1.0 -1.622146  3.179546 -1.027063 -0.706940 -0.201367  0.472113  1.472487\n",
       "..            ...  ...       ...       ...       ...       ...       ...       ...       ...\n",
       "437 -6.483747e-10  1.0 -2.526089  2.527529 -1.321163 -0.509245  0.007864  0.392470  1.356985\n",
       "438  5.377752e-10  1.0 -2.158140  1.781019 -1.398347 -0.725591  0.120500  0.816865  1.279366\n",
       "439 -8.843326e-10  1.0 -1.800577  2.510015 -1.098513 -0.776098 -0.192350  0.671332  1.495224\n",
       "440  3.763466e-10  1.0 -2.054170  2.256243 -1.293714 -0.789295  0.130258  0.521019  1.338492\n",
       "441 -1.426464e-09  1.0 -2.064585  2.101704 -1.417956 -0.740283  0.005634  0.851554  1.297536\n",
       "\n",
       "[442 rows x 9 columns]"
      ]
     },
     "execution_count": 32,
     "metadata": {},
     "output_type": "execute_result"
    }
   ],
   "source": [
    "# example of a series-to-primitive transformer\n",
    "from sktime.transformations.series.summarize import SummaryTransformer\n",
    "\n",
    "# specify summary transformer\n",
    "summary_trafo = SummaryTransformer()\n",
    "\n",
    "# extract summary features - one per instance in the panel\n",
    "X_summaries = summary_trafo.fit_transform(X)\n",
    "X_summaries"
   ]
  },
  {
   "attachments": {},
   "cell_type": "markdown",
   "metadata": {},
   "source": [
    "just like classifiers, we can search for transformers of either type via the right tag:\n",
    "\n",
    "* `\"scitype:transform-input\"` and `\"scitype:transform-output\"` define input and output, e.g., \"series-to-series\" (both are scitype strings)\n",
    "* `\"scitype:instancewise\"` is boolean and tells us whether the transform is instance-wise"
   ]
  },
  {
   "cell_type": "code",
   "execution_count": 33,
   "metadata": {},
   "outputs": [
    {
     "data": {
      "text/html": [
       "<div>\n",
       "<style scoped>\n",
       "    .dataframe tbody tr th:only-of-type {\n",
       "        vertical-align: middle;\n",
       "    }\n",
       "\n",
       "    .dataframe tbody tr th {\n",
       "        vertical-align: top;\n",
       "    }\n",
       "\n",
       "    .dataframe thead th {\n",
       "        text-align: right;\n",
       "    }\n",
       "</style>\n",
       "<table border=\"1\" class=\"dataframe\">\n",
       "  <thead>\n",
       "    <tr style=\"text-align: right;\">\n",
       "      <th></th>\n",
       "      <th>name</th>\n",
       "      <th>object</th>\n",
       "    </tr>\n",
       "  </thead>\n",
       "  <tbody>\n",
       "    <tr>\n",
       "      <th>0</th>\n",
       "      <td>Catch22</td>\n",
       "      <td>&lt;class 'sktime.transformations.panel.catch22.C...</td>\n",
       "    </tr>\n",
       "    <tr>\n",
       "      <th>1</th>\n",
       "      <td>Catch22Wrapper</td>\n",
       "      <td>&lt;class 'sktime.transformations.panel.catch22wr...</td>\n",
       "    </tr>\n",
       "    <tr>\n",
       "      <th>2</th>\n",
       "      <td>FittedParamExtractor</td>\n",
       "      <td>&lt;class 'sktime.transformations.panel.summarize...</td>\n",
       "    </tr>\n",
       "    <tr>\n",
       "      <th>3</th>\n",
       "      <td>RandomIntervalFeatureExtractor</td>\n",
       "      <td>&lt;class 'sktime.transformations.panel.summarize...</td>\n",
       "    </tr>\n",
       "    <tr>\n",
       "      <th>4</th>\n",
       "      <td>RandomIntervals</td>\n",
       "      <td>&lt;class 'sktime.transformations.panel.random_in...</td>\n",
       "    </tr>\n",
       "    <tr>\n",
       "      <th>5</th>\n",
       "      <td>RandomShapeletTransform</td>\n",
       "      <td>&lt;class 'sktime.transformations.panel.shapelet_...</td>\n",
       "    </tr>\n",
       "    <tr>\n",
       "      <th>6</th>\n",
       "      <td>SignatureTransformer</td>\n",
       "      <td>&lt;class 'sktime.transformations.panel.signature...</td>\n",
       "    </tr>\n",
       "    <tr>\n",
       "      <th>7</th>\n",
       "      <td>SummaryTransformer</td>\n",
       "      <td>&lt;class 'sktime.transformations.series.summariz...</td>\n",
       "    </tr>\n",
       "    <tr>\n",
       "      <th>8</th>\n",
       "      <td>TSFreshFeatureExtractor</td>\n",
       "      <td>&lt;class 'sktime.transformations.panel.tsfresh.T...</td>\n",
       "    </tr>\n",
       "    <tr>\n",
       "      <th>9</th>\n",
       "      <td>Tabularizer</td>\n",
       "      <td>&lt;class 'sktime.transformations.panel.reduce.Ta...</td>\n",
       "    </tr>\n",
       "    <tr>\n",
       "      <th>10</th>\n",
       "      <td>TimeBinner</td>\n",
       "      <td>&lt;class 'sktime.transformations.panel.reduce.Ti...</td>\n",
       "    </tr>\n",
       "  </tbody>\n",
       "</table>\n",
       "</div>"
      ],
      "text/plain": [
       "                              name                                             object\n",
       "0                          Catch22  <class 'sktime.transformations.panel.catch22.C...\n",
       "1                   Catch22Wrapper  <class 'sktime.transformations.panel.catch22wr...\n",
       "2             FittedParamExtractor  <class 'sktime.transformations.panel.summarize...\n",
       "3   RandomIntervalFeatureExtractor  <class 'sktime.transformations.panel.summarize...\n",
       "4                  RandomIntervals  <class 'sktime.transformations.panel.random_in...\n",
       "5          RandomShapeletTransform  <class 'sktime.transformations.panel.shapelet_...\n",
       "6             SignatureTransformer  <class 'sktime.transformations.panel.signature...\n",
       "7               SummaryTransformer  <class 'sktime.transformations.series.summariz...\n",
       "8          TSFreshFeatureExtractor  <class 'sktime.transformations.panel.tsfresh.T...\n",
       "9                      Tabularizer  <class 'sktime.transformations.panel.reduce.Ta...\n",
       "10                      TimeBinner  <class 'sktime.transformations.panel.reduce.Ti..."
      ]
     },
     "execution_count": 33,
     "metadata": {},
     "output_type": "execute_result"
    }
   ],
   "source": [
    "# example: looking for all series-to-primitive transformers that are instance-wise\n",
    "from sktime.registry import all_estimators\n",
    "\n",
    "all_estimators(\n",
    "    \"transformer\",\n",
    "    as_dataframe=True,\n",
    "    filter_tags={\n",
    "        \"scitype:transform-input\": \"Series\",\n",
    "        \"scitype:transform-output\": \"Primitives\",\n",
    "        \"scitype:instancewise\": True,\n",
    "    },\n",
    ")"
   ]
  },
  {
   "attachments": {},
   "cell_type": "markdown",
   "metadata": {},
   "source": [
    "Further details on transformations and feature extraction can be found in the tutorial 3, transformers.\n",
    "\n",
    "All composition steps therein (e.g., chaining, column subsetting) work together with all estimator types in `sktime`, including classifiers, regressors, clusterers."
   ]
  },
  {
   "attachments": {},
   "cell_type": "markdown",
   "metadata": {},
   "source": [
    "### 2.4.2 Pipelines for time series panel tasks"
   ]
  },
  {
   "attachments": {},
   "cell_type": "markdown",
   "metadata": {},
   "source": [
    "all panel estimators pipeline with `sktime` transformers, via the `*` dunder or `make_pipeline`.\n",
    "\n",
    "The pipeline does the following:\n",
    "\n",
    "* in `fit`: runs the transformers' `fit_transform` in sequence, then `fit` of the panel estimator\n",
    "* in `predict`, runs the fitted transformers' `transform` in sequence, then `predict` of the panel estimator\n",
    "\n",
    "(same logic as for `sklearn` pipelines)"
   ]
  },
  {
   "cell_type": "code",
   "execution_count": 34,
   "metadata": {},
   "outputs": [
    {
     "data": {
      "text/html": [
       "<style>#sk-0392209e-6dbd-485c-a890-e9ebfc9cb785 {color: black;background-color: white;}#sk-0392209e-6dbd-485c-a890-e9ebfc9cb785 pre{padding: 0;}#sk-0392209e-6dbd-485c-a890-e9ebfc9cb785 div.sk-toggleable {background-color: white;}#sk-0392209e-6dbd-485c-a890-e9ebfc9cb785 label.sk-toggleable__label {cursor: pointer;display: block;width: 100%;margin-bottom: 0;padding: 0.3em;box-sizing: border-box;text-align: center;}#sk-0392209e-6dbd-485c-a890-e9ebfc9cb785 label.sk-toggleable__label-arrow:before {content: \"▸\";float: left;margin-right: 0.25em;color: #696969;}#sk-0392209e-6dbd-485c-a890-e9ebfc9cb785 label.sk-toggleable__label-arrow:hover:before {color: black;}#sk-0392209e-6dbd-485c-a890-e9ebfc9cb785 div.sk-estimator:hover label.sk-toggleable__label-arrow:before {color: black;}#sk-0392209e-6dbd-485c-a890-e9ebfc9cb785 div.sk-toggleable__content {max-height: 0;max-width: 0;overflow: hidden;text-align: left;background-color: #f0f8ff;}#sk-0392209e-6dbd-485c-a890-e9ebfc9cb785 div.sk-toggleable__content pre {margin: 0.2em;color: black;border-radius: 0.25em;background-color: #f0f8ff;}#sk-0392209e-6dbd-485c-a890-e9ebfc9cb785 input.sk-toggleable__control:checked~div.sk-toggleable__content {max-height: 200px;max-width: 100%;overflow: auto;}#sk-0392209e-6dbd-485c-a890-e9ebfc9cb785 input.sk-toggleable__control:checked~label.sk-toggleable__label-arrow:before {content: \"▾\";}#sk-0392209e-6dbd-485c-a890-e9ebfc9cb785 div.sk-estimator input.sk-toggleable__control:checked~label.sk-toggleable__label {background-color: #d4ebff;}#sk-0392209e-6dbd-485c-a890-e9ebfc9cb785 div.sk-label input.sk-toggleable__control:checked~label.sk-toggleable__label {background-color: #d4ebff;}#sk-0392209e-6dbd-485c-a890-e9ebfc9cb785 input.sk-hidden--visually {border: 0;clip: rect(1px 1px 1px 1px);clip: rect(1px, 1px, 1px, 1px);height: 1px;margin: -1px;overflow: hidden;padding: 0;position: absolute;width: 1px;}#sk-0392209e-6dbd-485c-a890-e9ebfc9cb785 div.sk-estimator {font-family: monospace;background-color: #f0f8ff;border: 1px dotted black;border-radius: 0.25em;box-sizing: border-box;margin-bottom: 0.5em;}#sk-0392209e-6dbd-485c-a890-e9ebfc9cb785 div.sk-estimator:hover {background-color: #d4ebff;}#sk-0392209e-6dbd-485c-a890-e9ebfc9cb785 div.sk-parallel-item::after {content: \"\";width: 100%;border-bottom: 1px solid gray;flex-grow: 1;}#sk-0392209e-6dbd-485c-a890-e9ebfc9cb785 div.sk-label:hover label.sk-toggleable__label {background-color: #d4ebff;}#sk-0392209e-6dbd-485c-a890-e9ebfc9cb785 div.sk-serial::before {content: \"\";position: absolute;border-left: 1px solid gray;box-sizing: border-box;top: 2em;bottom: 0;left: 50%;}#sk-0392209e-6dbd-485c-a890-e9ebfc9cb785 div.sk-serial {display: flex;flex-direction: column;align-items: center;background-color: white;padding-right: 0.2em;padding-left: 0.2em;}#sk-0392209e-6dbd-485c-a890-e9ebfc9cb785 div.sk-item {z-index: 1;}#sk-0392209e-6dbd-485c-a890-e9ebfc9cb785 div.sk-parallel {display: flex;align-items: stretch;justify-content: center;background-color: white;}#sk-0392209e-6dbd-485c-a890-e9ebfc9cb785 div.sk-parallel::before {content: \"\";position: absolute;border-left: 1px solid gray;box-sizing: border-box;top: 2em;bottom: 0;left: 50%;}#sk-0392209e-6dbd-485c-a890-e9ebfc9cb785 div.sk-parallel-item {display: flex;flex-direction: column;position: relative;background-color: white;}#sk-0392209e-6dbd-485c-a890-e9ebfc9cb785 div.sk-parallel-item:first-child::after {align-self: flex-end;width: 50%;}#sk-0392209e-6dbd-485c-a890-e9ebfc9cb785 div.sk-parallel-item:last-child::after {align-self: flex-start;width: 50%;}#sk-0392209e-6dbd-485c-a890-e9ebfc9cb785 div.sk-parallel-item:only-child::after {width: 0;}#sk-0392209e-6dbd-485c-a890-e9ebfc9cb785 div.sk-dashed-wrapped {border: 1px dashed gray;margin: 0 0.4em 0.5em 0.4em;box-sizing: border-box;padding-bottom: 0.4em;background-color: white;position: relative;}#sk-0392209e-6dbd-485c-a890-e9ebfc9cb785 div.sk-label label {font-family: monospace;font-weight: bold;background-color: white;display: inline-block;line-height: 1.2em;}#sk-0392209e-6dbd-485c-a890-e9ebfc9cb785 div.sk-label-container {position: relative;z-index: 2;text-align: center;}#sk-0392209e-6dbd-485c-a890-e9ebfc9cb785 div.sk-container {/* jupyter's `normalize.less` sets `[hidden] { display: none; }` but bootstrap.min.css set `[hidden] { display: none !important; }` so we also need the `!important` here to be able to override the default hidden behavior on the sphinx rendered scikit-learn.org. See: https://github.com/scikit-learn/scikit-learn/issues/21755 */display: inline-block !important;position: relative;}#sk-0392209e-6dbd-485c-a890-e9ebfc9cb785 div.sk-text-repr-fallback {display: none;}</style><div id='sk-0392209e-6dbd-485c-a890-e9ebfc9cb785' class=\"sk-top-container\"><div class=\"sk-text-repr-fallback\"><pre>ClassifierPipeline(classifier=KNeighborsTimeSeriesClassifier(),\n",
       "                   transformers=[ExponentTransformer()])</pre><b>Please rerun this cell to show the HTML repr or trust the notebook.</b></div><div class=\"sk-container\" hidden><div class=\"sk-item sk-dashed-wrapped\"><div class='sk-label-container'><div class=\"sk-label sk-toggleable\"><input class=\"sk-toggleable__control sk-hidden--visually\" id=UUID('99023044-c031-434a-8dff-5f9817d608fb') type=\"checkbox\" ><label for=UUID('99023044-c031-434a-8dff-5f9817d608fb') class='sk-toggleable__label sk-toggleable__label-arrow'>ClassifierPipeline</label><div class=\"sk-toggleable__content\"><pre>ClassifierPipeline(classifier=KNeighborsTimeSeriesClassifier(),\n",
       "                   transformers=[ExponentTransformer()])</pre></div></div></div><div class=\"sk-parallel\"><div class=\"sk-parallel-item\"><div class=\"sk-item\"><div class=\"sk-serial\"><div class='sk-item'><div class=\"sk-estimator sk-toggleable\"><input class=\"sk-toggleable__control sk-hidden--visually\" id=UUID('a39a39a6-290b-4757-87b9-73616f41dd70') type=\"checkbox\" ><label for=UUID('a39a39a6-290b-4757-87b9-73616f41dd70') class='sk-toggleable__label sk-toggleable__label-arrow'>KNeighborsTimeSeriesClassifier</label><div class=\"sk-toggleable__content\"><pre>KNeighborsTimeSeriesClassifier()</pre></div></div></div></div></div></div><div class=\"sk-parallel-item\"><div class=\"sk-item\"><div class=\"sk-serial\"><div class='sk-item'><div class=\"sk-estimator sk-toggleable\"><input class=\"sk-toggleable__control sk-hidden--visually\" id=UUID('8409ff02-4c5f-4037-9718-67fc980665c9') type=\"checkbox\" ><label for=UUID('8409ff02-4c5f-4037-9718-67fc980665c9') class='sk-toggleable__label sk-toggleable__label-arrow'>ExponentTransformer</label><div class=\"sk-toggleable__content\"><pre>ExponentTransformer()</pre></div></div></div></div></div></div></div></div></div></div>"
      ],
      "text/plain": [
       "ClassifierPipeline(classifier=KNeighborsTimeSeriesClassifier(),\n",
       "                   transformers=[ExponentTransformer()])"
      ]
     },
     "execution_count": 34,
     "metadata": {},
     "output_type": "execute_result"
    }
   ],
   "source": [
    "from sktime.classification.distance_based import KNeighborsTimeSeriesClassifier\n",
    "from sktime.transformations.series.exponent import ExponentTransformer\n",
    "\n",
    "pipe = ExponentTransformer() * KNeighborsTimeSeriesClassifier()\n",
    "\n",
    "# this constructs a ClassifierPipeline, which is also a classifier\n",
    "pipe"
   ]
  },
  {
   "cell_type": "code",
   "execution_count": 35,
   "metadata": {},
   "outputs": [],
   "source": [
    "# alternative to construct:\n",
    "from sktime.pipeline import make_pipeline\n",
    "\n",
    "pipe = make_pipeline(ExponentTransformer(), KNeighborsTimeSeriesClassifier())"
   ]
  },
  {
   "cell_type": "code",
   "execution_count": 36,
   "metadata": {},
   "outputs": [
    {
     "data": {
      "text/html": [
       "<style>#sk-cd2279c2-bda7-4b31-a6d5-ded9c486c33f {color: black;background-color: white;}#sk-cd2279c2-bda7-4b31-a6d5-ded9c486c33f pre{padding: 0;}#sk-cd2279c2-bda7-4b31-a6d5-ded9c486c33f div.sk-toggleable {background-color: white;}#sk-cd2279c2-bda7-4b31-a6d5-ded9c486c33f label.sk-toggleable__label {cursor: pointer;display: block;width: 100%;margin-bottom: 0;padding: 0.3em;box-sizing: border-box;text-align: center;}#sk-cd2279c2-bda7-4b31-a6d5-ded9c486c33f label.sk-toggleable__label-arrow:before {content: \"▸\";float: left;margin-right: 0.25em;color: #696969;}#sk-cd2279c2-bda7-4b31-a6d5-ded9c486c33f label.sk-toggleable__label-arrow:hover:before {color: black;}#sk-cd2279c2-bda7-4b31-a6d5-ded9c486c33f div.sk-estimator:hover label.sk-toggleable__label-arrow:before {color: black;}#sk-cd2279c2-bda7-4b31-a6d5-ded9c486c33f div.sk-toggleable__content {max-height: 0;max-width: 0;overflow: hidden;text-align: left;background-color: #f0f8ff;}#sk-cd2279c2-bda7-4b31-a6d5-ded9c486c33f div.sk-toggleable__content pre {margin: 0.2em;color: black;border-radius: 0.25em;background-color: #f0f8ff;}#sk-cd2279c2-bda7-4b31-a6d5-ded9c486c33f input.sk-toggleable__control:checked~div.sk-toggleable__content {max-height: 200px;max-width: 100%;overflow: auto;}#sk-cd2279c2-bda7-4b31-a6d5-ded9c486c33f input.sk-toggleable__control:checked~label.sk-toggleable__label-arrow:before {content: \"▾\";}#sk-cd2279c2-bda7-4b31-a6d5-ded9c486c33f div.sk-estimator input.sk-toggleable__control:checked~label.sk-toggleable__label {background-color: #d4ebff;}#sk-cd2279c2-bda7-4b31-a6d5-ded9c486c33f div.sk-label input.sk-toggleable__control:checked~label.sk-toggleable__label {background-color: #d4ebff;}#sk-cd2279c2-bda7-4b31-a6d5-ded9c486c33f input.sk-hidden--visually {border: 0;clip: rect(1px 1px 1px 1px);clip: rect(1px, 1px, 1px, 1px);height: 1px;margin: -1px;overflow: hidden;padding: 0;position: absolute;width: 1px;}#sk-cd2279c2-bda7-4b31-a6d5-ded9c486c33f div.sk-estimator {font-family: monospace;background-color: #f0f8ff;border: 1px dotted black;border-radius: 0.25em;box-sizing: border-box;margin-bottom: 0.5em;}#sk-cd2279c2-bda7-4b31-a6d5-ded9c486c33f div.sk-estimator:hover {background-color: #d4ebff;}#sk-cd2279c2-bda7-4b31-a6d5-ded9c486c33f div.sk-parallel-item::after {content: \"\";width: 100%;border-bottom: 1px solid gray;flex-grow: 1;}#sk-cd2279c2-bda7-4b31-a6d5-ded9c486c33f div.sk-label:hover label.sk-toggleable__label {background-color: #d4ebff;}#sk-cd2279c2-bda7-4b31-a6d5-ded9c486c33f div.sk-serial::before {content: \"\";position: absolute;border-left: 1px solid gray;box-sizing: border-box;top: 2em;bottom: 0;left: 50%;}#sk-cd2279c2-bda7-4b31-a6d5-ded9c486c33f div.sk-serial {display: flex;flex-direction: column;align-items: center;background-color: white;padding-right: 0.2em;padding-left: 0.2em;}#sk-cd2279c2-bda7-4b31-a6d5-ded9c486c33f div.sk-item {z-index: 1;}#sk-cd2279c2-bda7-4b31-a6d5-ded9c486c33f div.sk-parallel {display: flex;align-items: stretch;justify-content: center;background-color: white;}#sk-cd2279c2-bda7-4b31-a6d5-ded9c486c33f div.sk-parallel::before {content: \"\";position: absolute;border-left: 1px solid gray;box-sizing: border-box;top: 2em;bottom: 0;left: 50%;}#sk-cd2279c2-bda7-4b31-a6d5-ded9c486c33f div.sk-parallel-item {display: flex;flex-direction: column;position: relative;background-color: white;}#sk-cd2279c2-bda7-4b31-a6d5-ded9c486c33f div.sk-parallel-item:first-child::after {align-self: flex-end;width: 50%;}#sk-cd2279c2-bda7-4b31-a6d5-ded9c486c33f div.sk-parallel-item:last-child::after {align-self: flex-start;width: 50%;}#sk-cd2279c2-bda7-4b31-a6d5-ded9c486c33f div.sk-parallel-item:only-child::after {width: 0;}#sk-cd2279c2-bda7-4b31-a6d5-ded9c486c33f div.sk-dashed-wrapped {border: 1px dashed gray;margin: 0 0.4em 0.5em 0.4em;box-sizing: border-box;padding-bottom: 0.4em;background-color: white;position: relative;}#sk-cd2279c2-bda7-4b31-a6d5-ded9c486c33f div.sk-label label {font-family: monospace;font-weight: bold;background-color: white;display: inline-block;line-height: 1.2em;}#sk-cd2279c2-bda7-4b31-a6d5-ded9c486c33f div.sk-label-container {position: relative;z-index: 2;text-align: center;}#sk-cd2279c2-bda7-4b31-a6d5-ded9c486c33f div.sk-container {/* jupyter's `normalize.less` sets `[hidden] { display: none; }` but bootstrap.min.css set `[hidden] { display: none !important; }` so we also need the `!important` here to be able to override the default hidden behavior on the sphinx rendered scikit-learn.org. See: https://github.com/scikit-learn/scikit-learn/issues/21755 */display: inline-block !important;position: relative;}#sk-cd2279c2-bda7-4b31-a6d5-ded9c486c33f div.sk-text-repr-fallback {display: none;}</style><div id='sk-cd2279c2-bda7-4b31-a6d5-ded9c486c33f' class=\"sk-top-container\"><div class=\"sk-text-repr-fallback\"><pre>ClassifierPipeline(classifier=KNeighborsTimeSeriesClassifier(),\n",
       "                   transformers=[ExponentTransformer()])</pre><b>Please rerun this cell to show the HTML repr or trust the notebook.</b></div><div class=\"sk-container\" hidden><div class=\"sk-item sk-dashed-wrapped\"><div class='sk-label-container'><div class=\"sk-label sk-toggleable\"><input class=\"sk-toggleable__control sk-hidden--visually\" id=UUID('7a5e1062-a1e0-44ce-8483-985c09b48d74') type=\"checkbox\" ><label for=UUID('7a5e1062-a1e0-44ce-8483-985c09b48d74') class='sk-toggleable__label sk-toggleable__label-arrow'>ClassifierPipeline</label><div class=\"sk-toggleable__content\"><pre>ClassifierPipeline(classifier=KNeighborsTimeSeriesClassifier(),\n",
       "                   transformers=[ExponentTransformer()])</pre></div></div></div><div class=\"sk-parallel\"><div class=\"sk-parallel-item\"><div class=\"sk-item\"><div class=\"sk-serial\"><div class='sk-item'><div class=\"sk-estimator sk-toggleable\"><input class=\"sk-toggleable__control sk-hidden--visually\" id=UUID('7f7f747c-4c39-4e5b-be87-b4cdfc2d6bca') type=\"checkbox\" ><label for=UUID('7f7f747c-4c39-4e5b-be87-b4cdfc2d6bca') class='sk-toggleable__label sk-toggleable__label-arrow'>KNeighborsTimeSeriesClassifier</label><div class=\"sk-toggleable__content\"><pre>KNeighborsTimeSeriesClassifier()</pre></div></div></div></div></div></div><div class=\"sk-parallel-item\"><div class=\"sk-item\"><div class=\"sk-serial\"><div class='sk-item'><div class=\"sk-estimator sk-toggleable\"><input class=\"sk-toggleable__control sk-hidden--visually\" id=UUID('45bf8c7e-3df7-474f-816f-08fc0d0b70c7') type=\"checkbox\" ><label for=UUID('45bf8c7e-3df7-474f-816f-08fc0d0b70c7') class='sk-toggleable__label sk-toggleable__label-arrow'>ExponentTransformer</label><div class=\"sk-toggleable__content\"><pre>ExponentTransformer()</pre></div></div></div></div></div></div></div></div></div></div>"
      ],
      "text/plain": [
       "ClassifierPipeline(classifier=KNeighborsTimeSeriesClassifier(),\n",
       "                   transformers=[ExponentTransformer()])"
      ]
     },
     "execution_count": 36,
     "metadata": {},
     "output_type": "execute_result"
    }
   ],
   "source": [
    "from sktime.datasets import load_unit_test\n",
    "\n",
    "X_train, y_train = load_unit_test(split=\"TRAIN\")\n",
    "X_test, _ = load_unit_test(split=\"TEST\")\n",
    "\n",
    "# this is a forecaster with the same interface as knn-classifier\n",
    "# first applies exponent transform, then knn-classifier\n",
    "pipe.fit(X_train, y_train)"
   ]
  },
  {
   "attachments": {},
   "cell_type": "markdown",
   "metadata": {},
   "source": [
    "`sktime` transformers pipeline with `sklearn` classifiers!\n",
    "\n",
    "This allows to build \"time series feature extraction then `sklearn` classify`\" pipelines:"
   ]
  },
  {
   "cell_type": "code",
   "execution_count": 37,
   "metadata": {},
   "outputs": [
    {
     "data": {
      "text/html": [
       "<style>#sk-448876ea-d6d6-4931-bc75-332510374b5c {color: black;background-color: white;}#sk-448876ea-d6d6-4931-bc75-332510374b5c pre{padding: 0;}#sk-448876ea-d6d6-4931-bc75-332510374b5c div.sk-toggleable {background-color: white;}#sk-448876ea-d6d6-4931-bc75-332510374b5c label.sk-toggleable__label {cursor: pointer;display: block;width: 100%;margin-bottom: 0;padding: 0.3em;box-sizing: border-box;text-align: center;}#sk-448876ea-d6d6-4931-bc75-332510374b5c label.sk-toggleable__label-arrow:before {content: \"▸\";float: left;margin-right: 0.25em;color: #696969;}#sk-448876ea-d6d6-4931-bc75-332510374b5c label.sk-toggleable__label-arrow:hover:before {color: black;}#sk-448876ea-d6d6-4931-bc75-332510374b5c div.sk-estimator:hover label.sk-toggleable__label-arrow:before {color: black;}#sk-448876ea-d6d6-4931-bc75-332510374b5c div.sk-toggleable__content {max-height: 0;max-width: 0;overflow: hidden;text-align: left;background-color: #f0f8ff;}#sk-448876ea-d6d6-4931-bc75-332510374b5c div.sk-toggleable__content pre {margin: 0.2em;color: black;border-radius: 0.25em;background-color: #f0f8ff;}#sk-448876ea-d6d6-4931-bc75-332510374b5c input.sk-toggleable__control:checked~div.sk-toggleable__content {max-height: 200px;max-width: 100%;overflow: auto;}#sk-448876ea-d6d6-4931-bc75-332510374b5c input.sk-toggleable__control:checked~label.sk-toggleable__label-arrow:before {content: \"▾\";}#sk-448876ea-d6d6-4931-bc75-332510374b5c div.sk-estimator input.sk-toggleable__control:checked~label.sk-toggleable__label {background-color: #d4ebff;}#sk-448876ea-d6d6-4931-bc75-332510374b5c div.sk-label input.sk-toggleable__control:checked~label.sk-toggleable__label {background-color: #d4ebff;}#sk-448876ea-d6d6-4931-bc75-332510374b5c input.sk-hidden--visually {border: 0;clip: rect(1px 1px 1px 1px);clip: rect(1px, 1px, 1px, 1px);height: 1px;margin: -1px;overflow: hidden;padding: 0;position: absolute;width: 1px;}#sk-448876ea-d6d6-4931-bc75-332510374b5c div.sk-estimator {font-family: monospace;background-color: #f0f8ff;border: 1px dotted black;border-radius: 0.25em;box-sizing: border-box;margin-bottom: 0.5em;}#sk-448876ea-d6d6-4931-bc75-332510374b5c div.sk-estimator:hover {background-color: #d4ebff;}#sk-448876ea-d6d6-4931-bc75-332510374b5c div.sk-parallel-item::after {content: \"\";width: 100%;border-bottom: 1px solid gray;flex-grow: 1;}#sk-448876ea-d6d6-4931-bc75-332510374b5c div.sk-label:hover label.sk-toggleable__label {background-color: #d4ebff;}#sk-448876ea-d6d6-4931-bc75-332510374b5c div.sk-serial::before {content: \"\";position: absolute;border-left: 1px solid gray;box-sizing: border-box;top: 2em;bottom: 0;left: 50%;}#sk-448876ea-d6d6-4931-bc75-332510374b5c div.sk-serial {display: flex;flex-direction: column;align-items: center;background-color: white;padding-right: 0.2em;padding-left: 0.2em;}#sk-448876ea-d6d6-4931-bc75-332510374b5c div.sk-item {z-index: 1;}#sk-448876ea-d6d6-4931-bc75-332510374b5c div.sk-parallel {display: flex;align-items: stretch;justify-content: center;background-color: white;}#sk-448876ea-d6d6-4931-bc75-332510374b5c div.sk-parallel::before {content: \"\";position: absolute;border-left: 1px solid gray;box-sizing: border-box;top: 2em;bottom: 0;left: 50%;}#sk-448876ea-d6d6-4931-bc75-332510374b5c div.sk-parallel-item {display: flex;flex-direction: column;position: relative;background-color: white;}#sk-448876ea-d6d6-4931-bc75-332510374b5c div.sk-parallel-item:first-child::after {align-self: flex-end;width: 50%;}#sk-448876ea-d6d6-4931-bc75-332510374b5c div.sk-parallel-item:last-child::after {align-self: flex-start;width: 50%;}#sk-448876ea-d6d6-4931-bc75-332510374b5c div.sk-parallel-item:only-child::after {width: 0;}#sk-448876ea-d6d6-4931-bc75-332510374b5c div.sk-dashed-wrapped {border: 1px dashed gray;margin: 0 0.4em 0.5em 0.4em;box-sizing: border-box;padding-bottom: 0.4em;background-color: white;position: relative;}#sk-448876ea-d6d6-4931-bc75-332510374b5c div.sk-label label {font-family: monospace;font-weight: bold;background-color: white;display: inline-block;line-height: 1.2em;}#sk-448876ea-d6d6-4931-bc75-332510374b5c div.sk-label-container {position: relative;z-index: 2;text-align: center;}#sk-448876ea-d6d6-4931-bc75-332510374b5c div.sk-container {/* jupyter's `normalize.less` sets `[hidden] { display: none; }` but bootstrap.min.css set `[hidden] { display: none !important; }` so we also need the `!important` here to be able to override the default hidden behavior on the sphinx rendered scikit-learn.org. See: https://github.com/scikit-learn/scikit-learn/issues/21755 */display: inline-block !important;position: relative;}#sk-448876ea-d6d6-4931-bc75-332510374b5c div.sk-text-repr-fallback {display: none;}</style><div id='sk-448876ea-d6d6-4931-bc75-332510374b5c' class=\"sk-top-container\"><div class=\"sk-text-repr-fallback\"><pre>SklearnClassifierPipeline(classifier=RandomForestClassifier(),\n",
       "                          transformers=[SummaryTransformer()])</pre><b>Please rerun this cell to show the HTML repr or trust the notebook.</b></div><div class=\"sk-container\" hidden><div class=\"sk-item sk-dashed-wrapped\"><div class='sk-label-container'><div class=\"sk-label sk-toggleable\"><input class=\"sk-toggleable__control sk-hidden--visually\" id=UUID('5cba314a-832f-4fce-b6ab-d4e9ac0463aa') type=\"checkbox\" ><label for=UUID('5cba314a-832f-4fce-b6ab-d4e9ac0463aa') class='sk-toggleable__label sk-toggleable__label-arrow'>SklearnClassifierPipeline</label><div class=\"sk-toggleable__content\"><pre>SklearnClassifierPipeline(classifier=RandomForestClassifier(),\n",
       "                          transformers=[SummaryTransformer()])</pre></div></div></div><div class=\"sk-parallel\"><div class=\"sk-parallel-item\"><div class=\"sk-item\"><div class=\"sk-serial\"><div class='sk-item'><div class=\"sk-estimator sk-toggleable\"><input class=\"sk-toggleable__control sk-hidden--visually\" id=UUID('5e909685-371b-4e14-9462-54f70e49807b') type=\"checkbox\" ><label for=UUID('5e909685-371b-4e14-9462-54f70e49807b') class='sk-toggleable__label sk-toggleable__label-arrow'>RandomForestClassifier</label><div class=\"sk-toggleable__content\"><pre>RandomForestClassifier()</pre></div></div></div></div></div></div><div class=\"sk-parallel-item\"><div class=\"sk-item\"><div class=\"sk-serial\"><div class='sk-item'><div class=\"sk-estimator sk-toggleable\"><input class=\"sk-toggleable__control sk-hidden--visually\" id=UUID('5ff80872-9ef5-438a-af17-1052776dee77') type=\"checkbox\" ><label for=UUID('5ff80872-9ef5-438a-af17-1052776dee77') class='sk-toggleable__label sk-toggleable__label-arrow'>SummaryTransformer</label><div class=\"sk-toggleable__content\"><pre>SummaryTransformer()</pre></div></div></div></div></div></div></div></div></div></div>"
      ],
      "text/plain": [
       "SklearnClassifierPipeline(classifier=RandomForestClassifier(),\n",
       "                          transformers=[SummaryTransformer()])"
      ]
     },
     "execution_count": 37,
     "metadata": {},
     "output_type": "execute_result"
    }
   ],
   "source": [
    "from sklearn.ensemble import RandomForestClassifier\n",
    "from sktime.transformations.series.summarize import SummaryTransformer\n",
    "\n",
    "# specify summary transformer\n",
    "summary_rf = SummaryTransformer() * RandomForestClassifier()\n",
    "\n",
    "summary_rf.fit(X_train, y_train)"
   ]
  },
  {
   "attachments": {},
   "cell_type": "markdown",
   "metadata": {},
   "source": [
    "### 2.4.3 Using transformers to deal with unequal length or missing values"
   ]
  },
  {
   "attachments": {},
   "cell_type": "markdown",
   "metadata": {},
   "source": [
    "pro tip: useful transformers to pipeline are those that \"improve\" capabilities!\n",
    "\n",
    "Search for these transformer tags:\n",
    "\n",
    "* `\"capability:unequal_length:removes\"` - ensures all instances in the panel have equal length afterwards. Examples: padding, cutting, resampling.\n",
    "* `\"capability:missing_values:removes\"` - removes all missing values from the data (e.g., series, panel) passed to it. Example: mean imputation"
   ]
  },
  {
   "cell_type": "code",
   "execution_count": 38,
   "metadata": {},
   "outputs": [
    {
     "data": {
      "text/html": [
       "<div>\n",
       "<style scoped>\n",
       "    .dataframe tbody tr th:only-of-type {\n",
       "        vertical-align: middle;\n",
       "    }\n",
       "\n",
       "    .dataframe tbody tr th {\n",
       "        vertical-align: top;\n",
       "    }\n",
       "\n",
       "    .dataframe thead th {\n",
       "        text-align: right;\n",
       "    }\n",
       "</style>\n",
       "<table border=\"1\" class=\"dataframe\">\n",
       "  <thead>\n",
       "    <tr style=\"text-align: right;\">\n",
       "      <th></th>\n",
       "      <th>name</th>\n",
       "      <th>object</th>\n",
       "    </tr>\n",
       "  </thead>\n",
       "  <tbody>\n",
       "    <tr>\n",
       "      <th>0</th>\n",
       "      <td>ClearSky</td>\n",
       "      <td>&lt;class 'sktime.transformations.series.clear_sk...</td>\n",
       "    </tr>\n",
       "    <tr>\n",
       "      <th>1</th>\n",
       "      <td>IntervalSegmenter</td>\n",
       "      <td>&lt;class 'sktime.transformations.panel.segment.I...</td>\n",
       "    </tr>\n",
       "    <tr>\n",
       "      <th>2</th>\n",
       "      <td>PaddingTransformer</td>\n",
       "      <td>&lt;class 'sktime.transformations.panel.padder.Pa...</td>\n",
       "    </tr>\n",
       "    <tr>\n",
       "      <th>3</th>\n",
       "      <td>RandomIntervalSegmenter</td>\n",
       "      <td>&lt;class 'sktime.transformations.panel.segment.R...</td>\n",
       "    </tr>\n",
       "    <tr>\n",
       "      <th>4</th>\n",
       "      <td>SlopeTransformer</td>\n",
       "      <td>&lt;class 'sktime.transformations.panel.slope.Slo...</td>\n",
       "    </tr>\n",
       "    <tr>\n",
       "      <th>5</th>\n",
       "      <td>TimeBinAggregate</td>\n",
       "      <td>&lt;class 'sktime.transformations.series.binning....</td>\n",
       "    </tr>\n",
       "    <tr>\n",
       "      <th>6</th>\n",
       "      <td>TruncationTransformer</td>\n",
       "      <td>&lt;class 'sktime.transformations.panel.truncatio...</td>\n",
       "    </tr>\n",
       "  </tbody>\n",
       "</table>\n",
       "</div>"
      ],
      "text/plain": [
       "                      name                                             object\n",
       "0                 ClearSky  <class 'sktime.transformations.series.clear_sk...\n",
       "1        IntervalSegmenter  <class 'sktime.transformations.panel.segment.I...\n",
       "2       PaddingTransformer  <class 'sktime.transformations.panel.padder.Pa...\n",
       "3  RandomIntervalSegmenter  <class 'sktime.transformations.panel.segment.R...\n",
       "4         SlopeTransformer  <class 'sktime.transformations.panel.slope.Slo...\n",
       "5         TimeBinAggregate  <class 'sktime.transformations.series.binning....\n",
       "6    TruncationTransformer  <class 'sktime.transformations.panel.truncatio..."
      ]
     },
     "execution_count": 38,
     "metadata": {},
     "output_type": "execute_result"
    }
   ],
   "source": [
    "# all transformers that guarantee that the output is equal length and equal index\n",
    "from sktime.registry import all_estimators\n",
    "\n",
    "all_estimators(\"transformer\", as_dataframe=True, filter_tags={\"capability:unequal_length:removes\": True })"
   ]
  },
  {
   "cell_type": "code",
   "execution_count": 39,
   "metadata": {},
   "outputs": [
    {
     "data": {
      "text/html": [
       "<div>\n",
       "<style scoped>\n",
       "    .dataframe tbody tr th:only-of-type {\n",
       "        vertical-align: middle;\n",
       "    }\n",
       "\n",
       "    .dataframe tbody tr th {\n",
       "        vertical-align: top;\n",
       "    }\n",
       "\n",
       "    .dataframe thead th {\n",
       "        text-align: right;\n",
       "    }\n",
       "</style>\n",
       "<table border=\"1\" class=\"dataframe\">\n",
       "  <thead>\n",
       "    <tr style=\"text-align: right;\">\n",
       "      <th></th>\n",
       "      <th>name</th>\n",
       "      <th>object</th>\n",
       "    </tr>\n",
       "  </thead>\n",
       "  <tbody>\n",
       "    <tr>\n",
       "      <th>0</th>\n",
       "      <td>ClearSky</td>\n",
       "      <td>&lt;class 'sktime.transformations.series.clear_sk...</td>\n",
       "    </tr>\n",
       "    <tr>\n",
       "      <th>1</th>\n",
       "      <td>Imputer</td>\n",
       "      <td>&lt;class 'sktime.transformations.series.impute.I...</td>\n",
       "    </tr>\n",
       "  </tbody>\n",
       "</table>\n",
       "</div>"
      ],
      "text/plain": [
       "       name                                             object\n",
       "0  ClearSky  <class 'sktime.transformations.series.clear_sk...\n",
       "1   Imputer  <class 'sktime.transformations.series.impute.I..."
      ]
     },
     "execution_count": 39,
     "metadata": {},
     "output_type": "execute_result"
    }
   ],
   "source": [
    "# all transformers that guarantee the output has no missing values\n",
    "from sktime.registry import all_estimators\n",
    "\n",
    "all_estimators(\"transformer\", as_dataframe=True, filter_tags={\"capability:missing_values:removes\": True })"
   ]
  },
  {
   "attachments": {},
   "cell_type": "markdown",
   "metadata": {},
   "source": [
    "minor note:\n",
    "\n",
    "some transformers guarantee \"no missing values\" under some conditions but not always, e.g., `TimeBinAggregate`"
   ]
  },
  {
   "attachments": {},
   "cell_type": "markdown",
   "metadata": {},
   "source": [
    "let's check the tags in one example"
   ]
  },
  {
   "cell_type": "code",
   "execution_count": 40,
   "metadata": {},
   "outputs": [
    {
     "data": {
      "text/plain": [
       "{'python_dependencies_alias': {'scikit-learn': 'sklearn'},\n",
       " 'X_inner_mtype': 'numpy3D',\n",
       " 'capability:multivariate': False,\n",
       " 'capability:unequal_length': False,\n",
       " 'capability:missing_values': False,\n",
       " 'capability:train_estimate': False,\n",
       " 'capability:contractable': False,\n",
       " 'capability:multithreading': True,\n",
       " 'capability:predict_proba': True,\n",
       " 'python_version': None,\n",
       " 'requires_cython': False,\n",
       " 'classifier_type': 'distance',\n",
       " 'python_dependencies': 'scikit-learn!=1.3.0'}"
      ]
     },
     "execution_count": 40,
     "metadata": {},
     "output_type": "execute_result"
    }
   ],
   "source": [
    "# list all classifiers in sktime\n",
    "from sktime.classification.feature_based import MatrixProfileClassifier\n",
    "\n",
    "no_missing_clf = MatrixProfileClassifier()\n",
    "\n",
    "no_missing_clf.get_tags()"
   ]
  },
  {
   "cell_type": "code",
   "execution_count": 41,
   "metadata": {},
   "outputs": [
    {
     "data": {
      "text/plain": [
       "{'python_dependencies_alias': {'scikit-learn': 'sklearn'},\n",
       " 'X_inner_mtype': 'pd-multiindex',\n",
       " 'capability:multivariate': False,\n",
       " 'capability:unequal_length': False,\n",
       " 'capability:missing_values': True,\n",
       " 'capability:train_estimate': False,\n",
       " 'capability:contractable': False,\n",
       " 'capability:multithreading': False,\n",
       " 'capability:predict_proba': True,\n",
       " 'python_version': None,\n",
       " 'requires_cython': False}"
      ]
     },
     "execution_count": 41,
     "metadata": {},
     "output_type": "execute_result"
    }
   ],
   "source": [
    "from sktime.transformations.series.impute import Imputer\n",
    "\n",
    "clf_can_do_missing = Imputer() * MatrixProfileClassifier()\n",
    "\n",
    "clf_can_do_missing.get_tags()"
   ]
  },
  {
   "attachments": {},
   "cell_type": "markdown",
   "metadata": {},
   "source": [
    "### 2.4.4 Tuning and model selection"
   ]
  },
  {
   "attachments": {},
   "cell_type": "markdown",
   "metadata": {},
   "source": [
    "`sktime` classifiers are compatible with `sklearn` model selection and composition tools using `sktime` data formats.\n",
    "\n",
    "This extends to grid tuning and cross-validation, as long as `numpy` based formats or length/instance indexed formats are used."
   ]
  },
  {
   "cell_type": "code",
   "execution_count": 42,
   "metadata": {},
   "outputs": [],
   "source": [
    "from sktime.datasets import load_unit_test\n",
    "\n",
    "X_train, y_train = load_unit_test(split=\"TRAIN\")\n",
    "X_test, _ = load_unit_test(split=\"TEST\")\n"
   ]
  },
  {
   "attachments": {},
   "cell_type": "markdown",
   "metadata": {},
   "source": [
    "Cross-validation using the `sklearn` `cross_val_score` and `KFold` functionality:"
   ]
  },
  {
   "cell_type": "code",
   "execution_count": 43,
   "metadata": {},
   "outputs": [
    {
     "data": {
      "text/plain": [
       "array([1. , 0.8, 0.6, 0.8])"
      ]
     },
     "execution_count": 43,
     "metadata": {},
     "output_type": "execute_result"
    }
   ],
   "source": [
    "from sklearn.model_selection import KFold, cross_val_score\n",
    "from sktime.classification.feature_based import MatrixProfileClassifier\n",
    "\n",
    "clf = MatrixProfileClassifier()\n",
    "\n",
    "cross_val_score(clf, X_train, y=y_train, cv=KFold(n_splits=4))"
   ]
  },
  {
   "attachments": {},
   "cell_type": "markdown",
   "metadata": {},
   "source": [
    "Parameter tuning using `sklearn` `GridSearchCV`, we tune the _k_ and distance measure for a K-NN classifier:"
   ]
  },
  {
   "cell_type": "code",
   "execution_count": 44,
   "metadata": {},
   "outputs": [],
   "source": [
    "from sklearn.model_selection import GridSearchCV\n",
    "\n",
    "from sktime.classification.distance_based import KNeighborsTimeSeriesClassifier\n",
    "\n",
    "knn = KNeighborsTimeSeriesClassifier()\n",
    "param_grid = {\"n_neighbors\": [1, 5], \"distance\": [\"euclidean\", \"dtw\"]}\n",
    "parameter_tuning_method = GridSearchCV(knn, param_grid, cv=KFold(n_splits=4))\n",
    "\n",
    "parameter_tuning_method.fit(X_train, y_train)\n",
    "y_pred = parameter_tuning_method.predict(X_test)"
   ]
  },
  {
   "attachments": {},
   "cell_type": "markdown",
   "metadata": {},
   "source": [
    "### 2.4.5 Advanced Composition cheat sheet - AutoML, bagging, ensembles"
   ]
  },
  {
   "attachments": {},
   "cell_type": "markdown",
   "metadata": {},
   "source": [
    "* common ensembling patterns: `BaggingClassifier`, `WeightedEnsembleClassifier`\n",
    "* composability with `sklearn` classifier, regressor building blocks still applies\n",
    "* AutoML can be achieved by combining tuning with `MultiplexClassifier` or `MultiplexTransformer`"
   ]
  },
  {
   "attachments": {},
   "cell_type": "markdown",
   "metadata": {},
   "source": [
    "pro tip: bagging with a fixed single column subset can be used to turn an univariate classifier into a multivariate classifier!"
   ]
  },
  {
   "attachments": {},
   "cell_type": "markdown",
   "metadata": {},
   "source": [
    "## 2.5 Appendix - Extension guide"
   ]
  },
  {
   "attachments": {},
   "cell_type": "markdown",
   "metadata": {},
   "source": [
    "`sktime` is meant to be easily extensible, for direct contribution to `sktime` as well as for local/private extension with custom methods.\n",
    "\n",
    "To extend `sktime` with a new local or contributed estimator, a good workflow to follow is:\n",
    "\n",
    "0. find the right extension template for the type of estimator you want to add - e.g., classifier, regressor, clusterer, etc. The extension templates are located in the [`extension_templates](https://github.com/sktime/sktime/blob/main/extension_templates) directory\n",
    "1. read through the extension template - this is a `python` file with `todo` blocks that mark the places in which changes need to be added.\n",
    "2. optionally, if you are planning any major surgeries to the interface: look at the base class - note that \"ordinary\" extension (e.g., new algorithm) should be easily doable without this.\n",
    "3. copy the extension template to a local folder in your own repository (local/private extension), or to a suitable location in your clone of the `sktime` or affiliated repository (if contributed extension), inside `sktime.[name_of_task]`; rename the file and update the file docstring appropriately.\n",
    "4. address the \"todo\" parts. Usually, this means: changing the name of the class, setting the tag values, specifying hyper-parameters, filling in `__init__`, `_fit`, `_predict` and/or other methods (for details see the extension template). You can add private methods as long as they do not override the default public interface. For more details, see the extension template.\n",
    "5. to test your estimator manually: import your estimator and run it in the basic vignettes above.\n",
    "6. to test your estimator automatically: call `sktime.tests.test_all_estimators.check_estimator` on your estimator. You can call this on a class or object instance. Ensure you have specified test parameters in the `get_test_params` method, according to the extension template.\n",
    "\n",
    "In case of direct contribution to `sktime` or one of its affiliated packages, additionally:\n",
    "* add yourself as an author to the code, and to the `CODEOWNERS` for the new estimator file(s).\n",
    "* create a pull request that contains only the new estimators (and their inheritance tree, if it's not just one class), as well as the automated tests as described above.\n",
    "* in the pull request, describe the estimator and optimally provide a publication or other technical reference for the strategy it implements.\n",
    "* before making the pull request, ensure that you have all necessary permissions to contribute the code to a permissive license (BSD-3) open source project."
   ]
  },
  {
   "attachments": {},
   "cell_type": "markdown",
   "metadata": {},
   "source": [
    "---\n",
    "\n",
    "### Credits: notebook 11 - time series panel tasks - classification, regression, clustering\n",
    "\n",
    "notebook creation: fkiraly, achieveordie"
   ]
  }
 ],
 "metadata": {
  "kernelspec": {
   "display_name": "sktime-dl",
   "language": "python",
   "name": "python3"
  },
  "language_info": {
   "codemirror_mode": {
    "name": "ipython",
    "version": 3
   },
   "file_extension": ".py",
   "mimetype": "text/x-python",
   "name": "python",
   "nbconvert_exporter": "python",
   "pygments_lexer": "ipython3",
   "version": "3.11.3"
  }
 },
 "nbformat": 4,
 "nbformat_minor": 2
}
